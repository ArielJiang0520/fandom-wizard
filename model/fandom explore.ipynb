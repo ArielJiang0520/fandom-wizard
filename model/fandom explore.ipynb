{
 "cells": [
  {
   "cell_type": "code",
   "execution_count": 20,
   "id": "found-perception",
   "metadata": {},
   "outputs": [],
   "source": [
    "import pandas as pd\n",
    "import numpy as np\n",
    "from itertools import chain\n",
    "from collections import Counter, defaultdict\n",
    "import pickle\n",
    "import re\n",
    "from tqdm.notebook import tqdm, trange"
   ]
  },
  {
   "cell_type": "code",
   "execution_count": 2,
   "id": "subject-snowboard",
   "metadata": {},
   "outputs": [
    {
     "name": "stdout",
     "output_type": "stream",
     "text": [
      "Data from \"data/ao3_ver1_full.p\" loaded. Document Size: 84866. System Memory: 4040.70mb\n"
     ]
    }
   ],
   "source": [
    "from dataloader import *"
   ]
  },
  {
   "cell_type": "code",
   "execution_count": 3,
   "id": "unusual-stomach",
   "metadata": {},
   "outputs": [
    {
     "name": "stderr",
     "output_type": "stream",
     "text": [
      "C:\\Users\\Ariel\\anaconda3\\lib\\site-packages\\IPython\\core\\interactiveshell.py:3155: DtypeWarning: Columns (4,5) have mixed types.Specify dtype option on import or set low_memory=False.\n",
      "  has_raised = await self.run_ast_nodes(code_ast.body, cell_name,\n"
     ]
    }
   ],
   "source": [
    "imdb = pd.read_csv('data/imdb.tsv',  sep='\\t', header=0)\n",
    "rating = pd.read_csv('data/ratings.tsv', sep='\\t', header=0)"
   ]
  },
  {
   "cell_type": "code",
   "execution_count": 4,
   "id": "digital-springfield",
   "metadata": {},
   "outputs": [],
   "source": [
    "imdb = imdb.merge(rating, how='left', on=['tconst'])\n",
    "imdb = imdb[imdb['numVotes'].notna()]\n",
    "imdb = imdb[~imdb['titleType'].isin(['tvEpisode', 'tvSpecial', 'video', 'short'])]\n",
    "imdb = imdb.reset_index(drop=True)"
   ]
  },
  {
   "cell_type": "code",
   "execution_count": 5,
   "id": "beautiful-composite",
   "metadata": {},
   "outputs": [
    {
     "data": {
      "text/html": [
       "<div>\n",
       "<style scoped>\n",
       "    .dataframe tbody tr th:only-of-type {\n",
       "        vertical-align: middle;\n",
       "    }\n",
       "\n",
       "    .dataframe tbody tr th {\n",
       "        vertical-align: top;\n",
       "    }\n",
       "\n",
       "    .dataframe thead th {\n",
       "        text-align: right;\n",
       "    }\n",
       "</style>\n",
       "<table border=\"1\" class=\"dataframe\">\n",
       "  <thead>\n",
       "    <tr style=\"text-align: right;\">\n",
       "      <th></th>\n",
       "      <th>tconst</th>\n",
       "      <th>titleType</th>\n",
       "      <th>primaryTitle</th>\n",
       "      <th>originalTitle</th>\n",
       "      <th>isAdult</th>\n",
       "      <th>startYear</th>\n",
       "      <th>endYear</th>\n",
       "      <th>runtimeMinutes</th>\n",
       "      <th>genres</th>\n",
       "      <th>averageRating</th>\n",
       "      <th>numVotes</th>\n",
       "    </tr>\n",
       "  </thead>\n",
       "  <tbody>\n",
       "    <tr>\n",
       "      <th>0</th>\n",
       "      <td>tt0000502</td>\n",
       "      <td>movie</td>\n",
       "      <td>Bohemios</td>\n",
       "      <td>Bohemios</td>\n",
       "      <td>0</td>\n",
       "      <td>1905</td>\n",
       "      <td>\\N</td>\n",
       "      <td>100</td>\n",
       "      <td>\\N</td>\n",
       "      <td>4.5</td>\n",
       "      <td>8.0</td>\n",
       "    </tr>\n",
       "    <tr>\n",
       "      <th>1</th>\n",
       "      <td>tt0000574</td>\n",
       "      <td>movie</td>\n",
       "      <td>The Story of the Kelly Gang</td>\n",
       "      <td>The Story of the Kelly Gang</td>\n",
       "      <td>0</td>\n",
       "      <td>1906</td>\n",
       "      <td>\\N</td>\n",
       "      <td>70</td>\n",
       "      <td>Action,Adventure,Biography</td>\n",
       "      <td>6.1</td>\n",
       "      <td>632.0</td>\n",
       "    </tr>\n",
       "    <tr>\n",
       "      <th>2</th>\n",
       "      <td>tt0000591</td>\n",
       "      <td>movie</td>\n",
       "      <td>The Prodigal Son</td>\n",
       "      <td>L'enfant prodigue</td>\n",
       "      <td>0</td>\n",
       "      <td>1907</td>\n",
       "      <td>\\N</td>\n",
       "      <td>90</td>\n",
       "      <td>Drama</td>\n",
       "      <td>6.0</td>\n",
       "      <td>5.0</td>\n",
       "    </tr>\n",
       "    <tr>\n",
       "      <th>3</th>\n",
       "      <td>tt0000615</td>\n",
       "      <td>movie</td>\n",
       "      <td>Robbery Under Arms</td>\n",
       "      <td>Robbery Under Arms</td>\n",
       "      <td>0</td>\n",
       "      <td>1907</td>\n",
       "      <td>\\N</td>\n",
       "      <td>\\N</td>\n",
       "      <td>Drama</td>\n",
       "      <td>4.5</td>\n",
       "      <td>14.0</td>\n",
       "    </tr>\n",
       "    <tr>\n",
       "      <th>4</th>\n",
       "      <td>tt0000630</td>\n",
       "      <td>movie</td>\n",
       "      <td>Hamlet</td>\n",
       "      <td>Amleto</td>\n",
       "      <td>0</td>\n",
       "      <td>1908</td>\n",
       "      <td>\\N</td>\n",
       "      <td>\\N</td>\n",
       "      <td>Drama</td>\n",
       "      <td>3.8</td>\n",
       "      <td>12.0</td>\n",
       "    </tr>\n",
       "    <tr>\n",
       "      <th>...</th>\n",
       "      <td>...</td>\n",
       "      <td>...</td>\n",
       "      <td>...</td>\n",
       "      <td>...</td>\n",
       "      <td>...</td>\n",
       "      <td>...</td>\n",
       "      <td>...</td>\n",
       "      <td>...</td>\n",
       "      <td>...</td>\n",
       "      <td>...</td>\n",
       "      <td>...</td>\n",
       "    </tr>\n",
       "    <tr>\n",
       "      <th>412029</th>\n",
       "      <td>tt9916362</td>\n",
       "      <td>movie</td>\n",
       "      <td>Coven</td>\n",
       "      <td>Akelarre</td>\n",
       "      <td>0</td>\n",
       "      <td>2020</td>\n",
       "      <td>\\N</td>\n",
       "      <td>92</td>\n",
       "      <td>Adventure,Drama,History</td>\n",
       "      <td>6.3</td>\n",
       "      <td>3218.0</td>\n",
       "    </tr>\n",
       "    <tr>\n",
       "      <th>412030</th>\n",
       "      <td>tt9916380</td>\n",
       "      <td>tvSeries</td>\n",
       "      <td>Meie aasta Aafrikas</td>\n",
       "      <td>Meie aasta Aafrikas</td>\n",
       "      <td>0</td>\n",
       "      <td>2019</td>\n",
       "      <td>\\N</td>\n",
       "      <td>43</td>\n",
       "      <td>Adventure,Comedy,Family</td>\n",
       "      <td>9.0</td>\n",
       "      <td>104.0</td>\n",
       "    </tr>\n",
       "    <tr>\n",
       "      <th>412031</th>\n",
       "      <td>tt9916428</td>\n",
       "      <td>movie</td>\n",
       "      <td>The Secret of China</td>\n",
       "      <td>Hong xing zhao yao Zhong guo</td>\n",
       "      <td>0</td>\n",
       "      <td>2019</td>\n",
       "      <td>\\N</td>\n",
       "      <td>\\N</td>\n",
       "      <td>Adventure,History,War</td>\n",
       "      <td>3.8</td>\n",
       "      <td>12.0</td>\n",
       "    </tr>\n",
       "    <tr>\n",
       "      <th>412032</th>\n",
       "      <td>tt9916460</td>\n",
       "      <td>tvMovie</td>\n",
       "      <td>Pink Taxi</td>\n",
       "      <td>Pink Taxi</td>\n",
       "      <td>0</td>\n",
       "      <td>2019</td>\n",
       "      <td>\\N</td>\n",
       "      <td>\\N</td>\n",
       "      <td>Comedy</td>\n",
       "      <td>9.3</td>\n",
       "      <td>15.0</td>\n",
       "    </tr>\n",
       "    <tr>\n",
       "      <th>412033</th>\n",
       "      <td>tt9916538</td>\n",
       "      <td>movie</td>\n",
       "      <td>Kuambil Lagi Hatiku</td>\n",
       "      <td>Kuambil Lagi Hatiku</td>\n",
       "      <td>0</td>\n",
       "      <td>2019</td>\n",
       "      <td>\\N</td>\n",
       "      <td>123</td>\n",
       "      <td>Drama</td>\n",
       "      <td>8.3</td>\n",
       "      <td>6.0</td>\n",
       "    </tr>\n",
       "  </tbody>\n",
       "</table>\n",
       "<p>412034 rows × 11 columns</p>\n",
       "</div>"
      ],
      "text/plain": [
       "           tconst titleType                 primaryTitle  \\\n",
       "0       tt0000502     movie                     Bohemios   \n",
       "1       tt0000574     movie  The Story of the Kelly Gang   \n",
       "2       tt0000591     movie             The Prodigal Son   \n",
       "3       tt0000615     movie           Robbery Under Arms   \n",
       "4       tt0000630     movie                       Hamlet   \n",
       "...           ...       ...                          ...   \n",
       "412029  tt9916362     movie                        Coven   \n",
       "412030  tt9916380  tvSeries          Meie aasta Aafrikas   \n",
       "412031  tt9916428     movie          The Secret of China   \n",
       "412032  tt9916460   tvMovie                    Pink Taxi   \n",
       "412033  tt9916538     movie          Kuambil Lagi Hatiku   \n",
       "\n",
       "                       originalTitle isAdult startYear endYear runtimeMinutes  \\\n",
       "0                           Bohemios       0      1905      \\N            100   \n",
       "1        The Story of the Kelly Gang       0      1906      \\N             70   \n",
       "2                  L'enfant prodigue       0      1907      \\N             90   \n",
       "3                 Robbery Under Arms       0      1907      \\N             \\N   \n",
       "4                             Amleto       0      1908      \\N             \\N   \n",
       "...                              ...     ...       ...     ...            ...   \n",
       "412029                      Akelarre       0      2020      \\N             92   \n",
       "412030           Meie aasta Aafrikas       0      2019      \\N             43   \n",
       "412031  Hong xing zhao yao Zhong guo       0      2019      \\N             \\N   \n",
       "412032                     Pink Taxi       0      2019      \\N             \\N   \n",
       "412033           Kuambil Lagi Hatiku       0      2019      \\N            123   \n",
       "\n",
       "                            genres  averageRating  numVotes  \n",
       "0                               \\N            4.5       8.0  \n",
       "1       Action,Adventure,Biography            6.1     632.0  \n",
       "2                            Drama            6.0       5.0  \n",
       "3                            Drama            4.5      14.0  \n",
       "4                            Drama            3.8      12.0  \n",
       "...                            ...            ...       ...  \n",
       "412029     Adventure,Drama,History            6.3    3218.0  \n",
       "412030     Adventure,Comedy,Family            9.0     104.0  \n",
       "412031       Adventure,History,War            3.8      12.0  \n",
       "412032                      Comedy            9.3      15.0  \n",
       "412033                       Drama            8.3       6.0  \n",
       "\n",
       "[412034 rows x 11 columns]"
      ]
     },
     "execution_count": 5,
     "metadata": {},
     "output_type": "execute_result"
    }
   ],
   "source": [
    "imdb"
   ]
  },
  {
   "cell_type": "code",
   "execution_count": 7,
   "id": "norwegian-garbage",
   "metadata": {},
   "outputs": [],
   "source": [
    "titles = imdb['primaryTitle'].tolist()"
   ]
  },
  {
   "cell_type": "code",
   "execution_count": 14,
   "id": "heard-vision",
   "metadata": {},
   "outputs": [
    {
     "data": {
      "text/plain": [
       "array(['movie', 'tvMiniSeries', 'tvMovie', 'tvSeries', 'tvShort',\n",
       "       'videoGame'], dtype=object)"
      ]
     },
     "execution_count": 14,
     "metadata": {},
     "output_type": "execute_result"
    }
   ],
   "source": [
    "np.unique(imdb['titleType'])"
   ]
  },
  {
   "cell_type": "code",
   "execution_count": 17,
   "id": "geological-russian",
   "metadata": {},
   "outputs": [],
   "source": [
    "def search_for_closest(query):\n",
    "    ids = []\n",
    "    for idx, t in enumerate(titles):\n",
    "        if query in str(t):\n",
    "            ids.append(idx)\n",
    "    ranked = imdb.iloc[ids].sort_values(by='numVotes', ascending=False)\n",
    "    if len(ranked) > 0:\n",
    "        return ranked.iloc[0].to_dict()\n",
    "    return {}"
   ]
  },
  {
   "cell_type": "code",
   "execution_count": 18,
   "id": "quiet-draft",
   "metadata": {},
   "outputs": [],
   "source": [
    "fandom_count = Counter(chain.from_iterable(fandoms))\n",
    "fandom_total = len(fandom_count)"
   ]
  },
  {
   "cell_type": "code",
   "execution_count": 19,
   "id": "refined-danger",
   "metadata": {},
   "outputs": [],
   "source": [
    "def parse_fandom(fandom):\n",
    "    f = fandom.split(' | ')[-1]\n",
    "    match_obj = re.match(r'([^\\(\\)\\-]+)($|\\(.+\\)|- All Media Types)?', f)\n",
    "    if not match_obj:\n",
    "        return f\n",
    "    else:\n",
    "        return match_obj[1].strip(' '), match_obj[2].replace(')', '').replace('(', '') if match_obj[2] else ''"
   ]
  },
  {
   "cell_type": "code",
   "execution_count": 21,
   "id": "simple-arbor",
   "metadata": {},
   "outputs": [
    {
     "data": {
      "application/vnd.jupyter.widget-view+json": {
       "model_id": "38b718d9b3a849b59b3b617fd2895bd1",
       "version_major": 2,
       "version_minor": 0
      },
      "text/plain": [
       "  0%|          | 0/7015 [00:00<?, ?it/s]"
      ]
     },
     "metadata": {},
     "output_type": "display_data"
    }
   ],
   "source": [
    "data = []\n",
    "for fandom, count in tqdm(sorted(fandom_count.items(), key=lambda x:-x[1])):\n",
    "    parsed = parse_fandom(fandom)\n",
    "    res = search_for_closest(parsed[0])\n",
    "    if res:\n",
    "        res['numVotes'] = int(res['numVotes'])\n",
    "        res['genres'] = res['genres'].split(',')\n",
    "        if 'tv' in res['titleType']:\n",
    "            res['titleType'] = 'tv'\n",
    "        elif 'video' in res['titleType']:\n",
    "            res['titleType'] = 'video_game'\n",
    "    \n",
    "    entry = {\n",
    "        'ao3_name': fandom,\n",
    "        'count': count,\n",
    "        'percentage': round(count / fandom_total, 4),\n",
    "        'imdb_name': res.get('primaryTitle', ''),\n",
    "        'media_type': res.get('titleType', ''),\n",
    "        'genres': res.get('genres', ''),\n",
    "        'votes': res.get('numVotes', ''),\n",
    "        'start_year': res.get('startYear', ''),\n",
    "    }\n",
    "    data.append(entry)"
   ]
  },
  {
   "cell_type": "code",
   "execution_count": 22,
   "id": "ready-watch",
   "metadata": {},
   "outputs": [],
   "source": [
    "fandom_df = pd.DataFrame(data)"
   ]
  },
  {
   "cell_type": "code",
   "execution_count": 24,
   "id": "pleased-january",
   "metadata": {},
   "outputs": [],
   "source": [
    "pickle.dump(fandom_df, open('data/fandom.p', 'wb'))"
   ]
  },
  {
   "cell_type": "code",
   "execution_count": null,
   "id": "prime-seeker",
   "metadata": {},
   "outputs": [],
   "source": []
  }
 ],
 "metadata": {
  "kernelspec": {
   "display_name": "Python 3",
   "language": "python",
   "name": "python3"
  },
  "language_info": {
   "codemirror_mode": {
    "name": "ipython",
    "version": 3
   },
   "file_extension": ".py",
   "mimetype": "text/x-python",
   "name": "python",
   "nbconvert_exporter": "python",
   "pygments_lexer": "ipython3",
   "version": "3.8.5"
  }
 },
 "nbformat": 4,
 "nbformat_minor": 5
}
