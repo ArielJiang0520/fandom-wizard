{
 "cells": [
  {
   "cell_type": "markdown",
   "id": "thick-circumstances",
   "metadata": {},
   "source": [
    "## Rare v.s. Common words\n",
    "\n",
    "As mentioned in the *question* section of the README.md, I think how often the author uses rare words in the fanfic demonstrate the writing styles and could be a differentiation factor. Thus, here is a exploration done on the rare words frequency. "
   ]
  },
  {
   "cell_type": "markdown",
   "id": "precise-danger",
   "metadata": {},
   "source": [
    "**Data Loading**"
   ]
  },
  {
   "cell_type": "code",
   "execution_count": 1,
   "id": "parliamentary-people",
   "metadata": {},
   "outputs": [
    {
     "name": "stdout",
     "output_type": "stream",
     "text": [
      "Data from \"data/ao3.p\" loaded. Document Size: 31034. System Memory: 1222.04mb\n"
     ]
    }
   ],
   "source": [
    "from dataloader import *"
   ]
  },
  {
   "cell_type": "code",
   "execution_count": 2,
   "id": "novel-trust",
   "metadata": {},
   "outputs": [],
   "source": [
    "import pandas as pd\n",
    "import pickle\n",
    "import numpy as np\n",
    "from collections import Counter, defaultdict\n",
    "from itertools import chain\n",
    "import re\n",
    "from sys import getsizeof\n",
    "import matplotlib.pyplot as plt\n",
    "plt.style.use('ggplot')\n",
    "\n",
    "from tqdm.notebook import trange, tqdm"
   ]
  },
  {
   "cell_type": "code",
   "execution_count": 3,
   "id": "placed-population",
   "metadata": {},
   "outputs": [
    {
     "name": "stdout",
     "output_type": "stream",
     "text": [
      "\n",
      "[0]('30843428', 'nervous by nature and overthinking everything') Teen And Up Audiences\n",
      "['Minecraft (Video Game)', 'Dream SMP - Fandom', 'Video Blogging RPF']\n",
      "https://archiveofourown.org/works/30843428\n",
      "['Angst', 'Angst with a Happy Ending', 'Kinda', 'Arguing', 'Fighting', 'Traumatized TommyInnit (Video Blogging RPF)', 'Resurrected TommyInnit (Video Blogging RPF)', 'Protective TommyInnit (Video Blogging RPF)', 'Ranboo Has Anxiety Disorder (Video Blogging RPF)', 'Ranboo & TommyInnit Friendship (Video Blogging RPF)', 'Ranboo Has a Tail (Video Blogging RPF)', 'Sad Ranboo (Video Blogging RPF)', 'Nonbinary Ranboo (Video Blogging RPF)', 'Mentioned Toby Smith | Tubbo', 'Platonically Married Ranboo and Toby Smith | Tubbo', 'All Platonic - Freeform', 'you fuckers', 'Unhealthy Coping Mechanisms', 'Canon Compliant']\n",
      "\n",
      "\n",
      "It was calm, that night in the tower. The kind of calm that came after a day of uneventful happenings, a feeling of peace that grew the longer into the evening it went. On the SMP, days were rarely ever peaceful. There was always something going on to focus on; a quest, a plan, an attack. Calm days were a blessing among so many tragedies that took place.\n",
      "\n",
      " \n",
      "\n",
      "Tommy was perched on the top of the lookout tower, looking over the prison. He’d been hanging around the central area of the SMP all day, \n"
     ]
    }
   ],
   "source": [
    "print_fanfic(0, True, 500)"
   ]
  },
  {
   "cell_type": "markdown",
   "id": "comparable-teach",
   "metadata": {},
   "source": [
    "**Let's begin**"
   ]
  },
  {
   "cell_type": "markdown",
   "id": "presidential-knife",
   "metadata": {},
   "source": [
    "we only care about the proper English words in the dictionary, so we will get a list of English words"
   ]
  },
  {
   "cell_type": "code",
   "execution_count": 5,
   "id": "eligible-payroll",
   "metadata": {},
   "outputs": [],
   "source": [
    "import sklearn\n",
    "from sklearn.feature_extraction.text import TfidfVectorizer\n",
    "from nltk.corpus import words\n",
    "\n",
    "en_vocab = set(words.words())"
   ]
  },
  {
   "cell_type": "markdown",
   "id": "respected-preserve",
   "metadata": {},
   "source": [
    "TF-IDF to get tokens in the corpus"
   ]
  },
  {
   "cell_type": "code",
   "execution_count": 117,
   "id": "forbidden-annotation",
   "metadata": {},
   "outputs": [],
   "source": [
    "vectorizer = TfidfVectorizer(\n",
    "    min_df=1,\n",
    "    stop_words='english'\n",
    ")\n",
    "T = vectorizer.fit_transform(corpus)"
   ]
  },
  {
   "cell_type": "code",
   "execution_count": 118,
   "id": "generous-reform",
   "metadata": {},
   "outputs": [
    {
     "data": {
      "text/plain": [
       "'Corpus has 31034 documents with a vocab size of 193995'"
      ]
     },
     "execution_count": 118,
     "metadata": {},
     "output_type": "execute_result"
    }
   ],
   "source": [
    "f'Corpus has {T.shape[0]} documents with a vocab size of {T.shape[1]}'"
   ]
  },
  {
   "cell_type": "code",
   "execution_count": 122,
   "id": "effective-zimbabwe",
   "metadata": {},
   "outputs": [],
   "source": [
    "doc_terms = vectorizer.inverse_transform(T)"
   ]
  },
  {
   "cell_type": "code",
   "execution_count": 123,
   "id": "communist-azerbaijan",
   "metadata": {},
   "outputs": [],
   "source": [
    "word_to_ix = vectorizer.vocabulary_\n",
    "ix_to_word = {i : w for w, i in word_to_ix.items()}"
   ]
  },
  {
   "cell_type": "markdown",
   "id": "lightweight-corpus",
   "metadata": {},
   "source": [
    "Some rare words ranking based on their idf score"
   ]
  },
  {
   "cell_type": "code",
   "execution_count": 125,
   "id": "sapphire-accommodation",
   "metadata": {},
   "outputs": [
    {
     "name": "stdout",
     "output_type": "stream",
     "text": [
      "morphology 10.649723698287808 3.41\n",
      "morpheme 10.649723698287808 2.28\n",
      "morosity 10.649723698287808 0.0\n",
      "moroseness 10.649723698287808 0.0\n",
      "mosasaur 10.649723698287808 1.5\n",
      "mortise 10.649723698287808 2.16\n",
      "morin 10.649723698287808 2.65\n",
      "motorcyclist 10.649723698287808 2.74\n",
      "motionlessness 10.649723698287808 0.0\n",
      "motile 10.649723698287808 2.33\n",
      "mott 10.649723698287808 3.0\n",
      "motte 10.649723698287808 2.5\n",
      "mountainously 10.649723698287808 0.0\n",
      "mountained 10.649723698287808 0.0\n",
      "mouflon 10.649723698287808 1.29\n",
      "mouche 10.649723698287808 1.7\n",
      "motherwort 10.649723698287808 1.02\n",
      "moste 10.649723698287808 1.24\n",
      "motherlessness 10.649723698287808 0.0\n"
     ]
    }
   ],
   "source": [
    "from wordfreq import zipf_frequency\n",
    "\n",
    "for i in np.argsort(-vectorizer.idf_)[:250]:\n",
    "    if ix_to_word[i] in en_vocab:\n",
    "        print(ix_to_word[i], vectorizer.idf_[i], zipf_frequency(ix_to_word[i], 'en'))"
   ]
  },
  {
   "cell_type": "markdown",
   "id": "fleet-catering",
   "metadata": {},
   "source": [
    "import wordfreq library to get common frequencies of English words. general method is averaging the frequency of each unique word in a document to get average frequency of this document"
   ]
  },
  {
   "cell_type": "code",
   "execution_count": 126,
   "id": "olive-pilot",
   "metadata": {},
   "outputs": [
    {
     "data": {
      "application/vnd.jupyter.widget-view+json": {
       "model_id": "b0a2ec767bec4813a78bfb4f4c5c5c13",
       "version_major": 2,
       "version_minor": 0
      },
      "text/plain": [
       "  0%|          | 0/31034 [00:00<?, ?it/s]"
      ]
     },
     "metadata": {},
     "output_type": "display_data"
    }
   ],
   "source": [
    "doc_freq = {}\n",
    "for i, doc in enumerate(tqdm(doc_terms[:])):\n",
    "    freq, total_count = 0, 0\n",
    "    for term in doc:\n",
    "        if term in en_vocab:\n",
    "            freq += zipf_frequency(term, 'en')\n",
    "            total_count += 1\n",
    "    doc_freq[i] = freq / (total_count + 1e-10)"
   ]
  },
  {
   "cell_type": "code",
   "execution_count": 150,
   "id": "superior-possession",
   "metadata": {},
   "outputs": [
    {
     "name": "stdout",
     "output_type": "stream",
     "text": [
      "Rarest words in document 10:\n"
     ]
    },
    {
     "data": {
      "text/plain": [
       "['keened',\n",
       " 'insufferableness',\n",
       " 'rhythmless',\n",
       " 'demandingly',\n",
       " 'reservedly',\n",
       " 'uncrossable',\n",
       " 'bedmate',\n",
       " 'uncorking',\n",
       " 'growly',\n",
       " 'enticingly']"
      ]
     },
     "execution_count": 150,
     "metadata": {},
     "output_type": "execute_result"
    }
   ],
   "source": [
    "def rank_by_idf(doc_id):\n",
    "    return [\n",
    "        term for term in \\\n",
    "            sorted(doc_terms[doc_id], key=lambda x:zipf_frequency(x, 'en')) \\\n",
    "                if term in en_vocab\n",
    "    ]\n",
    "\n",
    "print('Rarest words in document 10:')\n",
    "rank_by_idf(10)[:10]"
   ]
  },
  {
   "cell_type": "markdown",
   "id": "worthy-nation",
   "metadata": {},
   "source": [
    "**analysis**"
   ]
  },
  {
   "cell_type": "code",
   "execution_count": 128,
   "id": "violent-family",
   "metadata": {},
   "outputs": [],
   "source": [
    "def custom_corpus_freq(fn):\n",
    "    text = open(fn, 'r+', encoding='utf-8').read()\n",
    "    u = vectorizer.transform([text])\n",
    "    u_terms = vectorizer.inverse_transform(u)[0]\n",
    "    \n",
    "    total_count, freq = 0, 0\n",
    "    for term in u_terms:\n",
    "        if term in en_vocab:\n",
    "            total_count += 1\n",
    "            freq += zipf_frequency(term, 'en')\n",
    "    return freq / total_count"
   ]
  },
  {
   "cell_type": "markdown",
   "id": "worst-italic",
   "metadata": {},
   "source": [
    "rarity rank of documents (scoare 0.0 indicate the documents are not in English but are accidentally tagged as English)"
   ]
  },
  {
   "cell_type": "code",
   "execution_count": 129,
   "id": "portable-milan",
   "metadata": {},
   "outputs": [
    {
     "name": "stdout",
     "output_type": "stream",
     "text": [
      "Rare documents:\n",
      "4761 0.0\n",
      "11937 0.0\n",
      "15363 0.0\n",
      "28504 3.231933962262628\n",
      "4422 3.377213114748562\n",
      "21417 3.4609210526270253\n",
      "20284 3.8099999998095\n",
      "26457 3.8585291631442225\n",
      "9616 3.8775100942121283\n",
      "3044 3.9127304964536975\n",
      "\n",
      "Common documents:\n",
      "19962 5.261739130411906\n",
      "30367 5.243831775696035\n",
      "4396 5.224285714273274\n",
      "27337 5.222727272717776\n",
      "29285 5.221304347818521\n",
      "8620 5.178695652166408\n",
      "284 5.171666666658047\n",
      "4430 5.14901408449979\n",
      "4429 5.144593023252824\n",
      "16842 5.138163265295636\n",
      "\n",
      "As some points of comparsion...\n",
      "Average word freq for \"Ulysses\" is 3.947067729083665\n",
      "Average word freq for \"Moby Dick\" is 4.09605399792315\n",
      "Average word freq for \"Emma\" is 4.237152087475149\n",
      "Average word freq for \"Les Misérables\" is 4.2670489038785755\n",
      "Average word freq for \"Keeping Up With the Kardashians\" is 4.74099125364432\n"
     ]
    }
   ],
   "source": [
    "print('Rare documents:')\n",
    "for doc_id, freq in sorted(doc_freq.items(), key=lambda x:x[1])[:10]:\n",
    "    print(doc_id, freq)\n",
    "\n",
    "print('\\nCommon documents:')\n",
    "for doc_id, freq in sorted(doc_freq.items(), key=lambda x:-x[1])[:10]:\n",
    "    print(doc_id, freq)\n",
    "\n",
    "\n",
    "print('\\nAs some points of comparsion...')\n",
    "for name, fn in [\n",
    "    ('Ulysses', 'text/ulysses.txt'),\n",
    "    ('Moby Dick', 'text/moby dick.txt'),\n",
    "    ('Emma', 'text/emma.txt'),\n",
    "    ('Les Misérables', 'text/les mis.txt'),\n",
    "    ('Keeping Up With the Kardashians', 'text/kardashians.txt'),\n",
    "    ]:\n",
    "    print(f\"Average word freq for \\\"{name}\\\" is {custom_corpus_freq(fn)}\")"
   ]
  },
  {
   "cell_type": "markdown",
   "id": "placed-convention",
   "metadata": {},
   "source": [
    "Some examaples of fanfics with rare words"
   ]
  },
  {
   "cell_type": "code",
   "execution_count": 136,
   "id": "disciplinary-circular",
   "metadata": {},
   "outputs": [
    {
     "name": "stdout",
     "output_type": "stream",
     "text": [
      "\n",
      "[26457]('30766190', 'A (random) study of the (partial) alphabet') Mature\n",
      "['Bridgerton Series - Julia Quinn', 'Bridgerton (TV)']\n",
      "https://archiveofourown.org/works/30766190\n",
      "['Fluff and Angst', 'Family Dynamics', 'Family Feels', 'Regency', 'Kate and Benedict: art pals for life', 'Jealous Anthony Bridgerton', 'heartbroken Violet Bridgerton', 'Implied Polin', 'rare Francesca sighting', 'Eloise and Kate: partners in crime', 'Anthony Bridgerton: surrogate father to Hyacinth and Gregory', 'Romance', 'Soft Feels', 'Bridgertons Being Bridgertons', 'emotional Anthony', 'Comfort', 'Kate and Anthony providing each other comfort', 'Anthony Bridgerton: besotted with Kate Sharma since 1814', 'Newton chasing rabbits', 'In upcoming 2nd chapter: Kate gets on her knees for a non-key related reason ;)', 'Gregory Bridgerton’s 1st crush was Kate Sharma', '2nd-chapter Anthony could’ve written “Slipping Through My Fingers” from Mamma Mia']\n",
      "\n",
      "Kate had always considered herself an innately observant person. Over the years, she’d been able to hone her prowess without much intrusion, especially once she’d reached adolescence and nearly all extrafamilial compliments and instances of acknowledgment were intended for Edwina.The newly minted Viscountess particularly prided herself in her abilities to deftly read her loved ones. She noticed Mary’s habit of sneakily stroking the back of Newton’s head whenever he dozed (and whenever she misgui\n",
      "\n",
      "[9616]('30469629', 'Cozy Morning') Explicit\n",
      "['Drawn Together (Cartoon)']\n",
      "https://archiveofourown.org/works/30469629\n",
      "['Xandir x Reader', 'Xandir P. Wifflebottom x Reader', 'Romance', 'Alternate Universe', 'Canon Divergent Sexuality', \"Don't Like Don't Read\", 'uh oh spicy tag time', 'Smut', 'Fluff and Smut', 'Morning Kisses', 'Morning Cuddles', 'Morning Sex', 'Vaginal Fingering', 'Vaginal Sex', 'Woman on Top', 'end of spicy tags', \"once again don't like don't read\", 'this is for the xandir fangirls']\n",
      "\n",
      "⋆┈┈｡ﾟ❃ུ۪ ❀ུ۪ ❁ུ۪ ❃ུ۪ ❀ུ۪ ﾟ｡┈┈⋆You wake to sugar-laced sweet nothings in your ear, an arm wrapped ‘round your waist, protective. A wall of warmth presses to your back, cocoons you, reigniting those ecstatic embers you’d thought were long extinguished. Like petals of a sleepy poppy, your eyelids droop as you slip under the tide of a tranquil dream—that is, until his lips brush tender against your nape, sending electric shivers through your unclad body. Fire flushes your face. You tense, a spring p\n",
      "\n",
      "[3044]('30796940', 'bon voyage, sweet summer') Teen And Up Audiences\n",
      "['Shingeki no Kyojin | Attack on Titan']\n",
      "https://archiveofourown.org/works/30796940\n",
      "['One Shot', 'Time Skips', 'Alternate Universe - Modern Setting', 'Romantic Fluff', 'kenny ackerman is a trash uncle', 'mikasa is a rocking queen', \"eren's a sick romantic\", 'I Will Go Down With This Ship', 'lots of coffee mentions', 'Everything is Beautiful and Nothing Hurts', 'How Do I Tag']\n",
      "\n",
      "\n",
      "… \n",
      "\n",
      " -one; espresso romano, jaeger’s penchant- \n",
      "\n",
      " “a soft shot, pearly milk doused in swishing brown- seasoned lemon bathed wet in lucent oozes of water- and it reminds him of her flouncy sundress under the glow-lamps of tanned lights.” \n",
      "\n",
      "… \n",
      "A new, resounding chime. How... painfully annoying. Eren carried himself swimmingly back into place, shedding the pleated gloves off his blood-hot hands, still puffed from the ghastly heat kindled in the cooker- and set into a quick blend on the roasted gro\n"
     ]
    }
   ],
   "source": [
    "print_fanfic(26457, True, 500)\n",
    "print_fanfic(9616, True, 500)\n",
    "print_fanfic(3044, True, 500)"
   ]
  },
  {
   "cell_type": "markdown",
   "id": "vital-headset",
   "metadata": {},
   "source": [
    "some examples of fanfics with common words"
   ]
  },
  {
   "cell_type": "code",
   "execution_count": 196,
   "id": "seasonal-underground",
   "metadata": {},
   "outputs": [
    {
     "name": "stdout",
     "output_type": "stream",
     "text": [
      "\n",
      "[8620]('29770200', 'Wonderland Monologues') Mature\n",
      "['Durarara!!']\n",
      "https://archiveofourown.org/works/29770200\n",
      "['monologues', 'Jail', 'thoughts', 'Familiars', 'Apocalypse game', 'Worry', 'Misery']\n",
      "\n",
      "\n",
      "Chapter Text\n",
      "Wonderland MonologuesWalkerI have been in jail for… Oh, I don't know anymore. I have been here for a while now. To be honest with you, I am not really worried about it. I have seen people come in and out of here. Some of them tough and some of them look so scared to be here. I just sit in my cell and watch. What else can I do? They took my phone. There's no manga or anime here either.Erika always comes by to see me once a week. I know that she is worried about me. She wants to help\n",
      "\n",
      "[30367]('30809168', 'wish you were here') Teen And Up Audiences\n",
      "['Video Blogging RPF', 'Minecraft (Video Game)']\n",
      "https://archiveofourown.org/works/30809168\n",
      "['EpicSMP', 'Ambiguous/Open Ending', 'Epistolary', 'Texting', 'Angst', 'Alternate Universe - Canon Divergence']\n",
      "\n",
      "\n",
      "Chapter Text\n",
      "\n",
      "<TedNivison> Hey Charlie! It's been a while since you've answered my messages, I hope you're having fun over there!\n",
      "\n",
      "<TedNivison> How’s Wilbur doing? Haven’t seen that guy in a long time, tell him I said hi!\n",
      " \n",
      "<TedNivison> Listen, there's\n",
      "\n",
      "<TedNivison> fuck how do I explain this\n",
      " \n",
      "<TedNivison> There's something going on over here\n",
      "\n",
      "<TedNivison> there’s something seriously wrong with this fucking server\n",
      "\n",
      "<TedNivison> people are disappearing Charlie and honestly it's freaking me out\n",
      "\n",
      "\n",
      "[29285]('28637370', 'The lovely mishaps of Yamaguchi Tadashi') Not Rated\n",
      "['Haikyuu!!']\n",
      "https://archiveofourown.org/works/28637370\n",
      "['Yamaguchi Tadashi in Love', 'Yamaguchi Tadashi Needs a Hug', 'POV Yamaguchi Tadashi', 'Bisexual Yamaguchi Tadashi', 'Yamaguchi Tadashi-centric', 'Short Chapters', 'Unrequited Love', 'Break Up', 'Fake/Pretend Relationship', 'Implied Sexual Content', 'But also', 'No Smut', 'Rejection', 'One Night Stands', 'Friends With Benefits', \"Yamaguchi Tadashi's Freckles\"]\n",
      "\n",
      "\n",
      "Chapter Text\n",
      "It was a late October evening when you called me that one time, telling me of how you and Kuroo were going out. I never thought I'd be jealous of that. Sure, I wasn't blind to my feelings towards you, but I also wanted you to be happy, right? If being with Kuroo made you happy, I shouldn't be jealous. I always knew one day we'd drift away, but I didn't think it would be in our first year in high school together.  Still 2 more years left to go, but not with you. Its not like I want \n"
     ]
    }
   ],
   "source": [
    "print_fanfic(8620, True, 500)\n",
    "print_fanfic(30367, True, 500)\n",
    "print_fanfic(29285, True, 500)"
   ]
  },
  {
   "cell_type": "markdown",
   "id": "special-input",
   "metadata": {},
   "source": [
    "some basic stats giving an overview of the distribution. We can see that the average is 4.6 anywhere between 4.5~4.7 is normal for a fanfic. something close to 4.2 or close to 5.0 would be outliers"
   ]
  },
  {
   "cell_type": "code",
   "execution_count": 139,
   "id": "greek-prerequisite",
   "metadata": {},
   "outputs": [
    {
     "data": {
      "image/png": "[encoded data removed]",
      "text/plain": [
       "<Figure size 864x288 with 2 Axes>"
      ]
     },
     "metadata": {},
     "output_type": "display_data"
    }
   ],
   "source": [
    "fig, axs = plt.subplots(1, 2, figsize=(12, 4))\n",
    "\n",
    "axs[0].hist(doc_freq.values(), range=(3.8, 5.25))\n",
    "\n",
    "axs[1].boxplot(doc_freq.values())\n",
    "axs[1].set_ylim((3.8, 5.25))\n",
    "\n",
    "plt.show(fig)"
   ]
  },
  {
   "cell_type": "markdown",
   "id": "following-billy",
   "metadata": {},
   "source": [
    "some fandom statistics because why not"
   ]
  },
  {
   "cell_type": "code",
   "execution_count": 198,
   "id": "contrary-ecology",
   "metadata": {},
   "outputs": [
    {
     "data": {
      "image/png": "[encoded data removed]",
      "text/plain": [
       "<Figure size 432x288 with 1 Axes>"
      ]
     },
     "metadata": {},
     "output_type": "display_data"
    }
   ],
   "source": [
    "fandom_counter = Counter(chain.from_iterable(fandoms))\n",
    "plt.title('Distribution of fandoms')\n",
    "plt.hist(fandom_counter.values(), range=(0, 400))\n",
    "plt.show()"
   ]
  },
  {
   "cell_type": "code",
   "execution_count": 199,
   "id": "express-anniversary",
   "metadata": {},
   "outputs": [
    {
     "name": "stdout",
     "output_type": "stream",
     "text": [
      "Top 10 Fandom community\n"
     ]
    },
    {
     "data": {
      "text/plain": [
       "[('僕のヒーローアカデミア | Boku no Hero Academia | My Hero Academia', 1470),\n",
       " ('Video Blogging RPF', 1337),\n",
       " ('Minecraft (Video Game)', 1297),\n",
       " ('Harry Potter - J. K. Rowling', 1051),\n",
       " ('Marvel Cinematic Universe', 1033),\n",
       " ('Haikyuu!!', 977),\n",
       " ('방탄소년단 | Bangtan Boys | BTS', 942),\n",
       " ('原神 | Genshin Impact (Video Game)', 749),\n",
       " ('NCT (Band)', 513),\n",
       " ('Star Wars - All Media Types', 513)]"
      ]
     },
     "execution_count": 199,
     "metadata": {},
     "output_type": "execute_result"
    }
   ],
   "source": [
    "print('Top 10 Fandom community')\n",
    "sorted(fandom_counter.items(), key=lambda x:-x[1])[:10]"
   ]
  },
  {
   "cell_type": "code",
   "execution_count": 200,
   "id": "innocent-jefferson",
   "metadata": {},
   "outputs": [
    {
     "name": "stdout",
     "output_type": "stream",
     "text": [
      "3.26% fandom communities account for 84.38% of fanfictions.\n"
     ]
    }
   ],
   "source": [
    "labels, count = zip(*[(key, count) for key, count in fandom_counter.items() if count > 50])\n",
    "print(f'{len(labels) * 100 / len(fandom_counter):.2f}% fandom communities account for {sum(count) * 100 / len(df):.2f}% of fanfictions.')"
   ]
  },
  {
   "cell_type": "markdown",
   "id": "retired-church",
   "metadata": {},
   "source": [
    "The above is a rough estimate, because one fanfic can belong to multiple fandoms. Let's compute the average freq of each fandom"
   ]
  },
  {
   "cell_type": "code",
   "execution_count": 143,
   "id": "experienced-startup",
   "metadata": {},
   "outputs": [],
   "source": [
    "fandom_freq = {key: [] for key, count in fandom_counter.items() if count > 50}\n",
    "for doc_id, ave_freq in doc_freq.items():\n",
    "    for f in fandoms[doc_id]:\n",
    "        if f in fandom_freq:\n",
    "            fandom_freq[f].append(ave_freq)\n",
    "fandom_freq = {key: sum(freq_list) / len(freq_list) for key, freq_list in fandom_freq.items()}"
   ]
  },
  {
   "cell_type": "code",
   "execution_count": 144,
   "id": "sustained-solomon",
   "metadata": {},
   "outputs": [
    {
     "name": "stdout",
     "output_type": "stream",
     "text": [
      "Top 20 fandoms using rare words\n",
      "The Terror (TV 2018) 53 4.41\n",
      "The Silmarillion and other histories of Middle-Earth - J. R. R. Tolkien 62 4.44\n",
      "Final Fantasy XIV 78 4.442\n",
      "Dragon Age: Inquisition 80 4.476\n",
      "Dragon Age (Video Games) 79 4.482\n",
      "Hades (Video Game 2018) 70 4.495\n",
      "Dragon Age - All Media Types 55 4.5\n",
      "Compilation of Final Fantasy VII 76 4.505\n",
      "天官赐福 - 墨香铜臭 | Tiān Guān Cì Fú - Mòxiāng Tóngxiù 54 4.507\n",
      "Hannibal (TV) 83 4.507\n",
      "山河令 | Word of Honor (TV 2021) 65 4.512\n",
      "The Witcher (TV) 124 4.517\n",
      "Good Omens (TV) 140 4.518\n",
      "Wiedźmin | The Witcher - All Media Types 205 4.52\n",
      "The Legend of Zelda & Related Fandoms 56 4.523\n",
      "Good Omens - Neil Gaiman & Terry Pratchett 110 4.523\n",
      "陈情令 | The Untamed (TV) 318 4.525\n",
      "魔道祖师 - 墨香铜臭 | Módào Zǔshī - Mòxiāng Tóngxiù 324 4.525\n",
      "The Mandalorian (TV) 160 4.527\n",
      "InuYasha - A Feudal Fairy Tale 60 4.528\n",
      "\n",
      "Top 20 fandoms using common words\n",
      "9-1-1: Lone Star (TV 2020) 87 4.722\n",
      "Formula 1 RPF 80 4.698\n",
      "Shameless (US) 67 4.681\n",
      "9-1-1 (TV) 147 4.677\n",
      "Glee 55 4.665\n",
      "No Fandom 67 4.661\n",
      "Criminal Minds (US TV) 165 4.66\n",
      "Julie and The Phantoms (TV 2020) 108 4.656\n",
      "Percy Jackson and the Olympians & Related Fandoms - All Media Types 56 4.654\n",
      "Spider-Man (Tom Holland Movies) 159 4.653\n",
      "Sanders Sides (Web Series) 163 4.648\n",
      "Law & Order: SVU 83 4.646\n",
      "Percy Jackson and the Olympians - Rick Riordan 76 4.645\n",
      "Miraculous Ladybug 233 4.643\n",
      "Agents of S.H.I.E.L.D. (TV) 66 4.64\n",
      "Banana Fish (Anime & Manga) 56 4.64\n",
      "The 100 (TV) 94 4.64\n",
      "Iron Man (Movies) 155 4.638\n",
      "All For The Game - Nora Sakavic 53 4.638\n",
      "The Falcon and the Winter Soldier (TV) 320 4.637\n"
     ]
    }
   ],
   "source": [
    "print('Top 20 fandoms using rare words')\n",
    "for fandom, ave_freq in sorted(fandom_freq.items(), key=lambda x:x[1])[:20]:\n",
    "    print(fandom, fandom_counter[fandom], round(ave_freq, 3))\n",
    "\n",
    "print('\\nTop 20 fandoms using common words')\n",
    "for fandom, ave_freq in sorted(fandom_freq.items(), key=lambda x:-x[1])[:20]:\n",
    "    print(fandom, fandom_counter[fandom], round(ave_freq, 3))"
   ]
  },
  {
   "cell_type": "markdown",
   "id": "informed-farmer",
   "metadata": {},
   "source": [
    "There is not much rare v.s. common word usage difference between fandoms. But fantasy-related fandoms seem to have more rare words, probably becuase of the specific settings used in these fandoms. On the other hand, US TV-related fandoms use more common words, probably because they are set in a more everyday, modern setting.\n",
    "\n",
    "Let's try adding this score to the current word embedding ranking system?"
   ]
  },
  {
   "cell_type": "markdown",
   "id": "biological-leone",
   "metadata": {},
   "source": [
    "**improve ranking**"
   ]
  },
  {
   "cell_type": "code",
   "execution_count": 145,
   "id": "executed-hacker",
   "metadata": {},
   "outputs": [],
   "source": [
    "X = np.load('matrix/X.npy')"
   ]
  },
  {
   "cell_type": "code",
   "execution_count": 146,
   "id": "regulation-miller",
   "metadata": {},
   "outputs": [],
   "source": [
    "R = np.array(list(doc_freq.values())).reshape(-1,1)"
   ]
  },
  {
   "cell_type": "markdown",
   "id": "naked-arrangement",
   "metadata": {},
   "source": [
    "Let's choose a fanfic we are interested in. This fanfic is a sexual/dark piece with rarity=4.2 (so pretty close to being an outlier). Thus, recommending normal style fanfic, even if it's hardcore sex, won't fit the writing style of this story"
   ]
  },
  {
   "cell_type": "code",
   "execution_count": 223,
   "id": "funded-federal",
   "metadata": {},
   "outputs": [
    {
     "name": "stdout",
     "output_type": "stream",
     "text": [
      "\n",
      "[500]('30824165', 'The Seven Who Fell') Teen And Up Audiences\n",
      "['RWBY']\n",
      "https://archiveofourown.org/works/30824165\n",
      "['Angst', 'Hurt No Comfort', 'Spoilers: Volume 8 (RWBY)', 'Volume 8 (RWBY)', 'POV Multiple', 'Assisted Suicide', 'Grief/Mourning', 'Loss', 'Winter Maiden Winter Schnee (RWBY)', 'No beta we die like Penny again', 'Canonical Character Death', 'Canon Compliant', 'Canon-Typical Violence', \"Yeah I'm upset\", 'This finale broke me']\n",
      "\n",
      "\n",
      "Golden sparks of light drifted from the edges of the massive blue portal. Yang eyed it dubiously as she and the rest of them approached. Their mission was to escort Penny, but it did sort of reassure her to see that so many civilians were making their way out of Mantle and onto the floating paths.\n",
      "\n",
      "Definitely Mantle. There were too many Faunus for them to be from the no-longer-floating city.\n",
      "\n",
      "She glanced sideways at Weiss, at Penny, then back at Blake and Ruby. Making sure that everyone was accounted for. It would just be typical of them to lose  someone at the last minute of a plan.\n",
      "\n",
      "Yang glanced towards the edge of the walkway. It was fuzzy. It hurt to focus on, if she was honest. Her eyes couldn’t figure out where the path ended and the drop began. Not that she was in a hurry to find out.\n",
      "\n",
      "Ambrosius’s warning was echoing in her mind. Don’t fall off. Yeah, don’t worry big guy, she read you loud and clear.\n",
      "\n",
      "The nervous murmuring of the civilians behind them was suddenly cut off by an\n",
      "\n",
      "Rarest words: ['chokingly', 'gracelessly', 'unshed', 'unconcealed', 'puddled', 'rasped', 'twirly', 'gambol', 'whited', 'lanced']\n",
      "\n",
      "Document rarity: 4.314851752021172\n"
     ]
    }
   ],
   "source": [
    "poi1 = 500\n",
    "print_fanfic(poi1, True, 1000)\n",
    "print('\\nRarest words:', rank_by_idf(poi1)[:10])\n",
    "print('\\nDocument rarity:', doc_freq[poi1])"
   ]
  },
  {
   "cell_type": "markdown",
   "id": "effective-vancouver",
   "metadata": {},
   "source": [
    "This is the ranking without using \"rarity\" as a metric"
   ]
  },
  {
   "cell_type": "code",
   "execution_count": 234,
   "id": "infrared-holly",
   "metadata": {},
   "outputs": [
    {
     "name": "stdout",
     "output_type": "stream",
     "text": [
      "\n",
      "[500]('30824165', 'The Seven Who Fell') Teen And Up Audiences\n",
      "['RWBY']\n",
      "https://archiveofourown.org/works/30824165\n",
      "['Angst', 'Hurt No Comfort', 'Spoilers: Volume 8 (RWBY)', 'Volume 8 (RWBY)', 'POV Multiple', 'Assisted Suicide', 'Grief/Mourning', 'Loss', 'Winter Maiden Winter Schnee (RWBY)', 'No beta we die like Penny again', 'Canonical Character Death', 'Canon Compliant', 'Canon-Typical Violence', \"Yeah I'm upset\", 'This finale broke me']\n",
      "\n",
      "Rarity Score: [4.31485175]\n",
      "1.0000000000000002\n",
      "\n",
      "[10765]('30165426', 'Prisoner aboard the Skyhold') Explicit\n",
      "['Bravely Default (Video Game) & Related Fandoms']\n",
      "https://archiveofourown.org/works/30165426\n",
      "['Plot What Plot/Porn Without Plot', 'Dirty Talk', 'Penis In Vagina Sex', 'Minor suicidal ideation', 'Taunting', 'Humiliation', 'Agnès Oblige/Tiz Arrior (background)', 'Gags']\n",
      "\n",
      "Rarity Score: [4.50122047]\n",
      "0.9745522761739571\n",
      "\n",
      "[19106]('30604475', 'Desperation') Explicit\n",
      "['Fire Emblem Series', 'Fire Emblem: Fuukasetsugetsu | Fire Emblem: Three Houses', 'Fire Emblem Heroes']\n",
      "https://archiveofourown.org/works/30604475\n",
      "['Fights', 'Fist Fights', 'Death', 'Blood', 'Blood and Injury', 'Violence', 'Swordfighting', \"I just wanted to write a fight scene don't judge me\", 'No Dialogue', 'Pre-Canon', 'Past Violence']\n",
      "\n",
      "Rarity Score: [4.60766949]\n",
      "0.9745397593772203\n",
      "\n",
      "[14017]('29296917', 'Flames Beneath Your Skin') Teen And Up Audiences\n",
      "['The Legend of Zelda & Related Fandoms', 'The Legend of Zelda: Breath of the Wild']\n",
      "https://archiveofourown.org/works/29296917\n",
      "['FebuWhump2021', 'febuwhumpday7', 'poisoned', 'Assassination Attempt(s)', 'Hurt/Comfort', 'Link (Legend of Zelda) Needs a Hug', 'Zelda (Legend of Zelda) Needs A Hug', 'Hurt Link (Legend of Zelda)', 'Pre-Relationship', 'Sort Of', 'read into it as you please']\n",
      "\n",
      "Rarity Score: [4.43174468]\n",
      "0.9714560725991582\n",
      "\n",
      "[30686]('30870914', 'The Good In Me (is from you)') Mature\n",
      "['Star Wars - All Media Types']\n",
      "https://archiveofourown.org/works/30870914\n",
      "['Dark', 'Alternate Universe - Canon Divergence', 'Rey is a Generals Agent', 'Kylo Ren is Not Nice', 'mention of dismembering', 'Violence', 'abstract use of the force', 'one shot for now']\n",
      "\n",
      "Rarity Score: [4.39538089]\n",
      "0.9704322352798797\n"
     ]
    }
   ],
   "source": [
    "from sklearn.metrics.pairwise import cosine_similarity\n",
    "\n",
    "cs = cosine_similarity(X[poi1].reshape(1,-1), X).flatten()\n",
    "\n",
    "for doc_id in np.argsort(-cs)[:5]:\n",
    "    print_fanfic(doc_id)\n",
    "    print('Rarity Score:', R[doc_id])\n",
    "    print(cs[doc_id])"
   ]
  },
  {
   "cell_type": "markdown",
   "id": "owned-thickness",
   "metadata": {},
   "source": [
    "This is the result after adding \"rarity\" as an additional score besides word embedding similarity."
   ]
  },
  {
   "cell_type": "code",
   "execution_count": 235,
   "id": "brown-testing",
   "metadata": {},
   "outputs": [
    {
     "name": "stdout",
     "output_type": "stream",
     "text": [
      "\n",
      "[29868]('30738275', 'Favorite Color') Explicit\n",
      "['Star Wars - All Media Types', 'Star Wars Legends: Republic Commando Series - Karen Traviss', 'Star Wars Prequel Trilogy']\n",
      "https://archiveofourown.org/works/30738275\n",
      "['Smut', 'Fluff and Smut', 'Vaginal Sex', 'Oral Sex', \"Mando'a Language (Star Wars)\", 'Alternate Universe', 'Alternate Universe - Everyone Lives/Nobody Dies', 'References to Star Wars Legends: Republic Commando Series - Karen Traviss', \"Clone Troopers Speak Mando'a (Star Wars)\"]\n",
      "\n",
      "Rarity Score: [4.33055472]\n",
      "Rarest words: ['unhelmeted', 'handbreadth', 'spasmed', 'vau', 'undulated', 'distractedly', 'underclothes', 'belying', 'sidelong', 'codpiece']\n",
      "word emb score 0.968, rarity score 0.984\n",
      "\n",
      "[4220]('30697865', 'To The Dead Butterflies') Teen And Up Audiences\n",
      "['鬼滅の刃 | Demon Slayer: Kimetsu no Yaiba (Anime)']\n",
      "https://archiveofourown.org/works/30697865\n",
      "['manga spoilers!', 'Angst', 'Hurt No Comfort', 'Alternate Universe - Canon Divergence', 'time skip', 'Flashbacks', 'I shouldn’t have written this', 'it’s sad', 'SO SAD', 'for real there’s nothing happy']\n",
      "\n",
      "Rarity Score: [4.30429791]\n",
      "Rarest words: ['unseeingly', 'warningly', 'haori', 'wetly', 'slitted', 'unsheathing', 'rasped', 'questioningly', 'hushing', 'wist']\n",
      "word emb score 0.963, rarity score 0.989\n",
      "\n",
      "[16103]('28559313', 'What If') Mature\n",
      "['Open Heart (Visual Novels)']\n",
      "https://archiveofourown.org/works/28559313\n",
      "['Alternate Universe - High School', 'Childhood Friends', 'Childhood Sweethearts', 'What-If', 'Exes', 'the one that got away']\n",
      "\n",
      "Rarity Score: [4.3334748]\n",
      "Rarest words: ['exhilarative', 'sacchariferous', 'unforsaken', 'invitingly', 'quiescence', 'inconspicuously', 'wordlessly', 'stringently', 'lidded', 'crackled']\n",
      "word emb score 0.967, rarity score 0.981\n",
      "\n",
      "[11853]('30165039', 'Haunted') Teen And Up Audiences\n",
      "['Little Nightmares (Video Games)']\n",
      "https://archiveofourown.org/works/30165039\n",
      "['Nightmares', 'Angst', 'Memories', 'Imprisonment', 'Creepy', 'the Hunter has so much potential to be awful (i love it)', 'turning humans into dolls (stuffing)', 'non-graphic animal death', 'Past Child Abuse', 'Starvation', 'minor hints to cannibalism', 'Vomiting', 'we get a bit into Stockholm Syndrome territory ngl', 'Blood and Injury', 'Panic Attacks', 'all the bad stuff happens in dreams/flashbacks', 'Trauma', 'Emotional Hurt/Comfort', 'Fluff', 'Platonic Cuddling', \"why yes; that's going to be a tag on every story in this series\", 'what about it', 'good end au']\n",
      "\n",
      "Rarity Score: [4.3214728]\n",
      "Rarest words: ['uncurled', 'ignorable', 'rasped', 'tiredly', 'nightshirt', 'absently', 'unrolling', 'limply', 'obligingly', 'skitter']\n",
      "word emb score 0.960, rarity score 0.993\n",
      "\n",
      "[19515]('30525354', 'The Beetle') Teen And Up Audiences\n",
      "['The Locked Tomb Trilogy | Gideon the Ninth Series - Tamsyn Muir']\n",
      "https://archiveofourown.org/works/30525354\n",
      "['Canon-Typical Violence', 'cw: bug imagery', \"There are illustrations because I'm an art whore\", 'also some Judith/Marta if you squint', 'cw: suicide attempt', \"canaan-compliant until it isn't\", 'Hello! I am here to help spread the good Coronabith word!']\n",
      "\n",
      "Rarity Score: [4.31253968]\n",
      "Rarest words: ['sunniness', 'levelly', 'bedmate', 'bashfully', 'necromantic', 'spitefully', 'osseous', 'impassively', 'singsong', 'dreamless']\n",
      "word emb score 0.955, rarity score 0.998\n"
     ]
    }
   ],
   "source": [
    "rs = (1 - abs(R - R[poi1])).flatten()\n",
    "\n",
    "for doc_id in np.argsort(-(cs+rs*0.5))[1:6]:\n",
    "    print_fanfic(doc_id)\n",
    "    print('Rarity Score:', R[doc_id])\n",
    "    print('Rarest words:', rank_by_idf(doc_id)[:10])\n",
    "    print(f'word emb score {cs[doc_id]:.3f}, rarity score {rs[doc_id]:.3f}')"
   ]
  },
  {
   "cell_type": "markdown",
   "id": "pressing-creek",
   "metadata": {},
   "source": [
    "I think the results are getting a bit better (the first one does match the target fanfic pretty well). Let's try another fanfic. This is a \"normal\" fanfic with average (or low) amount of rare words used. Also, notice how in fanfic like this, the rare words tend to be nouns, whereas for a \"proper\" sophisticated work, the rare words are oftentimes adjectives or adverbs."
   ]
  },
  {
   "cell_type": "code",
   "execution_count": 238,
   "id": "blond-statistics",
   "metadata": {},
   "outputs": [
    {
     "name": "stdout",
     "output_type": "stream",
     "text": [
      "\n",
      "[1]('30837545', 'Playing the waiting game') Not Rated\n",
      "['Formula 1 RPF']\n",
      "https://archiveofourown.org/works/30837545\n",
      "['Gangs', 'Alternate Universe - Gang World', 'Gang Violence', 'Shooting', 'Shooting Guns', 'Coma', 'Hospitals', 'Angst', 'Hurt/Comfort', 'Emotional Hurt/Comfort', 'Hurt', 'Emotional Hurt', 'Talking', 'Feelings', 'Angst and Hurt/Comfort']\n",
      "\n",
      "\n",
      "Alex didn’t mean to get injured on his mission, he didn’t mean to put himself in the line of danger, it just happened. It wasn’t like he was distracted by anything, George was in Australia with Daniel and Hulk following a lead of something that had to do with Fernando. Alex knew George was in safe hands, he knew George wouldn’t get hurt. Lando was still on his mind, Alex still cried a lot about him. It was only a month ago, Alex had learnt to live with Lando on his mind at this point. He had seen Lando about with Michael, usually getting a piggyback from the older one but Alex didn’t know what they were. Nobody did, they didn’t say anything and nobody asked. They kind of just went with it. But Alex isn’t sure why he got injured, he isn’t sure why he put himself in danger. It was just him and Valtteri on this mission, gathering files that needed to be destroyed from the police building. It should have been easy, they had everything mapped out and planned but it looks like the police ha\n",
      "\n",
      "Rarest words: ['rasped', 'hoarsely', 'sleepily', 'hoarse', 'earpiece', 'crouched', 'wavering', 'fumbling', 'blinked', 'bummed']\n",
      "\n",
      "Document rarity: 4.80875331564859\n"
     ]
    }
   ],
   "source": [
    "poi2 = 1\n",
    "print_fanfic(poi2, True, 1000)\n",
    "print('\\nRarest words:', rank_by_idf(poi2)[:10])\n",
    "print('\\nDocument rarity:', doc_freq[poi2])"
   ]
  },
  {
   "cell_type": "code",
   "execution_count": 239,
   "id": "departmental-landscape",
   "metadata": {},
   "outputs": [
    {
     "name": "stdout",
     "output_type": "stream",
     "text": [
      "\n",
      "[13705]('30155592', 'When in Greece') Not Rated\n",
      "['Formula 1 RPF', 'Formula E RPF']\n",
      "https://archiveofourown.org/works/30155592\n",
      "['Gangs', 'Alternate Universe - Gang World', 'Shooting', 'Shooting Guns', 'Gun Violence', 'How tf do I tag this then?', 'Fluff', 'Hurt/Comfort', 'righting some wrongs', 'Everyone Needs A Hug', 'Angst', 'did I hurt Nyck again?', 'yes - Freeform', 'but only for a little bit of the story', 'Gang Violence', 'IDK how to tag this tbh', 'Lando likes mamma Mia', 'Someone Give Alex a Hug', 'please', 'he’s going through some stuff']\n",
      "\n",
      "\n",
      "Rarest words: ['stoff', 'shyly', 'hesitantly', 'cradling', 'refocus', 'blinked', 'beaming', 'flutter', 'lull', 'hurried']\n",
      "Rarity Score: [4.82967557]\n",
      "\n",
      "[27310]('30602675', \"if he's anything like me\") Mature\n",
      "['Marvel Cinematic Universe', 'Iron Man (Movies)', 'Captain America (Movies)', 'Spider-Man (Tom Holland Movies)']\n",
      "https://archiveofourown.org/works/30602675\n",
      "['Mentioned Skip Westcott', 'Past Sexual Abuse', 'Past Child Abuse', 'Nightmares', 'Anger', 'Therapy', 'Bullying', 'Homophobia', 'Homophobic Language', 'Fist Fights', 'Protective Steve Rogers', 'Protective Tony Stark', 'Parent Steve Rogers', 'Parent Tony Stark', 'Protective Harley Keener', 'Minor character death in a dream', 'that we all agree deserves it i think', 'Hurt/Comfort']\n",
      "\n",
      "\n",
      "Rarest words: ['ruffling', 'whirled', 'egging', 'buckling', 'muscled', 'mutter', 'prying', 'hysterically', 'sarcastically', 'clung']\n",
      "Rarity Score: [4.70351724]\n",
      "\n",
      "[15971]('27616273', 'A cage made of skin.') Teen And Up Audiences\n",
      "['SEVENTEEN (Band)']\n",
      "https://archiveofourown.org/works/27616273\n",
      "['Alternate Universe - College/University', 'Horror', 'but not really', 'just an attempt', 'Suicidal Thoughts', 'Implied/Referenced Suicide', 'jihoon is tomie', 'Past Relationship(s)', 'woozi harem', 'Everybody loves Jihoon', \"he's tomie duh\", 'except seungcheol', 'Chaos', 'Angst', 'Loads of it', 'Succubi & Incubi', 'Romance', 'Blood and Gore', 'kinda i guess']\n",
      "\n",
      "\n",
      "Rarest words: ['distractedly', 'tiredly', 'protectively', 'doorframe', 'absentmindedly', 'reincarnate', 'scowling', 'headrest', 'hesitantly', 'bossing']\n",
      "Rarity Score: [4.58216393]\n",
      "\n",
      "[7033]('30734132', 'Breaking point') Not Rated\n",
      "['Formula 1 RPF']\n",
      "https://archiveofourown.org/works/30734132\n",
      "['lol I’m sorry', 'Angst', 'Sad Ending', 'Hurt/Comfort', 'Emotional Hurt/Comfort', 'Hurt', 'Break Up', 'Leaving', 'Running Away', 'Reference to playing the game in this', 'Everyone Needs A Hug', \"I'm Sorry\", 'Danger', 'Gangs', 'Alternate Universe - Gang World', 'Cliffhangers', 'upset', 'Emotional', 'im so sorry', 'Kidnapping', 'Shooting', 'Shooting Guns', 'scaling a building', 'sassy Nyck', 'Arguing', 'Baking', 'Cookies', 'Flour fights', 'Hoodies', 'Sharing Clothes', 'Sharing a Bed']\n",
      "\n",
      "\n",
      "Rarest words: ['hoarsely', 'smugly', 'carding', 'balled', 'doings', 'instantaneously', 'smirk', 'hunch', 'pondering', 'puffy']\n",
      "Rarity Score: [4.88]\n",
      "\n",
      "[30868]('30846410', 'All of Us Or None of Us (Live With Me)') Mature\n",
      "['방탄소년단 | Bangtan Boys | BTS']\n",
      "https://archiveofourown.org/works/30846410\n",
      "['First Time', 'Punk AU', 'mild violence', 'Fighting', \"Everyone's in love\", 'Threesome', 'There was only one bed!']\n",
      "\n",
      "\n",
      "Rarest words: ['fluttery', 'thoroughness', 'unbuttoned', 'lanky', 'flaunting', 'mouthing', 'helplessly', 'knelt', 'panhandle', 'screech']\n",
      "Rarity Score: [4.70283505]\n"
     ]
    }
   ],
   "source": [
    "cs = cosine_similarity(X[poi2].reshape(1,-1), X).flatten()\n",
    "for doc_id in np.argsort(-cs)[1:6]:\n",
    "    print_fanfic(doc_id)\n",
    "    print('\\nRarest words:', rank_by_idf(doc_id)[:10])\n",
    "    print('Rarity Score:', R[doc_id])"
   ]
  },
  {
   "cell_type": "code",
   "execution_count": 240,
   "id": "insured-venue",
   "metadata": {},
   "outputs": [
    {
     "name": "stdout",
     "output_type": "stream",
     "text": [
      "\n",
      "[13705]('30155592', 'When in Greece') Not Rated\n",
      "['Formula 1 RPF', 'Formula E RPF']\n",
      "https://archiveofourown.org/works/30155592\n",
      "['Gangs', 'Alternate Universe - Gang World', 'Shooting', 'Shooting Guns', 'Gun Violence', 'How tf do I tag this then?', 'Fluff', 'Hurt/Comfort', 'righting some wrongs', 'Everyone Needs A Hug', 'Angst', 'did I hurt Nyck again?', 'yes - Freeform', 'but only for a little bit of the story', 'Gang Violence', 'IDK how to tag this tbh', 'Lando likes mamma Mia', 'Someone Give Alex a Hug', 'please', 'he’s going through some stuff']\n",
      "\n",
      "Rarity Score: [4.82967557]\n",
      "\n",
      "Rarest words: ['stoff', 'shyly', 'hesitantly', 'cradling', 'refocus', 'blinked', 'beaming', 'flutter', 'lull', 'hurried']\n",
      "word emb score 0.980, rarity score 0.979\n",
      "\n",
      "[10128]('30479760', 'Here for You') Teen And Up Audiences\n",
      "['Star Wars: Rebels', 'Star Wars - All Media Types']\n",
      "https://archiveofourown.org/works/30479760\n",
      "['Outing', 'Alternate Universe - Modern Setting', 'Alternate Universe - High School', 'Zeb and Kallus are teenagers']\n",
      "\n",
      "Rarity Score: [4.79855422]\n",
      "\n",
      "Rarest words: ['thrawn', 'encouragingly', 'dryly', 'brimmed', 'thermos', 'bridger', 'overbearing', 'tiredness', 'exasperated', 'aback']\n",
      "word emb score 0.971, rarity score 0.990\n",
      "\n",
      "[17369]('27065677', 'Life is Far Away From Fair') Teen And Up Audiences\n",
      "['Red White & Royal Blue - Casey McQuiston']\n",
      "https://archiveofourown.org/works/27065677\n",
      "['why do they all have such long names!!?', 'most of these characters are just mentioned btw', 'Angst', 'Fluff and Angst', 'Henry Needs A Hug', 'alex is a good boyfriend', 'Alex just wants to help', 'Henry Just Wants To Be Loved', 'Dorks in Love', 'firstprince', 'Hurt/Comfort']\n",
      "\n",
      "Rarity Score: [4.81]\n",
      "\n",
      "Rarest words: ['inaudibly', 'adoringly', 'soothingly', 'stargazing', 'unsaid', 'procrastinating', 'prying', 'tirade', 'glistening', 'hopelessness']\n",
      "word emb score 0.965, rarity score 0.999\n",
      "\n",
      "[28751]('30642644', 'There are no crocodiles in Hawaii') Not Rated\n",
      "['Hawaii Five-0 (2010)']\n",
      "https://archiveofourown.org/works/30642644\n",
      "['Fluff and Angst', 'Hurt/Comfort', 'Love Confessions', 'Idiots in Love', 'Camping', 'On The Water', 'Alligators & Crocodiles', 'not really - Freeform', 'Pranks and Practical Jokes', 'Worried Danny \"Danno\" Williams', 'Dorks in Love', 'just give them a hug']\n",
      "\n",
      "Rarity Score: [4.81124555]\n",
      "\n",
      "Rarest words: ['uncertainly', 'compartmentalize', 'clang', 'dinghy', 'gulp', 'goof', 'blinked', 'deliberation', 'murky', 'crept']\n",
      "word emb score 0.965, rarity score 0.998\n",
      "\n",
      "[13168]('30026544', 'The Gift of Heaven') Explicit\n",
      "['Star Wars - All Media Types', 'The Mandalorian (TV)']\n",
      "https://archiveofourown.org/works/30026544\n",
      "['Modern AU', 'Miscommunication', 'Angst', 'Slow Burn', 'Eventual Smut', 'not exactly unrequited love', 'Leia is done with his shit', 'Leia ships it', 'Mutual Pining', 'clueless luke']\n",
      "\n",
      "Rarity Score: [4.81995392]\n",
      "\n",
      "Rarest words: ['unhidden', 'pigheaded', 'fitful', 'cupped', 'bashful', 'reverie', 'smirking', 'dimple', 'pining', 'enamored']\n",
      "word emb score 0.968, rarity score 0.989\n"
     ]
    }
   ],
   "source": [
    "rs = (1 - abs(R - R[poi2])).flatten()\n",
    "for doc_id in np.argsort(-(cs+rs*0.5))[1:6]:\n",
    "    print_fanfic(doc_id)\n",
    "    print('Rarity Score:', R[doc_id])\n",
    "    print('\\nRarest words:', rank_by_idf(doc_id)[:10])\n",
    "    print(f'word emb score {cs[doc_id]:.3f}, rarity score {rs[doc_id]:.3f}')"
   ]
  },
  {
   "cell_type": "markdown",
   "id": "logical-harvard",
   "metadata": {},
   "source": [
    "However, this post a new problem -- looking at all these rare words, we notice that they are always adverbs. For example, frostily is not a \"hard\" word because it's obviously derived from frost. There has to be a better way to address the \"richness\" of the vocabulary than just using their frequency in common English."
   ]
  },
  {
   "cell_type": "code",
   "execution_count": 156,
   "id": "referenced-radical",
   "metadata": {},
   "outputs": [],
   "source": [
    "def rare_words_in_file(fn):\n",
    "    text = open(fn, 'r+', encoding='utf-8').read()\n",
    "    u = vectorizer.transform([text])\n",
    "    u_terms = vectorizer.inverse_transform(u)[0]\n",
    "    \n",
    "    return [\n",
    "        term for term in \\\n",
    "            sorted(u_terms, key=lambda x:zipf_frequency(x, 'en')) \\\n",
    "                if term in en_vocab\n",
    "    ]"
   ]
  },
  {
   "cell_type": "markdown",
   "id": "posted-explanation",
   "metadata": {},
   "source": [
    "Look at these two documents which have similar \"rarity score\" based on our calculation, but their actual \"richness\" is vastly different. How do you address this?"
   ]
  },
  {
   "cell_type": "code",
   "execution_count": 157,
   "id": "passing-polls",
   "metadata": {},
   "outputs": [
    {
     "name": "stdout",
     "output_type": "stream",
     "text": [
      "3.947067729083665\n"
     ]
    },
    {
     "data": {
      "text/plain": [
       "['uneager',\n",
       " 'gracelessness',\n",
       " 'damascened',\n",
       " 'candescent',\n",
       " 'imperturbability',\n",
       " 'scutter',\n",
       " 'unfallen',\n",
       " 'thirstily',\n",
       " 'shrive',\n",
       " 'fussily']"
      ]
     },
     "execution_count": 157,
     "metadata": {},
     "output_type": "execute_result"
    }
   ],
   "source": [
    "print(custom_corpus_freq('text/ulysses.txt'))\n",
    "rare_words_in_file('text/ulysses.txt')[:10]"
   ]
  },
  {
   "cell_type": "code",
   "execution_count": 159,
   "id": "micro-macro",
   "metadata": {},
   "outputs": [
    {
     "data": {
      "text/plain": [
       "'Stately, plump Buck Mulligan came from the stairhead, bearing a bowl of lather on which a mirror and a razor lay crossed. A yellow dressinggown, ungirdled, was sustained gently behind him on the mild morning air. He held the bowl aloft and intoned:\\n\\nâ€”Introibo ad altare Dei.\\n\\nHalted, he peered down the dark winding stairs and called out coarsely:\\n\\nâ€”Come up, Kinch! Come up, you fearful jesuit!\\n\\nSolemnly he came forward and mounted the round gunrest. He faced about and blessed gravely thrice th'"
      ]
     },
     "execution_count": 159,
     "metadata": {},
     "output_type": "execute_result"
    }
   ],
   "source": [
    "open('text/ulysses.txt', 'r+').read()[:500]"
   ]
  },
  {
   "cell_type": "code",
   "execution_count": 158,
   "id": "biblical-somewhere",
   "metadata": {},
   "outputs": [
    {
     "name": "stdout",
     "output_type": "stream",
     "text": [
      "3.991823939201765\n"
     ]
    },
    {
     "data": {
      "text/plain": [
       "['unsinking',\n",
       " 'fugitively',\n",
       " 'contrastively',\n",
       " 'intolerability',\n",
       " 'tauten',\n",
       " 'titillatingly',\n",
       " 'welcomingly',\n",
       " 'horrification',\n",
       " 'noncommittally',\n",
       " 'owlishly']"
      ]
     },
     "execution_count": 158,
     "metadata": {},
     "output_type": "execute_result"
    }
   ],
   "source": [
    "print(doc_freq[12450])\n",
    "rank_by_idf(12450)[:10]"
   ]
  },
  {
   "cell_type": "markdown",
   "id": "respiratory-kelly",
   "metadata": {},
   "source": [
    "This could be the limit of BOW. So should we model ngram into this (counting the frequency of ngrams using idf?) Or rather, there's something we have not captured, for example, grammar, POS, sentence?"
   ]
  },
  {
   "cell_type": "code",
   "execution_count": null,
   "id": "declared-globe",
   "metadata": {},
   "outputs": [],
   "source": []
  }
 ],
 "metadata": {
  "kernelspec": {
   "display_name": "Python 3",
   "language": "python",
   "name": "python3"
  },
  "language_info": {
   "codemirror_mode": {
    "name": "ipython",
    "version": 3
   },
   "file_extension": ".py",
   "mimetype": "text/x-python",
   "name": "python",
   "nbconvert_exporter": "python",
   "pygments_lexer": "ipython3",
   "version": "3.8.5"
  },
  "metadata": {
   "interpreter": {
    "hash": "bd4a725fc3d1727b4c35283f6ff1c9e83de9e2bfe34f8722b0a224f030df692c"
   }
  }
 },
 "nbformat": 4,
 "nbformat_minor": 5
}
