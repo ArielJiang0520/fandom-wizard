{
 "cells": [
  {
   "cell_type": "markdown",
   "id": "bridal-institute",
   "metadata": {},
   "source": [
    "## Rare v.s. Common words\n",
    "\n",
    "As mentioned in the *question* section of the README.md, I think how often the author uses rare words in the fanfic demonstrate the writing styles and could be a differentiation factor. Thus, here is a exploration done on the rare words frequency. "
   ]
  },
  {
   "cell_type": "code",
   "execution_count": 1,
   "id": "traditional-value",
   "metadata": {},
   "outputs": [
    {
     "name": "stdout",
     "output_type": "stream",
     "text": [
      "Data from \"data/ao3.p\" loaded. Document Size: 31034. System Memory: 1222.04mb\n"
     ]
    }
   ],
   "source": [
    "from dataloader import *"
   ]
  },
  {
   "cell_type": "code",
   "execution_count": 2,
   "id": "strategic-fiber",
   "metadata": {},
   "outputs": [],
   "source": [
    "import pandas as pd\n",
    "import pickle\n",
    "import numpy as np\n",
    "from collections import Counter, defaultdict\n",
    "from itertools import chain\n",
    "import re\n",
    "from sys import getsizeof\n",
    "import matplotlib.pyplot as plt\n",
    "plt.style.use('ggplot')\n",
    "\n",
    "from tqdm.notebook import trange, tqdm"
   ]
  },
  {
   "cell_type": "code",
   "execution_count": 3,
   "id": "seeing-shape",
   "metadata": {},
   "outputs": [
    {
     "name": "stdout",
     "output_type": "stream",
     "text": [
      "\n",
      "[0]('30843428', 'nervous by nature and overthinking everything') Teen And Up Audiences\n",
      "['Minecraft (Video Game)', 'Dream SMP - Fandom', 'Video Blogging RPF']\n",
      "https://archiveofourown.org/works/30843428\n",
      "['Angst', 'Angst with a Happy Ending', 'Kinda', 'Arguing', 'Fighting', 'Traumatized TommyInnit (Video Blogging RPF)', 'Resurrected TommyInnit (Video Blogging RPF)', 'Protective TommyInnit (Video Blogging RPF)', 'Ranboo Has Anxiety Disorder (Video Blogging RPF)', 'Ranboo & TommyInnit Friendship (Video Blogging RPF)', 'Ranboo Has a Tail (Video Blogging RPF)', 'Sad Ranboo (Video Blogging RPF)', 'Nonbinary Ranboo (Video Blogging RPF)', 'Mentioned Toby Smith | Tubbo', 'Platonically Married Ranboo and Toby Smith | Tubbo', 'All Platonic - Freeform', 'you fuckers', 'Unhealthy Coping Mechanisms', 'Canon Compliant']\n",
      "\n",
      "\n",
      "It was calm, that night in the tower. The kind of calm that came after a day of uneventful happenings, a feeling of peace that grew the longer into the evening it went. On the SMP, days were rarely ever peaceful. There was always something going on to focus on; a quest, a plan, an attack. Calm days were a blessing among so many tragedies that took place.\n",
      "\n",
      " \n",
      "\n",
      "Tommy was perched on the top of the lookout tower, looking over the prison. He’d been hanging around the central area of the SMP all day, \n"
     ]
    }
   ],
   "source": [
    "print_fanfic(0, True, 500)"
   ]
  },
  {
   "cell_type": "markdown",
   "id": "laughing-reservoir",
   "metadata": {},
   "source": [
    "we only care about the proper English words in the dictionary"
   ]
  },
  {
   "cell_type": "code",
   "execution_count": 4,
   "id": "transsexual-skirt",
   "metadata": {},
   "outputs": [
    {
     "name": "stdout",
     "output_type": "stream",
     "text": [
      "235892\n"
     ]
    }
   ],
   "source": [
    "import sklearn\n",
    "from sklearn.feature_extraction.text import TfidfVectorizer\n",
    "from nltk.corpus import words\n",
    "\n",
    "en_vocab = set(words.words())\n",
    "print(len(en_vocab))"
   ]
  },
  {
   "cell_type": "markdown",
   "id": "pharmaceutical-stereo",
   "metadata": {},
   "source": [
    "TF-IDF to get tokens in the corpus"
   ]
  },
  {
   "cell_type": "code",
   "execution_count": 5,
   "id": "inner-plasma",
   "metadata": {},
   "outputs": [],
   "source": [
    "vectorizer = TfidfVectorizer(\n",
    "    min_df=10,\n",
    "    stop_words='english'\n",
    ")\n",
    "T = vectorizer.fit_transform(corpus)"
   ]
  },
  {
   "cell_type": "code",
   "execution_count": 6,
   "id": "internal-jacket",
   "metadata": {},
   "outputs": [
    {
     "data": {
      "text/plain": [
       "'Corpus has 31034 documents with a vocab size of 44563'"
      ]
     },
     "execution_count": 6,
     "metadata": {},
     "output_type": "execute_result"
    }
   ],
   "source": [
    "f'Corpus has {T.shape[0]} documents with a vocab size of {T.shape[1]}'"
   ]
  },
  {
   "cell_type": "code",
   "execution_count": 7,
   "id": "aquatic-seattle",
   "metadata": {},
   "outputs": [],
   "source": [
    "doc_terms = vectorizer.inverse_transform(T)"
   ]
  },
  {
   "cell_type": "code",
   "execution_count": 8,
   "id": "international-bishop",
   "metadata": {},
   "outputs": [],
   "source": [
    "word_to_ix = vectorizer.vocabulary_\n",
    "ix_to_word = {i : w for w, i in word_to_ix.items()}"
   ]
  },
  {
   "cell_type": "markdown",
   "id": "detected-brooks",
   "metadata": {},
   "source": [
    "Some rare words rannking based on their idf score"
   ]
  },
  {
   "cell_type": "code",
   "execution_count": 9,
   "id": "unlimited-expert",
   "metadata": {
    "collapsed": true,
    "jupyter": {
     "outputs_hidden": true
    }
   },
   "outputs": [
    {
     "name": "stdout",
     "output_type": "stream",
     "text": [
      "treble 8.944975606049383\n",
      "overruling 8.944975606049383\n",
      "overrule 8.944975606049383\n",
      "jubilance 8.944975606049383\n",
      "catcall 8.944975606049383\n",
      "possum 8.944975606049383\n",
      "blunter 8.944975606049383\n",
      "fronting 8.944975606049383\n",
      "witchery 8.944975606049383\n",
      "unworldly 8.944975606049383\n",
      "frigidly 8.944975606049383\n",
      "frostily 8.944975606049383\n",
      "funerary 8.944975606049383\n",
      "suitability 8.944975606049383\n",
      "fulling 8.944975606049383\n",
      "sullenness 8.944975606049383\n",
      "hitchhiker 8.944975606049383\n",
      "leggy 8.944975606049383\n",
      "blueness 8.944975606049383\n",
      "modulate 8.944975606049383\n",
      "allegro 8.944975606049383\n",
      "devotee 8.944975606049383\n",
      "cordy 8.944975606049383\n",
      "citric 8.944975606049383\n",
      "prawn 8.944975606049383\n",
      "augment 8.944975606049383\n",
      "precipitated 8.944975606049383\n",
      "dib 8.944975606049383\n",
      "overfill 8.944975606049383\n",
      "leprechaun 8.944975606049383\n",
      "frenziedly 8.944975606049383\n",
      "attune 8.944975606049383\n"
     ]
    }
   ],
   "source": [
    "# rare word ranking\n",
    "for i in np.argsort(-vectorizer.idf_)[:100]:\n",
    "    if ix_to_word[i] in en_vocab:\n",
    "        print(ix_to_word[i], vectorizer.idf_[i])"
   ]
  },
  {
   "cell_type": "markdown",
   "id": "under-lotus",
   "metadata": {},
   "source": [
    "import wordfreq library to get common frequencies of English words. general method is averaging the frequency of each unique word in a document to get average frequency of this document"
   ]
  },
  {
   "cell_type": "code",
   "execution_count": 10,
   "id": "upset-store",
   "metadata": {},
   "outputs": [
    {
     "data": {
      "application/vnd.jupyter.widget-view+json": {
       "model_id": "c1106f1f9e964693bdaec1bd475b16a5",
       "version_major": 2,
       "version_minor": 0
      },
      "text/plain": [
       "  0%|          | 0/31034 [00:00<?, ?it/s]"
      ]
     },
     "metadata": {},
     "output_type": "display_data"
    }
   ],
   "source": [
    "from wordfreq import zipf_frequency\n",
    "\n",
    "doc_freq = {}\n",
    "for i, doc in enumerate(tqdm(doc_terms[:])):\n",
    "    freq, total_count = 0, 0\n",
    "    for term in doc:\n",
    "        if term in en_vocab:\n",
    "            freq += zipf_frequency(term, 'en')\n",
    "            total_count += 1\n",
    "    doc_freq[i] = freq / (total_count + 1e-10)"
   ]
  },
  {
   "cell_type": "code",
   "execution_count": 11,
   "id": "distinct-constitutional",
   "metadata": {},
   "outputs": [],
   "source": [
    "def custom_corpus_freq(fn):\n",
    "    text = open(fn, 'r+', encoding='utf-8').read()\n",
    "    u = vectorizer.transform([text])\n",
    "    u_terms = vectorizer.inverse_transform(u)[0]\n",
    "    \n",
    "    total_count, freq = 0, 0\n",
    "    for term in u_terms:\n",
    "        if term in en_vocab:\n",
    "            total_count += 1\n",
    "            freq += zipf_frequency(term, 'en')\n",
    "    return freq / total_count"
   ]
  },
  {
   "cell_type": "markdown",
   "id": "informal-wrong",
   "metadata": {},
   "source": [
    "rarity rank of documents (top results are not in English but are accidentally tagged as English)"
   ]
  },
  {
   "cell_type": "code",
   "execution_count": 18,
   "id": "faced-rider",
   "metadata": {},
   "outputs": [
    {
     "name": "stdout",
     "output_type": "stream",
     "text": [
      "Rare documents:\n",
      "4761 0.0\n",
      "11937 0.0\n",
      "15363 0.0\n",
      "20284 3.8099999998095\n",
      "9616 3.9370798898066197\n",
      "1627 3.9442502585311314\n",
      "26457 3.973208888888537\n",
      "19245 3.9959272359775633\n",
      "21417 4.000961538453845\n",
      "4422 4.0036585365756\n",
      "\n",
      "Common documents:\n",
      "19962 5.261739130411906\n",
      "30367 5.243831775696035\n",
      "4396 5.224285714273274\n",
      "27337 5.222727272717776\n",
      "29285 5.221304347818521\n",
      "8620 5.208235294109988\n",
      "284 5.171666666658047\n",
      "4430 5.14901408449979\n",
      "4429 5.144593023252824\n",
      "16842 5.138163265295636\n",
      "\n",
      "As some points of comparsion...\n",
      "Average word freq for \"Ulysses\" is 4.067898550724634\n",
      "Average word freq for \"Moby Dick\" is 4.200581140350868\n",
      "Average word freq for \"Emma\" is 4.303748071979432\n",
      "Average word freq for \"Les Misérables\" is 4.344717978848406\n",
      "Average word freq for \"Keeping Up With the Kardashians\" is 4.754082232011752\n"
     ]
    }
   ],
   "source": [
    "print('Rare documents:')\n",
    "for doc_id, freq in sorted(doc_freq.items(), key=lambda x:x[1])[:10]:\n",
    "    print(doc_id, freq)\n",
    "\n",
    "print('\\nCommon documents:')\n",
    "for doc_id, freq in sorted(doc_freq.items(), key=lambda x:-x[1])[:10]:\n",
    "    print(doc_id, freq)\n",
    "\n",
    "\n",
    "print('\\nAs some points of comparsion...')\n",
    "for name, fn in [\n",
    "    ('Ulysses', 'text/ulysses.txt'),\n",
    "    ('Moby Dick', 'text/moby dick.txt'),\n",
    "    ('Emma', 'text/emma.txt'),\n",
    "    ('Les Misérables', 'text/les mis.txt'),\n",
    "    ('Keeping Up With the Kardashians', 'text/kardashians.txt'),\n",
    "    ]:\n",
    "    print(f\"Average word freq for \\\"{name}\\\" is {custom_corpus_freq(fn)}\")"
   ]
  },
  {
   "cell_type": "markdown",
   "id": "expired-botswana",
   "metadata": {},
   "source": [
    "Some examaples of fanfics with rare words"
   ]
  },
  {
   "cell_type": "code",
   "execution_count": 20,
   "id": "received-balloon",
   "metadata": {
    "collapsed": true,
    "jupyter": {
     "outputs_hidden": true
    }
   },
   "outputs": [
    {
     "name": "stdout",
     "output_type": "stream",
     "text": [
      "\n",
      "[9616]('30469629', 'Cozy Morning') Explicit\n",
      "['Drawn Together (Cartoon)']\n",
      "https://archiveofourown.org/works/30469629\n",
      "['Xandir x Reader', 'Xandir P. Wifflebottom x Reader', 'Romance', 'Alternate Universe', 'Canon Divergent Sexuality', \"Don't Like Don't Read\", 'uh oh spicy tag time', 'Smut', 'Fluff and Smut', 'Morning Kisses', 'Morning Cuddles', 'Morning Sex', 'Vaginal Fingering', 'Vaginal Sex', 'Woman on Top', 'end of spicy tags', \"once again don't like don't read\", 'this is for the xandir fangirls']\n",
      "\n",
      "⋆┈┈｡ﾟ❃ུ۪ ❀ུ۪ ❁ུ۪ ❃ུ۪ ❀ུ۪ ﾟ｡┈┈⋆You wake to sugar-laced sweet nothings in your ear, an arm wrapped ‘round your waist, protective. A wall of warmth presses to your back, cocoons you, reigniting those ecstatic embers you’d thought were long extinguished. Like petals of a sleepy poppy, your eyelids droop as you slip under the tide of a tranquil dream—that is, until his lips brush tender against your nape, sending electric shivers through your unclad body. Fire flushes your face. You tense, a spring pulled taut. Mellifluous, his voice pours into your love-bite dappled neck: “ Good morning, sweetheart. ” Kisses pepper your rubied cheek, each one sneaking closer to your blooming grin.“Too...early,” you grouse, curling into a tight ball and covering your face from his kittenish advances.“Oh, is that so, my sleepy princess?” Another smooch tickles your cheek. “I suppose it wouldn’t hurt to stay like this a little longer…” Nuzzling your neck, he squeezes you tighter, teeth teasing your earlobe. H\n",
      "\n",
      "[1627]('30813020', 'languor') Not Rated\n",
      "['僕のヒーローアカデミア | Boku no Hero Academia | My Hero Academia']\n",
      "https://archiveofourown.org/works/30813020\n",
      "['Nipple Play', 'Vaginal Fingering', 'Tongue Piercings', 'Thighs', 'Dry Humping', 'Frottage', 'Manhandling', 'Rough Sex', 'Multiple Sex Positions', 'Multiple Orgasms', 'Exhibitionism', 'Breeding', 'Infidelity', 'Implied/Referenced Drug Use', 'Motherhood', 'Milf Reader', 'Spit Kink', 'Spit Play', 'Fluff and Smut', 'Shameless Smut', 'Plot What Plot/Porn Without Plot', 'Porn With Plot', 'Kissing', 'Rough Kissing', 'Neck Kissing', 'Choking', 'Dirty Talk', 'Biting', 'Smut', 'Reader-Insert', 'Intimacy', 'Age Difference', 'MILFs']\n",
      "\n",
      "\n",
      "\n",
      "today is a new day.today, hitoshi shinso sits easy, sprawled out on your plush, ivory, chaise lounge, with his legs spread just wide enough that you might venture to plant yourself between them.a familiar, stale whiff of remorse tickles your throat as you breathe him in, the smell of his cologne muddled with the earthy stench of weed, fumes clinging to his hair. he hasn’t smoked today, and he hasn’t touched you yet; he doesn’t have to.this is not the first time this has happened.\n",
      "hitoshi eyes you idly, a lazy grin clinging to the corners of his mouth as he watches you rearrange things, averting your gaze by shuffling the stack of coasters on your coffee table and swiping at the sweat beading on half-sipped glasses of iced tea. pretty, trembling hands reach for a single peach scone, lying askew on the edge of your honey-glazed mahogany pastry platter, and shepherd it back to its spot.\n",
      "\n",
      "as you move, your wedding ring glimmers in the warm glow of the sun, and for a moment, you consider \n",
      "\n",
      "[26457]('30766190', 'A (random) study of the (partial) alphabet') Mature\n",
      "['Bridgerton Series - Julia Quinn', 'Bridgerton (TV)']\n",
      "https://archiveofourown.org/works/30766190\n",
      "['Fluff and Angst', 'Family Dynamics', 'Family Feels', 'Regency', 'Kate and Benedict: art pals for life', 'Jealous Anthony Bridgerton', 'heartbroken Violet Bridgerton', 'Implied Polin', 'rare Francesca sighting', 'Eloise and Kate: partners in crime', 'Anthony Bridgerton: surrogate father to Hyacinth and Gregory', 'Romance', 'Soft Feels', 'Bridgertons Being Bridgertons', 'emotional Anthony', 'Comfort', 'Kate and Anthony providing each other comfort', 'Anthony Bridgerton: besotted with Kate Sharma since 1814', 'Newton chasing rabbits', 'In upcoming 2nd chapter: Kate gets on her knees for a non-key related reason ;)', 'Gregory Bridgerton’s 1st crush was Kate Sharma', '2nd-chapter Anthony could’ve written “Slipping Through My Fingers” from Mamma Mia']\n",
      "\n",
      "Kate had always considered herself an innately observant person. Over the years, she’d been able to hone her prowess without much intrusion, especially once she’d reached adolescence and nearly all extrafamilial compliments and instances of acknowledgment were intended for Edwina.The newly minted Viscountess particularly prided herself in her abilities to deftly read her loved ones. She noticed Mary’s habit of sneakily stroking the back of Newton’s head whenever he dozed (and whenever she misguidedly assumed the uncharacteristic display of affection towards Kate's precious pet would go unnoticed.) She noticed how Edwina’s famously idyllic eyes seemed to sharpen whenever they encountered an especially riveting philosophical text. She noticed how Newton’s continuously upright ears drooped in dismay whenever he was snubbed by rabbits he attempted to befriend. And while her dear papa had not-so-recently departed the living, she believed she’d always remember the comically immense amount of\n"
     ]
    }
   ],
   "source": [
    "print_fanfic(9616, True, 1000)\n",
    "print_fanfic(1627, True, 1000)\n",
    "print_fanfic(26457, True, 1000)"
   ]
  },
  {
   "cell_type": "markdown",
   "id": "offshore-ecology",
   "metadata": {},
   "source": [
    "some examples of fanfics with common words"
   ]
  },
  {
   "cell_type": "code",
   "execution_count": 23,
   "id": "respected-australia",
   "metadata": {
    "collapsed": true,
    "jupyter": {
     "outputs_hidden": true
    }
   },
   "outputs": [
    {
     "name": "stdout",
     "output_type": "stream",
     "text": [
      "\n",
      "[8620]('29770200', 'Wonderland Monologues') Mature\n",
      "['Durarara!!']\n",
      "https://archiveofourown.org/works/29770200\n",
      "['monologues', 'Jail', 'thoughts', 'Familiars', 'Apocalypse game', 'Worry', 'Misery']\n",
      "\n",
      "\n",
      "Chapter Text\n",
      "Wonderland MonologuesWalkerI have been in jail for… Oh, I don't know anymore. I have been here for a while now. To be honest with you, I am not really worried about it. I have seen people come in and out of here. Some of them tough and some of them look so scared to be here. I just sit in my cell and watch. What else can I do? They took my phone. There's no manga or anime here either.Erika always comes by to see me once a week. I know that she is worried about me. She wants to help me escape. I can't do that. Not yet anyway. I can't explain it. But I feel like I have to stay. Maybe I'm waiting for something. Or someone?\"Hm?\" I looked out of the cell door. There's someone coming. Hm… She looks about my age. This lady has her eyes to her feet. She looks like she has been crying. What did she do? The guards shoved her into a cell. I couldn't take my eyes off of her. I think she might because a key heroine to this prison break story.I will come back to that later.What was I t\n",
      "\n",
      "[30367]('30809168', 'wish you were here') Teen And Up Audiences\n",
      "['Video Blogging RPF', 'Minecraft (Video Game)']\n",
      "https://archiveofourown.org/works/30809168\n",
      "['EpicSMP', 'Ambiguous/Open Ending', 'Epistolary', 'Texting', 'Angst', 'Alternate Universe - Canon Divergence']\n",
      "\n",
      "\n",
      "Chapter Text\n",
      "\n",
      "<TedNivison> Hey Charlie! It's been a while since you've answered my messages, I hope you're having fun over there!\n",
      "\n",
      "<TedNivison> How’s Wilbur doing? Haven’t seen that guy in a long time, tell him I said hi!\n",
      " \n",
      "<TedNivison> Listen, there's\n",
      "\n",
      "<TedNivison> fuck how do I explain this\n",
      " \n",
      "<TedNivison> There's something going on over here\n",
      "\n",
      "<TedNivison> there’s something seriously wrong with this fucking server\n",
      "\n",
      "<TedNivison> people are disappearing Charlie and honestly it's freaking me out\n",
      "\n",
      "<TedNivison> and I'd say that I have no idea what's going on but\n",
      "\n",
      "<TedNivison> that might not be entirely true\n",
      "\n",
      "<TedNivison> do you remember when I tried to tell you about that weird hole thing near the Palcove? maybe you don't, you always said you'd never seen it\n",
      "\n",
      "<TedNivison> I don't think you knew that it existed at all\n",
      "\n",
      "<TedNivison> but\n",
      "\n",
      "<TedNivison> I think that whatever's going on has something to do with that... thing\n",
      "\n",
      "<TedNivison> that void\n",
      "\n",
      "<TedNivison> and\n",
      "\n",
      "<TedNivison> I think it mig\n",
      "\n",
      "[29285]('28637370', 'The lovely mishaps of Yamaguchi Tadashi') Not Rated\n",
      "['Haikyuu!!']\n",
      "https://archiveofourown.org/works/28637370\n",
      "['Yamaguchi Tadashi in Love', 'Yamaguchi Tadashi Needs a Hug', 'POV Yamaguchi Tadashi', 'Bisexual Yamaguchi Tadashi', 'Yamaguchi Tadashi-centric', 'Short Chapters', 'Unrequited Love', 'Break Up', 'Fake/Pretend Relationship', 'Implied Sexual Content', 'But also', 'No Smut', 'Rejection', 'One Night Stands', 'Friends With Benefits', \"Yamaguchi Tadashi's Freckles\"]\n",
      "\n",
      "\n",
      "Chapter Text\n",
      "It was a late October evening when you called me that one time, telling me of how you and Kuroo were going out. I never thought I'd be jealous of that. Sure, I wasn't blind to my feelings towards you, but I also wanted you to be happy, right? If being with Kuroo made you happy, I shouldn't be jealous. I always knew one day we'd drift away, but I didn't think it would be in our first year in high school together.  Still 2 more years left to go, but not with you. Its not like I want us to stop being friends, I just want you to be happy. You're happier with him, so that means I should leave. Right? I think all this time I subconsciously thought that he didn't belong in this picture, but i guess it was always me who didn't belong after all. Im sorry I intruded. Ill see myself out. I still have an album of our photos together, but I don't look at it anymore. I figured that, even though it's over, we still had all those years together. To throw all our memories away would be st\n"
     ]
    }
   ],
   "source": [
    "print_fanfic(8620, True, 1000)\n",
    "print_fanfic(30367, True, 1000)\n",
    "print_fanfic(29285, True, 1000)"
   ]
  },
  {
   "cell_type": "markdown",
   "id": "analyzed-congress",
   "metadata": {},
   "source": [
    "some basic stats giving an overview of the distribution"
   ]
  },
  {
   "cell_type": "code",
   "execution_count": 37,
   "id": "intelligent-canada",
   "metadata": {},
   "outputs": [
    {
     "data": {
      "image/png": "[encoded data removed]",
      "text/plain": [
       "<Figure size 864x288 with 2 Axes>"
      ]
     },
     "metadata": {},
     "output_type": "display_data"
    }
   ],
   "source": [
    "fig, axs = plt.subplots(1, 2, figsize=(12, 4))\n",
    "\n",
    "axs[0].hist(doc_freq.values(), range=(3.8, 5.25))\n",
    "\n",
    "axs[1].boxplot(doc_freq.values())\n",
    "axs[1].set_ylim((3.8, 5.25))\n",
    "\n",
    "plt.show(fig)"
   ]
  },
  {
   "cell_type": "code",
   "execution_count": 25,
   "id": "massive-tsunami",
   "metadata": {},
   "outputs": [
    {
     "data": {
      "image/png": "[encoded data removed]",
      "text/plain": [
       "<Figure size 432x288 with 1 Axes>"
      ]
     },
     "metadata": {},
     "output_type": "display_data"
    }
   ],
   "source": [
    "fandom_counter = Counter(chain.from_iterable(fandoms))\n",
    "plt.hist(fandom_counter.values(), range=(0, 400))\n",
    "plt.show()"
   ]
  },
  {
   "cell_type": "code",
   "execution_count": 26,
   "id": "virtual-injection",
   "metadata": {},
   "outputs": [
    {
     "name": "stdout",
     "output_type": "stream",
     "text": [
      "Top 10 Fandom community\n"
     ]
    },
    {
     "data": {
      "text/plain": [
       "[('僕のヒーローアカデミア | Boku no Hero Academia | My Hero Academia', 1470),\n",
       " ('Video Blogging RPF', 1337),\n",
       " ('Minecraft (Video Game)', 1297),\n",
       " ('Harry Potter - J. K. Rowling', 1051),\n",
       " ('Marvel Cinematic Universe', 1033),\n",
       " ('Haikyuu!!', 977),\n",
       " ('방탄소년단 | Bangtan Boys | BTS', 942),\n",
       " ('原神 | Genshin Impact (Video Game)', 749),\n",
       " ('NCT (Band)', 513),\n",
       " ('Star Wars - All Media Types', 513)]"
      ]
     },
     "execution_count": 26,
     "metadata": {},
     "output_type": "execute_result"
    }
   ],
   "source": [
    "print('Top 10 Fandom community')\n",
    "sorted(fandom_counter.items(), key=lambda x:-x[1])[:10]"
   ]
  },
  {
   "cell_type": "code",
   "execution_count": 27,
   "id": "alone-power",
   "metadata": {},
   "outputs": [
    {
     "name": "stdout",
     "output_type": "stream",
     "text": [
      "3.26% fandom communities account for 84.38% of fanfictions.\n"
     ]
    }
   ],
   "source": [
    "labels, count = zip(*[(key, count) for key, count in fandom_counter.items() if count > 50])\n",
    "print(f'{len(labels) * 100 / len(fandom_counter):.2f}% fandom communities account for {sum(count) * 100 / len(df):.2f}% of fanfictions.')"
   ]
  },
  {
   "cell_type": "markdown",
   "id": "human-arabic",
   "metadata": {},
   "source": [
    "The above is a rough estimate, because one fanfic can belong to multiple fandoms. Let's compute the average freq of each fandom"
   ]
  },
  {
   "cell_type": "code",
   "execution_count": 29,
   "id": "unsigned-minneapolis",
   "metadata": {},
   "outputs": [],
   "source": [
    "fandom_freq = {key: [] for key, count in fandom_counter.items() if count > 50}\n",
    "for doc_id, ave_freq in doc_freq.items():\n",
    "    for f in fandoms[doc_id]:\n",
    "        if f in fandom_freq:\n",
    "            fandom_freq[f].append(ave_freq)\n",
    "fandom_freq = {key: sum(freq_list) / len(freq_list) for key, freq_list in fandom_freq.items()}"
   ]
  },
  {
   "cell_type": "code",
   "execution_count": 30,
   "id": "framed-preliminary",
   "metadata": {
    "collapsed": true,
    "jupyter": {
     "outputs_hidden": true
    }
   },
   "outputs": [
    {
     "name": "stdout",
     "output_type": "stream",
     "text": [
      "Top 20 fandoms using rare words\n",
      "The Terror (TV 2018) 53 4.43\n",
      "Final Fantasy XIV 78 4.455\n",
      "The Silmarillion and other histories of Middle-Earth - J. R. R. Tolkien 62 4.459\n",
      "Dragon Age: Inquisition 80 4.486\n",
      "Dragon Age (Video Games) 79 4.491\n",
      "Hades (Video Game 2018) 70 4.502\n",
      "Dragon Age - All Media Types 55 4.511\n",
      "天官赐福 - 墨香铜臭 | Tiān Guān Cì Fú - Mòxiāng Tóngxiù 54 4.511\n",
      "Compilation of Final Fantasy VII 76 4.512\n",
      "山河令 | Word of Honor (TV 2021) 65 4.518\n",
      "Hannibal (TV) 83 4.52\n",
      "The Witcher (TV) 124 4.526\n",
      "Good Omens (TV) 140 4.528\n",
      "Wiedźmin | The Witcher - All Media Types 205 4.53\n",
      "The Legend of Zelda & Related Fandoms 56 4.531\n",
      "陈情令 | The Untamed (TV) 318 4.533\n",
      "魔道祖师 - 墨香铜臭 | Módào Zǔshī - Mòxiāng Tóngxiù 324 4.533\n",
      "The Mandalorian (TV) 160 4.533\n",
      "Good Omens - Neil Gaiman & Terry Pratchett 110 4.534\n",
      "InuYasha - A Feudal Fairy Tale 60 4.535\n",
      "\n",
      "Top 20 fandoms using common words\n",
      "9-1-1: Lone Star (TV 2020) 87 4.725\n",
      "Formula 1 RPF 80 4.704\n",
      "Shameless (US) 67 4.685\n",
      "9-1-1 (TV) 147 4.681\n",
      "Glee 55 4.674\n",
      "No Fandom 67 4.667\n",
      "Criminal Minds (US TV) 165 4.664\n",
      "Percy Jackson and the Olympians & Related Fandoms - All Media Types 56 4.663\n",
      "Julie and The Phantoms (TV 2020) 108 4.66\n",
      "Spider-Man (Tom Holland Movies) 159 4.657\n",
      "Sanders Sides (Web Series) 163 4.654\n",
      "Percy Jackson and the Olympians - Rick Riordan 76 4.652\n",
      "Law & Order: SVU 83 4.651\n",
      "Miraculous Ladybug 233 4.649\n",
      "Agents of S.H.I.E.L.D. (TV) 66 4.647\n",
      "Banana Fish (Anime & Manga) 56 4.644\n",
      "Iron Man (Movies) 155 4.644\n",
      "The 100 (TV) 94 4.643\n",
      "The Falcon and the Winter Soldier (TV) 320 4.642\n",
      "All For The Game - Nora Sakavic 53 4.642\n"
     ]
    }
   ],
   "source": [
    "print('Top 20 fandoms using rare words')\n",
    "for fandom, ave_freq in sorted(fandom_freq.items(), key=lambda x:x[1])[:20]:\n",
    "    print(fandom, fandom_counter[fandom], round(ave_freq, 3))\n",
    "\n",
    "print('\\nTop 20 fandoms using common words')\n",
    "for fandom, ave_freq in sorted(fandom_freq.items(), key=lambda x:-x[1])[:20]:\n",
    "    print(fandom, fandom_counter[fandom], round(ave_freq, 3))"
   ]
  },
  {
   "cell_type": "markdown",
   "id": "portable-watch",
   "metadata": {},
   "source": [
    "There is not much rare v.s. common word usage difference between fandoms. But fantasy-related fandoms seem to have more rare words, probably becuase of the specific settings used in these fandoms. On the other hand, US TV-related fandoms use more common words, probably because they are set in a more everyday, modern setting.\n",
    "\n",
    "Let's try adding this score to the current word embedding ranking system?"
   ]
  },
  {
   "cell_type": "code",
   "execution_count": 31,
   "id": "further-rendering",
   "metadata": {},
   "outputs": [],
   "source": [
    "X = np.load('matrix/X.npy')"
   ]
  },
  {
   "cell_type": "code",
   "execution_count": 77,
   "id": "administrative-concert",
   "metadata": {},
   "outputs": [],
   "source": [
    "R = np.array(list(doc_freq.values())).reshape(-1,1)"
   ]
  },
  {
   "cell_type": "markdown",
   "id": "acting-founder",
   "metadata": {},
   "source": [
    "Let's choose a fanfic we are interested in"
   ]
  },
  {
   "cell_type": "code",
   "execution_count": 75,
   "id": "widespread-travel",
   "metadata": {},
   "outputs": [
    {
     "name": "stdout",
     "output_type": "stream",
     "text": [
      "\n",
      "[5]('30843302', 'On an Oaken Tablet') Explicit\n",
      "['The Terror (TV 2018)']\n",
      "https://archiveofourown.org/works/30843302\n",
      "['Dead Dove: Do Not Eat', 'Mutineer Era (The Terror)', 'Gang Rape', 'Sexual Violence', 'Oral Sex', 'Anal Sex', 'Forced Orgasm', 'Post-Orgasm Torture', 'Public Humiliation', 'Forced Feminization', 'verbal feminization', 'Unreliable Narrator', 'Twisted and Fluffy Feelings', 'Period Typical Attitudes', 'Implied/Referenced Sex Work', 'implied/referenced corporal punishment', 'Plot What Plot/Porn Without Plot', 'Hurt No Comfort', 'Angst']\n",
      "\n",
      "The doctor's flesh, uncooked pink, writhes naked on the sweat-polished oaken planks laid down as table, altar, plinth. The surface is near mirror-like after the passage across itself of so many suppers, by so many hungry hands, spread. First he yowls and claws at the place against which he's pinned belly-down, incensed into the spluttering of exhortations, hands wide on every scrap of his warm limbs on offer by powers here be and not by him himself. Goodsir's eyes are still wide and pleading until they roll back with his first crisis. It's des Voeux who takes it from him, nailing him hard, vicious in aim, the boards of the table rattling on those of the crate as he forces Goodsir through it. Even Goodsir can't but sob and quiver uncontrollably as the waves of intimate agony roil, spiked upward a last time  again,  within himself, before des Voeux also climaxes with a bitten-back curse. He pulls out, pearls of semen splattering onto the brightly reddened skin of Goodsir's beaten buttock\n",
      "\n",
      "Document rarity: 4.21034632034541\n"
     ]
    }
   ],
   "source": [
    "poi1 = 5\n",
    "print_fanfic(poi1, True, 1000)\n",
    "print('\\nDocument rarity:', doc_freq[poi1])"
   ]
  },
  {
   "cell_type": "markdown",
   "id": "copyrighted-necessity",
   "metadata": {},
   "source": [
    "This is the ranking without using \"rarity\" as a metric"
   ]
  },
  {
   "cell_type": "code",
   "execution_count": 79,
   "id": "naughty-heavy",
   "metadata": {},
   "outputs": [
    {
     "name": "stdout",
     "output_type": "stream",
     "text": [
      "\n",
      "[12450]('28311915', 'heaven and back') Explicit\n",
      "['富豪刑事 Balance:UNLIMITED | Fugou Keiji: Balance:Unlimited (Anime)']\n",
      "https://archiveofourown.org/works/28311915\n",
      "['Pre-Slash', 'Pre-Relationship', 'Post-Canon', 'by that i mean the direct scene after e11', 'Resolved Sexual Tension', 'Teasing', 'Frottage', 'light though', 'Lots of kissing', 'Nipple Play', 'Nipple Licking', 'Hand Jobs', 'Anal Fingering', 'Anal Sex', 'Top Kambe Daisuke', 'Bottom Katou Haru', 'Soft Kambe Daisuke', 'Soft Katou Haru', 'Kambe Daisuke Has a Big Dick', 'Creampie', 'just me or does anyone else forget what they wrote right after they finish', 'Blow Jobs', 'Partners to Lovers', 'Dirty Talk', 'ish?', 'Porn with Feelings', 'Explicit Sexual Content', 'Smut', 'Porn', 'it’s p fluffy ngl', 'SO', 'Fluff and Smut', 'Fluff', 'Multiple Orgasms', 'My First Work in This Fandom', 'Plot What Plot/Porn Without Plot']\n",
      "\n",
      "\n",
      "[5657]('30832025', 'Team Building Exercise') Explicit\n",
      "['Fate/Grand Order']\n",
      "https://archiveofourown.org/works/30832025\n",
      "['Gangbang', 'Size Difference', 'Spit As Lube', 'Double Anal Penetration', 'Creampie', 'Come Swallowing', 'No Aftercare', 'Plot What Plot/Porn Without Plot']\n",
      "\n",
      "\n",
      "[27217]('30616133', 'the devouring') Explicit\n",
      "['呪術廻戦 | Jujutsu Kaisen (Manga)']\n",
      "https://archiveofourown.org/works/30616133\n",
      "['Voyeurism', 'Extremely Dubious Consent', 'First Time', 'First Time Blow Jobs', 'Anal Sex', 'Anal Gaping', 'Rough Sex', 'Cousin Incest', 'Dead Dove: Do Not Eat', 'Invisible Curse Gangbang']\n",
      "\n",
      "\n",
      "[21343]('29989233', 'Playing in the Dark') Explicit\n",
      "['Haikyuu!!']\n",
      "https://archiveofourown.org/works/29989233\n",
      "['Explicit Sexual Content', 'Knifeplay', 'Plot What Plot/Porn Without Plot', 'the plot is knives are sexy', 'Multiple Orgasms', 'Organized Crime', 'Casino AU', 'Mafia AU', 'Las Vegas', 'Oikawa gets railed on a mahagony desk', 'The Author Regrets Nothing']\n",
      "\n",
      "\n",
      "[1657]('30814679', 'Tempting is the Vixen (You Least Expect)') Explicit\n",
      "['阴阳师 | Yīn Yáng Shī | The Yin-yang Master (Movies - Guo Jingming)', 'The Yin-Yang Master: Dream of Eternity']\n",
      "https://archiveofourown.org/works/30814679\n",
      "['Half Fox Demon!Qingming', 'Established Relationship', 'Post Movie', 'Fox Demons are Typically Female', 'And Also Shapeshifters', 'Ala The Obigatory Genderfuckery Fic Everyone on the Discord Asked For', 'Female Form Qingming', \"Ergo: That Time Boya Visits Qingming's Place and Discovers Surprise Boobs\", 'Male Pronouns Qingming', 'Qingming is a Little Shit', 'Soft Dom Qingming', \"Boya is Subby and doesn't even realise it\", 'top!qingming', 'bottom!boya', 'Gratuitous Smut', 'Frottage', 'Cunillingus', 'Vaginal Fingering', 'Vaginal Sex', 'Misuse of the Yin-Yang Shi/Shishen Bond', 'For the sake of next level Edging', 'Orgasm Denial', 'Edging', 'Poor Boya', 'Anal Fingering', 'Anal Sex', 'Overstimulation', 'Unexpected Form Switch', 'Oh heck Boya is not Prepare', \"Look he thinks he's going to Die but he's just being Dramatic\", 'probably', 'Dirty Talk', 'Knotting', 'Sweet Relief', 'fucked out', '#RipBoya', 'Aftercare', 'Bathing together because they’re GAY KAREN', 'Schmoop', 'Implied Possibility of Pregnancy', 'Discussions of MPreg?', 'Mentions of Pregnancy', 'discord made me do it', 'That’s a lie you did this to yourself Momo(Obae)', 'coming on command', 'Coming Untouched', 'Qingming Discovering the Wonders of the Female Orgasm', 'Multiple Orgasms', 'Because Of Course Qingming Gets Greedy', 'this is how you tag right', \"Beta'd\"]\n",
      "\n"
     ]
    }
   ],
   "source": [
    "from sklearn.metrics.pairwise import cosine_similarity\n",
    "\n",
    "cs = cosine_similarity(X[poi1].reshape(1,-1), X).flatten()\n",
    "for doc_id in np.argsort(-cs)[1:6]:\n",
    "    print_fanfic(doc_id)"
   ]
  },
  {
   "cell_type": "markdown",
   "id": "facial-disaster",
   "metadata": {},
   "source": [
    "This is the result after adding \"rarity\" as an additional score besides word embedding similarity."
   ]
  },
  {
   "cell_type": "code",
   "execution_count": 80,
   "id": "primary-confidentiality",
   "metadata": {},
   "outputs": [
    {
     "name": "stdout",
     "output_type": "stream",
     "text": [
      "\n",
      "[27217]('30616133', 'the devouring') Explicit\n",
      "['呪術廻戦 | Jujutsu Kaisen (Manga)']\n",
      "https://archiveofourown.org/works/30616133\n",
      "['Voyeurism', 'Extremely Dubious Consent', 'First Time', 'First Time Blow Jobs', 'Anal Sex', 'Anal Gaping', 'Rough Sex', 'Cousin Incest', 'Dead Dove: Do Not Eat', 'Invisible Curse Gangbang']\n",
      "\n",
      "word emb score 0.972, rarity score 0.986\n",
      "\n",
      "[1870]('30781790', 'In Wake of Battle') Explicit\n",
      "['Spartacus Series (TV)']\n",
      "https://archiveofourown.org/works/30781790\n",
      "['Porn', 'straight up porn', 'Anal Sex', 'Anal Fingering', 'Oral Fixation', 'Fluff', 'Fluff and Smut', 'Riding', 'Post-Battle Sex', 'two thoroughly enamored warriors']\n",
      "\n",
      "word emb score 0.961, rarity score 0.999\n",
      "\n",
      "[5366]('30854090', 'Number 1 in the bucket list') Explicit\n",
      "['Spider-Gwen (Comics)', 'Daredevil (TV)']\n",
      "https://archiveofourown.org/works/30854090\n",
      "['Unhealthy Relationships', 'Desperation', 'Non-Consensual', 'Dark', 'Hand Jobs', 'Blow Jobs', 'Mild Painplay', 'blood mention', 'Emotional/Psychological Abuse', 'Mention of addiction', 'Incontinence', 'urine mention', 'porn purple prose', 'Emotional Whump', 'memory repression', 'minor breathplay', 'Stockholm Syndrome', 'First Kiss', 'Matt Murdock and Foggy Nelson at Columbia']\n",
      "\n",
      "word emb score 0.959, rarity score 0.999\n",
      "\n",
      "[694]('30332217', 'take me to the pilot') Explicit\n",
      "['Star Wars - All Media Types', 'Star Wars Original Trilogy']\n",
      "https://archiveofourown.org/works/30332217\n",
      "['Established Relationship', 'Sex in an X-Wing (Star Wars)', 'On an X-wing?', 'There’s an X-Wing involved', 'Blow Jobs', 'Anal Fingering', 'Hair-pulling', 'Fluff', 'Han is infatuated']\n",
      "\n",
      "word emb score 0.962, rarity score 0.988\n",
      "\n",
      "[21908]('29863713', 'Rapture') Explicit\n",
      "['Final Fantasy XIV']\n",
      "https://archiveofourown.org/works/29863713\n",
      "['Porn With Plot', 'Priest Kink', 'Knotting', 'Choking', 'Church Sex', 'Public Sex', 'Anal Gaping', 'Anal Fingering', 'Multiple Orgasms', 'Face-Fucking', 'Nipple Play', 'Biting', 'Scratching', 'Dirty Talk', 'Corruption', 'Dubious Consent', 'Belly Bulging', 'Cum Inflation', 'Ear play']\n",
      "\n",
      "word emb score 0.965, rarity score 0.981\n"
     ]
    }
   ],
   "source": [
    "rs = (1 - abs(R - R[poi1])).flatten()\n",
    "\n",
    "for doc_id in np.argsort(-(cs+rs*0.5))[1:6]:\n",
    "    print_fanfic(doc_id)\n",
    "    print(f'word emb score {cs[doc_id]:.3f}, rarity score {rs[doc_id]:.3f}')"
   ]
  },
  {
   "cell_type": "markdown",
   "id": "scheduled-instrument",
   "metadata": {},
   "source": [
    "I think the results are getting a bit better (the first one does match the target fanfic pretty well). Let's try another fanfic"
   ]
  },
  {
   "cell_type": "code",
   "execution_count": 84,
   "id": "warming-stocks",
   "metadata": {},
   "outputs": [
    {
     "name": "stdout",
     "output_type": "stream",
     "text": [
      "\n",
      "[0]('30843428', 'nervous by nature and overthinking everything') Teen And Up Audiences\n",
      "['Minecraft (Video Game)', 'Dream SMP - Fandom', 'Video Blogging RPF']\n",
      "https://archiveofourown.org/works/30843428\n",
      "['Angst', 'Angst with a Happy Ending', 'Kinda', 'Arguing', 'Fighting', 'Traumatized TommyInnit (Video Blogging RPF)', 'Resurrected TommyInnit (Video Blogging RPF)', 'Protective TommyInnit (Video Blogging RPF)', 'Ranboo Has Anxiety Disorder (Video Blogging RPF)', 'Ranboo & TommyInnit Friendship (Video Blogging RPF)', 'Ranboo Has a Tail (Video Blogging RPF)', 'Sad Ranboo (Video Blogging RPF)', 'Nonbinary Ranboo (Video Blogging RPF)', 'Mentioned Toby Smith | Tubbo', 'Platonically Married Ranboo and Toby Smith | Tubbo', 'All Platonic - Freeform', 'you fuckers', 'Unhealthy Coping Mechanisms', 'Canon Compliant']\n",
      "\n",
      "\n",
      "It was calm, that night in the tower. The kind of calm that came after a day of uneventful happenings, a feeling of peace that grew the longer into the evening it went. On the SMP, days were rarely ever peaceful. There was always something going on to focus on; a quest, a plan, an attack. Calm days were a blessing among so many tragedies that took place.\n",
      "\n",
      " \n",
      "\n",
      "Tommy was perched on the top of the lookout tower, looking over the prison. He’d been hanging around the central area of the SMP all day, farming wheat, wandering the prime path. He’d even seen Ghostbur around and chatted with him a bit. Apparently, the wisp of his brother figure’s self shared the interest in music as his alive counterpart. He’d shared some new tunes with Tommy, his hauntingly beautiful and echoey voice ringing out through the paths.\n",
      "\n",
      " \n",
      "\n",
      "It was late, but it wasn’t late enough for it to be absurd for him to be awake. The sky was still tinged with red from the sunset, fading into a deep purple. The stars in the sky \n",
      "\n",
      "Document rarity: 4.520603448275213\n"
     ]
    }
   ],
   "source": [
    "poi2 = 0\n",
    "print_fanfic(poi2, True, 1000)\n",
    "print('\\nDocument rarity:', doc_freq[poi2])"
   ]
  },
  {
   "cell_type": "code",
   "execution_count": 85,
   "id": "molecular-entry",
   "metadata": {},
   "outputs": [
    {
     "name": "stdout",
     "output_type": "stream",
     "text": [
      "\n",
      "[24008]('30438330', 'Gymnastics is more fun when your brothers do it with you') General Audiences\n",
      "['Minecraft (Video Game)', 'Video Blogging RPF']\n",
      "https://archiveofourown.org/works/30438330\n",
      "['TommyInnit-centric (Video Blogging RPF)', 'Clay | Dream-centric (Video Blogging RPF)', 'Jschlatt-centric (Video Blogging RPF)', 'Gymnist TommyInnit', 'Acrobat TommyInnit', 'Digital Artist Jschlatt', 'Traucer Dream', 'Parkourist Dream', 'Older Sibling Jschlatt (Video Blogging RPF)', 'Older Sibling Clay | Dream (Video Blogging RPF)', 'Younger Sibling TommyInnit (Video Blogging RPF)', 'Soft Jschlatt (Video Blogging RPF)', 'Soft Clay | Dream (Video Blogging RPF)', 'Soft TommyInnit (Video Blogging RPF)', 'Protective Jschlatt (Video Blogging RPF)', 'Protective Clay | Dream (Video Blogging RPF)', 'Protective TommyInnit (Video Blogging RPF)', 'kind of', 'Good Older Sibling JSchlatt', 'Good Older sibling Dream', 'Good Jschlatt (Video Blogging RPF)', 'Good dream', 'Past Child Abuse', 'Implied/Referenced Child Abuse', 'IRL Fic', \"it's set irl\", 'This is an AU', 'Vaulters AU']\n",
      "\n",
      "\n",
      "[26966]('30650582', 'Warmth in the Dark') General Audiences\n",
      "['Origins SMP - Fandom']\n",
      "https://archiveofourown.org/works/30650582\n",
      "['Origins SMP', 'Origins', 'Hybrids', 'Phantom Hybrid Wilbur Soot', 'Avian Tommyinnit (Video Blogging RPF)', 'Wings', 'Hurt/Comfort', 'Discrimination', 'Alternate Universe', 'Found Family', 'Touch-Starved', 'Hugs', 'Minor Violence', 'Cuddles', 'preening', 'Wilbur Soot-centric', 'TommyInnit-centric (Video Blogging RPF)']\n",
      "\n",
      "\n",
      "[26916]('30661199', 'The Cake Just Needs Frosting') General Audiences\n",
      "['Video Blogging RPF']\n",
      "https://archiveofourown.org/works/30661199\n",
      "['Shapeshifting', 'Alternate Universe - Shapeshifters', 'Dream SMP Ensemble-centric', 'Fluff', 'Fluff and Hurt/Comfort', 'Hurt/Comfort', 'Angst with a Happy Ending', 'Good Parent Phil Watson (Video Blogging RPF)', 'Lowercase']\n",
      "\n",
      "\n",
      "[4306]('30650909', 'Unsteady Breathing and Unstable Families') Teen And Up Audiences\n",
      "['Minecraft (Video Game)', 'Video Blogging RPF']\n",
      "https://archiveofourown.org/works/30650909\n",
      "['Family Feels', 'Dysfunctional Family', 'Family Issues', 'sbi as a family', 'Older Sibling Wilbur Soot', 'Older Sibling Technoblade (Video Blogging RPF)', 'Phil Watson is Called Philza (Video Blogging RPF)', 'lamb - Freeform', 'Bad Parenting', 'Bad Parent Phil Watson (Video Blogging RPF)', 'Avian Phil Watson (Video Blogging RPF)', 'Sad Parental Phil Watson (Video Blogging RPF)', 'Wilbur Soot and Technoblade and TommyInnit are Siblings', 'Older Siblings Wilbur Soot and Technoblade', 'Technoblade is Bad at Feelings (Video Blogging RPF)', 'Wilbur Soot is Not Okay', 'Angry Wilbur Soot', 'Protective Wilbur Soot', 'Ghost Wilbur Soot', 'Touch-Starved TommyInnit (Video Blogging RPF)', 'TommyInnit Needs a Break (Video Blogging RPF)', 'TommyInnit Needs a Hug (Video Blogging RPF)', 'Sad and Angry TommyInnit (Video Blogging RPF)', 'Sad TommyInnit (Video Blogging RPF)', 'Angry TommyInnit (Video Blogging RPF)', 'Tommyinnit needs therapy', 'Mental Breakdown', 'Neglectful Parent Phil Watson (Video Blogging RPF)', 'I hate tagging', \"I'm Bad At Tagging\", \"I'm Bad At Summaries\"]\n",
      "\n",
      "\n",
      "[7300]('30849524', 'what you leave behind') Teen And Up Audiences\n",
      "['Minecraft (Video Game)', 'Video Blogging RPF']\n",
      "https://archiveofourown.org/works/30849524\n",
      "['Ranboo-centric (Video Blogging RPF)', 'Royal!Ranboo', 'Prince!Ranboo', 'Enderman Ranboo (Video Blogging RPF)', 'Goat Hybrid Toby Smith | Tubbo', 'He/Him and They/Them Pronouns for Toby Smith | Tubbo', 'Ranboo and Toby Smith | Tubbo Have a Child Named Michael', 'Platonically Married Ranboo and Toby Smith | Tubbo', 'Michael my beloved', 'no beta we die like i think michael is going to', 'knock on wood lol', 'Hurt No Comfort', 'Angst', 'Fluff', 'Fluff and Angst', 'Sad Ranboo (Video Blogging RPF)', 'Enderwalking Ranboo (Video Blogging RPF)', 'Blood and Injury', \"It's nothing bad\", 'Traumatized Toby Smith | Tubbo', 'tommyinnit is dead (for now)', 'Music dad Tubbo']\n",
      "\n"
     ]
    }
   ],
   "source": [
    "cs = cosine_similarity(X[poi2].reshape(1,-1), X).flatten()\n",
    "for doc_id in np.argsort(-cs)[1:6]:\n",
    "    print_fanfic(doc_id)"
   ]
  },
  {
   "cell_type": "code",
   "execution_count": 86,
   "id": "norman-allah",
   "metadata": {},
   "outputs": [
    {
     "name": "stdout",
     "output_type": "stream",
     "text": [
      "\n",
      "[9413]('30409830', \"I'm home...\") General Audiences\n",
      "['NCT (Band)']\n",
      "https://archiveofourown.org/works/30409830\n",
      "['End of the World', 'Delusions', 'Romantic Friendship', \"It's all about the YEARNING\", 'AU Millennium Bug is real', \"AKA there's a technology blackout that makes the world topple\", 'Fluff', 'Light Angst']\n",
      "\n",
      "word emb score 0.976, rarity score 0.999\n",
      "\n",
      "[2723]('30763013', 'pomegranate tea and dreams') General Audiences\n",
      "[\"ジョジョの奇妙な冒険 | JoJo no Kimyou na Bouken | JoJo's Bizarre Adventure\"]\n",
      "https://archiveofourown.org/works/30763013\n",
      "['Domestic Fluff', 'Fluff', 'Light Angst', 'Post-Canon', 'Alternate Universe - Everyone Lives/Nobody Dies', 'Hurt/Comfort', 'Emotional Hurt/Comfort', 'Baking', 'the others are also there', \"But they don't have a big enough role to be tagged\", 'Past Character Death', 'Birthday Fluff', 'Fluff and Humor', 'I tried at least', 'No Beta', 'Parental Bruno Buccellati']\n",
      "\n",
      "word emb score 0.969, rarity score 0.999\n",
      "\n",
      "[8447]('30709211', \"The Moon's Lullaby\") Teen And Up Audiences\n",
      "['One Piece']\n",
      "https://archiveofourown.org/works/30709211\n",
      "['Friendship', 'Family', 'Angst', 'Hurt/Comfort', 'Emotional Hurt/Comfort', 'Post-Whole Cake Island', 'specfically at some vague point after wano so I can have the whole crew together', 'brief appearances from zeff and all the vinsmokes as well', 'all the straw hats appear and have at least one line', 'but sanji brook and chopper are the only ones with signficant scenes', 'Sea Moon See You is the most beautiful character song one piece has made', 'it deserves way more love than it already gets']\n",
      "\n",
      "word emb score 0.969, rarity score 0.999\n",
      "\n",
      "[28998]('30555942', 'You will always be my favorite form of loving') Teen And Up Audiences\n",
      "['Haikyuu!!']\n",
      "https://archiveofourown.org/works/30555942\n",
      "['Suna Rintarou-centric', 'Angst', 'Hanahaki Disease', 'Unrequited Love', 'Minor Miya Atsumu/Sakusa Kiyoomi', 'Simptsumu', 'Osasuna', 'sunaosa - Freeform', 'SunaOsa Angst Week']\n",
      "\n",
      "word emb score 0.973, rarity score 0.998\n",
      "\n",
      "[19006]('30027831', 'Dice and (Baseball) Diamonds') Teen And Up Audiences\n",
      "['ダイヤのA | Daiya no A | Ace of Diamond']\n",
      "https://archiveofourown.org/works/30027831\n",
      "['Alternate Universe - Dungeons & Dragons', 'Alternate Universe - Fantasy', 'Fantasy', 'Dungeons & Dragons 5th Edition', 'Dragons', 'Monsters', 'Violence', 'Injury', 'Blood and Injury']\n",
      "\n",
      "word emb score 0.970, rarity score 0.999\n"
     ]
    }
   ],
   "source": [
    "rs = (1 - abs(R - R[poi2])).flatten()\n",
    "for doc_id in np.argsort(-(cs+rs*5))[1:6]:\n",
    "    print_fanfic(doc_id)\n",
    "    print(f'word emb score {cs[doc_id]:.3f}, rarity score {rs[doc_id]:.3f}')"
   ]
  },
  {
   "cell_type": "code",
   "execution_count": null,
   "id": "ranking-introduction",
   "metadata": {},
   "outputs": [],
   "source": []
  }
 ],
 "metadata": {
  "kernelspec": {
   "display_name": "Python 3",
   "language": "python",
   "name": "python3"
  },
  "language_info": {
   "codemirror_mode": {
    "name": "ipython",
    "version": 3
   },
   "file_extension": ".py",
   "mimetype": "text/x-python",
   "name": "python",
   "nbconvert_exporter": "python",
   "pygments_lexer": "ipython3",
   "version": "3.8.5"
  },
  "metadata": {
   "interpreter": {
    "hash": "bd4a725fc3d1727b4c35283f6ff1c9e83de9e2bfe34f8722b0a224f030df692c"
   }
  }
 },
 "nbformat": 4,
 "nbformat_minor": 5
}
