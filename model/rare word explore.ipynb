{
 "cells": [
  {
   "cell_type": "markdown",
   "id": "imported-medicaid",
   "metadata": {},
   "source": [
    "## Rare v.s. Common words\n",
    "\n",
    "As mentioned in the *question* section of the README.md, I think how often the author uses rare words in the fanfic demonstrate the writing styles and could be a differentiation factor. Thus, here is a exploration done on the rare words frequency. "
   ]
  },
  {
   "cell_type": "markdown",
   "id": "operating-broadcasting",
   "metadata": {},
   "source": [
    "**Data Loading**"
   ]
  },
  {
   "cell_type": "code",
   "execution_count": 1,
   "id": "duplicate-destination",
   "metadata": {},
   "outputs": [
    {
     "name": "stdout",
     "output_type": "stream",
     "text": [
      "Data from \"data/ao3.p\" loaded. Document Size: 31034. System Memory: 1222.04mb\n"
     ]
    }
   ],
   "source": [
    "from dataloader import *"
   ]
  },
  {
   "cell_type": "code",
   "execution_count": 2,
   "id": "authorized-football",
   "metadata": {},
   "outputs": [],
   "source": [
    "import pandas as pd\n",
    "import pickle\n",
    "import numpy as np\n",
    "from collections import Counter, defaultdict\n",
    "from itertools import chain\n",
    "import re\n",
    "from sys import getsizeof\n",
    "import matplotlib.pyplot as plt\n",
    "plt.style.use('ggplot')\n",
    "\n",
    "from tqdm.notebook import trange, tqdm"
   ]
  },
  {
   "cell_type": "code",
   "execution_count": 3,
   "id": "pressing-ordering",
   "metadata": {},
   "outputs": [
    {
     "name": "stdout",
     "output_type": "stream",
     "text": [
      "\n",
      "[0]('30843428', 'nervous by nature and overthinking everything') Teen And Up Audiences\n",
      "['Minecraft (Video Game)', 'Dream SMP - Fandom', 'Video Blogging RPF']\n",
      "https://archiveofourown.org/works/30843428\n",
      "['Angst', 'Angst with a Happy Ending', 'Kinda', 'Arguing', 'Fighting', 'Traumatized TommyInnit (Video Blogging RPF)', 'Resurrected TommyInnit (Video Blogging RPF)', 'Protective TommyInnit (Video Blogging RPF)', 'Ranboo Has Anxiety Disorder (Video Blogging RPF)', 'Ranboo & TommyInnit Friendship (Video Blogging RPF)', 'Ranboo Has a Tail (Video Blogging RPF)', 'Sad Ranboo (Video Blogging RPF)', 'Nonbinary Ranboo (Video Blogging RPF)', 'Mentioned Toby Smith | Tubbo', 'Platonically Married Ranboo and Toby Smith | Tubbo', 'All Platonic - Freeform', 'you fuckers', 'Unhealthy Coping Mechanisms', 'Canon Compliant']\n",
      "\n",
      "\n",
      "It was calm, that night in the tower. The kind of calm that came after a day of uneventful happenings, a feeling of peace that grew the longer into the evening it went. On the SMP, days were rarely ever peaceful. There was always something going on to focus on; a quest, a plan, an attack. Calm days were a blessing among so many tragedies that took place.\n",
      "\n",
      " \n",
      "\n",
      "Tommy was perched on the top of the lookout tower, looking over the prison. He’d been hanging around the central area of the SMP all day, \n"
     ]
    }
   ],
   "source": [
    "print_fanfic(0, True, 500)"
   ]
  },
  {
   "cell_type": "markdown",
   "id": "synthetic-crossing",
   "metadata": {},
   "source": [
    "**Let's begin**"
   ]
  },
  {
   "cell_type": "markdown",
   "id": "endless-integral",
   "metadata": {},
   "source": [
    "we only care about the proper English words in the dictionary, so we will get a list of English words"
   ]
  },
  {
   "cell_type": "code",
   "execution_count": 5,
   "id": "hairy-column",
   "metadata": {},
   "outputs": [],
   "source": [
    "import sklearn\n",
    "from sklearn.feature_extraction.text import TfidfVectorizer\n",
    "from nltk.corpus import words\n",
    "\n",
    "en_vocab = set(words.words())"
   ]
  },
  {
   "cell_type": "markdown",
   "id": "joined-momentum",
   "metadata": {},
   "source": [
    "TF-IDF to get tokens in the corpus"
   ]
  },
  {
   "cell_type": "code",
   "execution_count": 117,
   "id": "quiet-billy",
   "metadata": {},
   "outputs": [],
   "source": [
    "vectorizer = TfidfVectorizer(\n",
    "    min_df=1,\n",
    "    stop_words='english'\n",
    ")\n",
    "T = vectorizer.fit_transform(corpus)"
   ]
  },
  {
   "cell_type": "code",
   "execution_count": 118,
   "id": "usual-grave",
   "metadata": {},
   "outputs": [
    {
     "data": {
      "text/plain": [
       "'Corpus has 31034 documents with a vocab size of 193995'"
      ]
     },
     "execution_count": 118,
     "metadata": {},
     "output_type": "execute_result"
    }
   ],
   "source": [
    "f'Corpus has {T.shape[0]} documents with a vocab size of {T.shape[1]}'"
   ]
  },
  {
   "cell_type": "code",
   "execution_count": 122,
   "id": "included-aaron",
   "metadata": {},
   "outputs": [],
   "source": [
    "doc_terms = vectorizer.inverse_transform(T)"
   ]
  },
  {
   "cell_type": "code",
   "execution_count": 123,
   "id": "motivated-richardson",
   "metadata": {},
   "outputs": [],
   "source": [
    "word_to_ix = vectorizer.vocabulary_\n",
    "ix_to_word = {i : w for w, i in word_to_ix.items()}"
   ]
  },
  {
   "cell_type": "markdown",
   "id": "metallic-chassis",
   "metadata": {},
   "source": [
    "Some rare words ranking based on their idf score"
   ]
  },
  {
   "cell_type": "code",
   "execution_count": 125,
   "id": "accredited-turtle",
   "metadata": {},
   "outputs": [
    {
     "name": "stdout",
     "output_type": "stream",
     "text": [
      "morphology 10.649723698287808 3.41\n",
      "morpheme 10.649723698287808 2.28\n",
      "morosity 10.649723698287808 0.0\n",
      "moroseness 10.649723698287808 0.0\n",
      "mosasaur 10.649723698287808 1.5\n",
      "mortise 10.649723698287808 2.16\n",
      "morin 10.649723698287808 2.65\n",
      "motorcyclist 10.649723698287808 2.74\n",
      "motionlessness 10.649723698287808 0.0\n",
      "motile 10.649723698287808 2.33\n",
      "mott 10.649723698287808 3.0\n",
      "motte 10.649723698287808 2.5\n",
      "mountainously 10.649723698287808 0.0\n",
      "mountained 10.649723698287808 0.0\n",
      "mouflon 10.649723698287808 1.29\n",
      "mouche 10.649723698287808 1.7\n",
      "motherwort 10.649723698287808 1.02\n",
      "moste 10.649723698287808 1.24\n",
      "motherlessness 10.649723698287808 0.0\n"
     ]
    }
   ],
   "source": [
    "from wordfreq import zipf_frequency\n",
    "\n",
    "for i in np.argsort(-vectorizer.idf_)[:250]:\n",
    "    if ix_to_word[i] in en_vocab:\n",
    "        print(ix_to_word[i], vectorizer.idf_[i], zipf_frequency(ix_to_word[i], 'en'))"
   ]
  },
  {
   "cell_type": "markdown",
   "id": "relevant-basketball",
   "metadata": {},
   "source": [
    "import wordfreq library to get common frequencies of English words. general method is averaging the frequency of each unique word in a document to get average frequency of this document"
   ]
  },
  {
   "cell_type": "code",
   "execution_count": 126,
   "id": "powered-screening",
   "metadata": {},
   "outputs": [
    {
     "data": {
      "application/vnd.jupyter.widget-view+json": {
       "model_id": "b0a2ec767bec4813a78bfb4f4c5c5c13",
       "version_major": 2,
       "version_minor": 0
      },
      "text/plain": [
       "  0%|          | 0/31034 [00:00<?, ?it/s]"
      ]
     },
     "metadata": {},
     "output_type": "display_data"
    }
   ],
   "source": [
    "doc_freq = {}\n",
    "for i, doc in enumerate(tqdm(doc_terms[:])):\n",
    "    freq, total_count = 0, 0\n",
    "    for term in doc:\n",
    "        if term in en_vocab:\n",
    "            freq += zipf_frequency(term, 'en')\n",
    "            total_count += 1\n",
    "    doc_freq[i] = freq / (total_count + 1e-10)"
   ]
  },
  {
   "cell_type": "code",
   "execution_count": 150,
   "id": "original-black",
   "metadata": {},
   "outputs": [
    {
     "name": "stdout",
     "output_type": "stream",
     "text": [
      "Rarest words in document 10:\n"
     ]
    },
    {
     "data": {
      "text/plain": [
       "['keened',\n",
       " 'insufferableness',\n",
       " 'rhythmless',\n",
       " 'demandingly',\n",
       " 'reservedly',\n",
       " 'uncrossable',\n",
       " 'bedmate',\n",
       " 'uncorking',\n",
       " 'growly',\n",
       " 'enticingly']"
      ]
     },
     "execution_count": 150,
     "metadata": {},
     "output_type": "execute_result"
    }
   ],
   "source": [
    "def rank_by_idf(doc_id):\n",
    "    return [\n",
    "        term for term in \\\n",
    "            sorted(doc_terms[doc_id], key=lambda x:zipf_frequency(x, 'en')) \\\n",
    "                if term in en_vocab\n",
    "    ]\n",
    "\n",
    "print('Rarest words in document 10:')\n",
    "rank_by_idf(10)[:10]"
   ]
  },
  {
   "cell_type": "markdown",
   "id": "metallic-brooks",
   "metadata": {},
   "source": [
    "**analysis**"
   ]
  },
  {
   "cell_type": "code",
   "execution_count": 128,
   "id": "desperate-dallas",
   "metadata": {},
   "outputs": [],
   "source": [
    "def custom_corpus_freq(fn):\n",
    "    text = open(fn, 'r+', encoding='utf-8').read()\n",
    "    u = vectorizer.transform([text])\n",
    "    u_terms = vectorizer.inverse_transform(u)[0]\n",
    "    \n",
    "    total_count, freq = 0, 0\n",
    "    for term in u_terms:\n",
    "        if term in en_vocab:\n",
    "            total_count += 1\n",
    "            freq += zipf_frequency(term, 'en')\n",
    "    return freq / total_count"
   ]
  },
  {
   "cell_type": "markdown",
   "id": "supported-reliance",
   "metadata": {},
   "source": [
    "rarity rank of documents (scoare 0.0 indicate the documents are not in English but are accidentally tagged as English)"
   ]
  },
  {
   "cell_type": "code",
   "execution_count": 129,
   "id": "electrical-transmission",
   "metadata": {},
   "outputs": [
    {
     "name": "stdout",
     "output_type": "stream",
     "text": [
      "Rare documents:\n",
      "4761 0.0\n",
      "11937 0.0\n",
      "15363 0.0\n",
      "28504 3.231933962262628\n",
      "4422 3.377213114748562\n",
      "21417 3.4609210526270253\n",
      "20284 3.8099999998095\n",
      "26457 3.8585291631442225\n",
      "9616 3.8775100942121283\n",
      "3044 3.9127304964536975\n",
      "\n",
      "Common documents:\n",
      "19962 5.261739130411906\n",
      "30367 5.243831775696035\n",
      "4396 5.224285714273274\n",
      "27337 5.222727272717776\n",
      "29285 5.221304347818521\n",
      "8620 5.178695652166408\n",
      "284 5.171666666658047\n",
      "4430 5.14901408449979\n",
      "4429 5.144593023252824\n",
      "16842 5.138163265295636\n",
      "\n",
      "As some points of comparsion...\n",
      "Average word freq for \"Ulysses\" is 3.947067729083665\n",
      "Average word freq for \"Moby Dick\" is 4.09605399792315\n",
      "Average word freq for \"Emma\" is 4.237152087475149\n",
      "Average word freq for \"Les Misérables\" is 4.2670489038785755\n",
      "Average word freq for \"Keeping Up With the Kardashians\" is 4.74099125364432\n"
     ]
    }
   ],
   "source": [
    "print('Rare documents:')\n",
    "for doc_id, freq in sorted(doc_freq.items(), key=lambda x:x[1])[:10]:\n",
    "    print(doc_id, freq)\n",
    "\n",
    "print('\\nCommon documents:')\n",
    "for doc_id, freq in sorted(doc_freq.items(), key=lambda x:-x[1])[:10]:\n",
    "    print(doc_id, freq)\n",
    "\n",
    "\n",
    "print('\\nAs some points of comparsion...')\n",
    "for name, fn in [\n",
    "    ('Ulysses', 'text/ulysses.txt'),\n",
    "    ('Moby Dick', 'text/moby dick.txt'),\n",
    "    ('Emma', 'text/emma.txt'),\n",
    "    ('Les Misérables', 'text/les mis.txt'),\n",
    "    ('Keeping Up With the Kardashians', 'text/kardashians.txt'),\n",
    "    ]:\n",
    "    print(f\"Average word freq for \\\"{name}\\\" is {custom_corpus_freq(fn)}\")"
   ]
  },
  {
   "cell_type": "markdown",
   "id": "heard-matthew",
   "metadata": {},
   "source": [
    "Some examaples of fanfics with rare words"
   ]
  },
  {
   "cell_type": "code",
   "execution_count": 136,
   "id": "offensive-crawford",
   "metadata": {},
   "outputs": [
    {
     "name": "stdout",
     "output_type": "stream",
     "text": [
      "\n",
      "[26457]('30766190', 'A (random) study of the (partial) alphabet') Mature\n",
      "['Bridgerton Series - Julia Quinn', 'Bridgerton (TV)']\n",
      "https://archiveofourown.org/works/30766190\n",
      "['Fluff and Angst', 'Family Dynamics', 'Family Feels', 'Regency', 'Kate and Benedict: art pals for life', 'Jealous Anthony Bridgerton', 'heartbroken Violet Bridgerton', 'Implied Polin', 'rare Francesca sighting', 'Eloise and Kate: partners in crime', 'Anthony Bridgerton: surrogate father to Hyacinth and Gregory', 'Romance', 'Soft Feels', 'Bridgertons Being Bridgertons', 'emotional Anthony', 'Comfort', 'Kate and Anthony providing each other comfort', 'Anthony Bridgerton: besotted with Kate Sharma since 1814', 'Newton chasing rabbits', 'In upcoming 2nd chapter: Kate gets on her knees for a non-key related reason ;)', 'Gregory Bridgerton’s 1st crush was Kate Sharma', '2nd-chapter Anthony could’ve written “Slipping Through My Fingers” from Mamma Mia']\n",
      "\n",
      "Kate had always considered herself an innately observant person. Over the years, she’d been able to hone her prowess without much intrusion, especially once she’d reached adolescence and nearly all extrafamilial compliments and instances of acknowledgment were intended for Edwina.The newly minted Viscountess particularly prided herself in her abilities to deftly read her loved ones. She noticed Mary’s habit of sneakily stroking the back of Newton’s head whenever he dozed (and whenever she misgui\n",
      "\n",
      "[9616]('30469629', 'Cozy Morning') Explicit\n",
      "['Drawn Together (Cartoon)']\n",
      "https://archiveofourown.org/works/30469629\n",
      "['Xandir x Reader', 'Xandir P. Wifflebottom x Reader', 'Romance', 'Alternate Universe', 'Canon Divergent Sexuality', \"Don't Like Don't Read\", 'uh oh spicy tag time', 'Smut', 'Fluff and Smut', 'Morning Kisses', 'Morning Cuddles', 'Morning Sex', 'Vaginal Fingering', 'Vaginal Sex', 'Woman on Top', 'end of spicy tags', \"once again don't like don't read\", 'this is for the xandir fangirls']\n",
      "\n",
      "⋆┈┈｡ﾟ❃ུ۪ ❀ུ۪ ❁ུ۪ ❃ུ۪ ❀ུ۪ ﾟ｡┈┈⋆You wake to sugar-laced sweet nothings in your ear, an arm wrapped ‘round your waist, protective. A wall of warmth presses to your back, cocoons you, reigniting those ecstatic embers you’d thought were long extinguished. Like petals of a sleepy poppy, your eyelids droop as you slip under the tide of a tranquil dream—that is, until his lips brush tender against your nape, sending electric shivers through your unclad body. Fire flushes your face. You tense, a spring p\n",
      "\n",
      "[3044]('30796940', 'bon voyage, sweet summer') Teen And Up Audiences\n",
      "['Shingeki no Kyojin | Attack on Titan']\n",
      "https://archiveofourown.org/works/30796940\n",
      "['One Shot', 'Time Skips', 'Alternate Universe - Modern Setting', 'Romantic Fluff', 'kenny ackerman is a trash uncle', 'mikasa is a rocking queen', \"eren's a sick romantic\", 'I Will Go Down With This Ship', 'lots of coffee mentions', 'Everything is Beautiful and Nothing Hurts', 'How Do I Tag']\n",
      "\n",
      "\n",
      "… \n",
      "\n",
      " -one; espresso romano, jaeger’s penchant- \n",
      "\n",
      " “a soft shot, pearly milk doused in swishing brown- seasoned lemon bathed wet in lucent oozes of water- and it reminds him of her flouncy sundress under the glow-lamps of tanned lights.” \n",
      "\n",
      "… \n",
      "A new, resounding chime. How... painfully annoying. Eren carried himself swimmingly back into place, shedding the pleated gloves off his blood-hot hands, still puffed from the ghastly heat kindled in the cooker- and set into a quick blend on the roasted gro\n"
     ]
    }
   ],
   "source": [
    "print_fanfic(26457, True, 500)\n",
    "print_fanfic(9616, True, 500)\n",
    "print_fanfic(3044, True, 500)"
   ]
  },
  {
   "cell_type": "markdown",
   "id": "fifth-writing",
   "metadata": {},
   "source": [
    "some examples of fanfics with common words"
   ]
  },
  {
   "cell_type": "code",
   "execution_count": 138,
   "id": "raised-grenada",
   "metadata": {},
   "outputs": [
    {
     "name": "stdout",
     "output_type": "stream",
     "text": [
      "\n",
      "[19962]('30405345', 'Crawling Bug') Explicit\n",
      "['Video Blogging RPF']\n",
      "https://archiveofourown.org/works/30405345\n",
      "['Blood and Gore', 'Body Horror', 'Surgery', 'Scat', 'Dead Dove: Do Not Eat', 'Non-Consensual Drug Use', 'Rape/Non-con Elements', 'Amputation', 'Blood and Torture', 'Blood and Violence', 'Vomiting']\n",
      "\n",
      "We're no strangers to loveYou know the rules and so do IA full commitment's what I'm thinking ofYou wouldn't get this from any other guy\n",
      "I just wanna tell you how I'm feelingGotta make you understand\n",
      "Never gonna give you upNever gonna let you downNever gonna run around and desert youNever gonna make you cryNever gonna say goodbyeNever gonna tell a lie and hurt you\n",
      "We've known each other for so longYour heart's been aching, butYou're too shy to say itInside, we both know what's been going onWe kn\n",
      "\n",
      "[30367]('30809168', 'wish you were here') Teen And Up Audiences\n",
      "['Video Blogging RPF', 'Minecraft (Video Game)']\n",
      "https://archiveofourown.org/works/30809168\n",
      "['EpicSMP', 'Ambiguous/Open Ending', 'Epistolary', 'Texting', 'Angst', 'Alternate Universe - Canon Divergence']\n",
      "\n",
      "\n",
      "Chapter Text\n",
      "\n",
      "<TedNivison> Hey Charlie! It's been a while since you've answered my messages, I hope you're having fun over there!\n",
      "\n",
      "<TedNivison> How’s Wilbur doing? Haven’t seen that guy in a long time, tell him I said hi!\n",
      " \n",
      "<TedNivison> Listen, there's\n",
      "\n",
      "<TedNivison> fuck how do I explain this\n",
      " \n",
      "<TedNivison> There's something going on over here\n",
      "\n",
      "<TedNivison> there’s something seriously wrong with this fucking server\n",
      "\n",
      "<TedNivison> people are disappearing Charlie and honestly it's freaking me out\n",
      "\n",
      "\n",
      "[29285]('28637370', 'The lovely mishaps of Yamaguchi Tadashi') Not Rated\n",
      "['Haikyuu!!']\n",
      "https://archiveofourown.org/works/28637370\n",
      "['Yamaguchi Tadashi in Love', 'Yamaguchi Tadashi Needs a Hug', 'POV Yamaguchi Tadashi', 'Bisexual Yamaguchi Tadashi', 'Yamaguchi Tadashi-centric', 'Short Chapters', 'Unrequited Love', 'Break Up', 'Fake/Pretend Relationship', 'Implied Sexual Content', 'But also', 'No Smut', 'Rejection', 'One Night Stands', 'Friends With Benefits', \"Yamaguchi Tadashi's Freckles\"]\n",
      "\n",
      "\n",
      "Chapter Text\n",
      "It was a late October evening when you called me that one time, telling me of how you and Kuroo were going out. I never thought I'd be jealous of that. Sure, I wasn't blind to my feelings towards you, but I also wanted you to be happy, right? If being with Kuroo made you happy, I shouldn't be jealous. I always knew one day we'd drift away, but I didn't think it would be in our first year in high school together.  Still 2 more years left to go, but not with you. Its not like I want \n"
     ]
    }
   ],
   "source": [
    "print_fanfic(8620, True, 500)\n",
    "print_fanfic(30367, True, 500)\n",
    "print_fanfic(29285, True, 500)"
   ]
  },
  {
   "cell_type": "markdown",
   "id": "flexible-parallel",
   "metadata": {},
   "source": [
    "some basic stats giving an overview of the distribution. We can see that the average is 4.6m anywhere between 4.5~4.7 is normal for a fanfic. something close to 4.2 for close to 5.0 would be outliers"
   ]
  },
  {
   "cell_type": "code",
   "execution_count": 139,
   "id": "standing-webster",
   "metadata": {},
   "outputs": [
    {
     "data": {
      "image/png": "[encoded data removed]",
      "text/plain": [
       "<Figure size 864x288 with 2 Axes>"
      ]
     },
     "metadata": {},
     "output_type": "display_data"
    }
   ],
   "source": [
    "fig, axs = plt.subplots(1, 2, figsize=(12, 4))\n",
    "\n",
    "axs[0].hist(doc_freq.values(), range=(3.8, 5.25))\n",
    "\n",
    "axs[1].boxplot(doc_freq.values())\n",
    "axs[1].set_ylim((3.8, 5.25))\n",
    "\n",
    "plt.show(fig)"
   ]
  },
  {
   "cell_type": "markdown",
   "id": "emotional-tactics",
   "metadata": {},
   "source": [
    "some fandom statistics because why not"
   ]
  },
  {
   "cell_type": "code",
   "execution_count": 140,
   "id": "chronic-seeker",
   "metadata": {},
   "outputs": [
    {
     "data": {
      "image/png": "[encoded data removed]",
      "text/plain": [
       "<Figure size 432x288 with 1 Axes>"
      ]
     },
     "metadata": {},
     "output_type": "display_data"
    }
   ],
   "source": [
    "fandom_counter = Counter(chain.from_iterable(fandoms))\n",
    "plt.title('Distribution of fandoms')\n",
    "plt.hist(fandom_counter.values(), range=(0, 400))\n",
    "plt.show()"
   ]
  },
  {
   "cell_type": "code",
   "execution_count": 141,
   "id": "level-disabled",
   "metadata": {},
   "outputs": [
    {
     "name": "stdout",
     "output_type": "stream",
     "text": [
      "Top 10 Fandom community\n"
     ]
    },
    {
     "data": {
      "text/plain": [
       "[('僕のヒーローアカデミア | Boku no Hero Academia | My Hero Academia', 1470),\n",
       " ('Video Blogging RPF', 1337),\n",
       " ('Minecraft (Video Game)', 1297),\n",
       " ('Harry Potter - J. K. Rowling', 1051),\n",
       " ('Marvel Cinematic Universe', 1033),\n",
       " ('Haikyuu!!', 977),\n",
       " ('방탄소년단 | Bangtan Boys | BTS', 942),\n",
       " ('原神 | Genshin Impact (Video Game)', 749),\n",
       " ('NCT (Band)', 513),\n",
       " ('Star Wars - All Media Types', 513)]"
      ]
     },
     "execution_count": 141,
     "metadata": {},
     "output_type": "execute_result"
    }
   ],
   "source": [
    "print('Top 10 Fandom community')\n",
    "sorted(fandom_counter.items(), key=lambda x:-x[1])[:10]"
   ]
  },
  {
   "cell_type": "code",
   "execution_count": 142,
   "id": "established-papua",
   "metadata": {},
   "outputs": [
    {
     "name": "stdout",
     "output_type": "stream",
     "text": [
      "3.26% fandom communities account for 84.38% of fanfictions.\n"
     ]
    }
   ],
   "source": [
    "labels, count = zip(*[(key, count) for key, count in fandom_counter.items() if count > 50])\n",
    "print(f'{len(labels) * 100 / len(fandom_counter):.2f}% fandom communities account for {sum(count) * 100 / len(df):.2f}% of fanfictions.')"
   ]
  },
  {
   "cell_type": "markdown",
   "id": "viral-cincinnati",
   "metadata": {},
   "source": [
    "The above is a rough estimate, because one fanfic can belong to multiple fandoms. Let's compute the average freq of each fandom"
   ]
  },
  {
   "cell_type": "code",
   "execution_count": 143,
   "id": "outdoor-engineering",
   "metadata": {},
   "outputs": [],
   "source": [
    "fandom_freq = {key: [] for key, count in fandom_counter.items() if count > 50}\n",
    "for doc_id, ave_freq in doc_freq.items():\n",
    "    for f in fandoms[doc_id]:\n",
    "        if f in fandom_freq:\n",
    "            fandom_freq[f].append(ave_freq)\n",
    "fandom_freq = {key: sum(freq_list) / len(freq_list) for key, freq_list in fandom_freq.items()}"
   ]
  },
  {
   "cell_type": "code",
   "execution_count": 144,
   "id": "accredited-lafayette",
   "metadata": {},
   "outputs": [
    {
     "name": "stdout",
     "output_type": "stream",
     "text": [
      "Top 20 fandoms using rare words\n",
      "The Terror (TV 2018) 53 4.41\n",
      "The Silmarillion and other histories of Middle-Earth - J. R. R. Tolkien 62 4.44\n",
      "Final Fantasy XIV 78 4.442\n",
      "Dragon Age: Inquisition 80 4.476\n",
      "Dragon Age (Video Games) 79 4.482\n",
      "Hades (Video Game 2018) 70 4.495\n",
      "Dragon Age - All Media Types 55 4.5\n",
      "Compilation of Final Fantasy VII 76 4.505\n",
      "天官赐福 - 墨香铜臭 | Tiān Guān Cì Fú - Mòxiāng Tóngxiù 54 4.507\n",
      "Hannibal (TV) 83 4.507\n",
      "山河令 | Word of Honor (TV 2021) 65 4.512\n",
      "The Witcher (TV) 124 4.517\n",
      "Good Omens (TV) 140 4.518\n",
      "Wiedźmin | The Witcher - All Media Types 205 4.52\n",
      "The Legend of Zelda & Related Fandoms 56 4.523\n",
      "Good Omens - Neil Gaiman & Terry Pratchett 110 4.523\n",
      "陈情令 | The Untamed (TV) 318 4.525\n",
      "魔道祖师 - 墨香铜臭 | Módào Zǔshī - Mòxiāng Tóngxiù 324 4.525\n",
      "The Mandalorian (TV) 160 4.527\n",
      "InuYasha - A Feudal Fairy Tale 60 4.528\n",
      "\n",
      "Top 20 fandoms using common words\n",
      "9-1-1: Lone Star (TV 2020) 87 4.722\n",
      "Formula 1 RPF 80 4.698\n",
      "Shameless (US) 67 4.681\n",
      "9-1-1 (TV) 147 4.677\n",
      "Glee 55 4.665\n",
      "No Fandom 67 4.661\n",
      "Criminal Minds (US TV) 165 4.66\n",
      "Julie and The Phantoms (TV 2020) 108 4.656\n",
      "Percy Jackson and the Olympians & Related Fandoms - All Media Types 56 4.654\n",
      "Spider-Man (Tom Holland Movies) 159 4.653\n",
      "Sanders Sides (Web Series) 163 4.648\n",
      "Law & Order: SVU 83 4.646\n",
      "Percy Jackson and the Olympians - Rick Riordan 76 4.645\n",
      "Miraculous Ladybug 233 4.643\n",
      "Agents of S.H.I.E.L.D. (TV) 66 4.64\n",
      "Banana Fish (Anime & Manga) 56 4.64\n",
      "The 100 (TV) 94 4.64\n",
      "Iron Man (Movies) 155 4.638\n",
      "All For The Game - Nora Sakavic 53 4.638\n",
      "The Falcon and the Winter Soldier (TV) 320 4.637\n"
     ]
    }
   ],
   "source": [
    "print('Top 20 fandoms using rare words')\n",
    "for fandom, ave_freq in sorted(fandom_freq.items(), key=lambda x:x[1])[:20]:\n",
    "    print(fandom, fandom_counter[fandom], round(ave_freq, 3))\n",
    "\n",
    "print('\\nTop 20 fandoms using common words')\n",
    "for fandom, ave_freq in sorted(fandom_freq.items(), key=lambda x:-x[1])[:20]:\n",
    "    print(fandom, fandom_counter[fandom], round(ave_freq, 3))"
   ]
  },
  {
   "cell_type": "markdown",
   "id": "clear-pointer",
   "metadata": {},
   "source": [
    "There is not much rare v.s. common word usage difference between fandoms. But fantasy-related fandoms seem to have more rare words, probably becuase of the specific settings used in these fandoms. On the other hand, US TV-related fandoms use more common words, probably because they are set in a more everyday, modern setting.\n",
    "\n",
    "Let's try adding this score to the current word embedding ranking system?"
   ]
  },
  {
   "cell_type": "markdown",
   "id": "fleet-hammer",
   "metadata": {},
   "source": [
    "**improve ranking**"
   ]
  },
  {
   "cell_type": "code",
   "execution_count": 145,
   "id": "multiple-developer",
   "metadata": {},
   "outputs": [],
   "source": [
    "X = np.load('matrix/X.npy')"
   ]
  },
  {
   "cell_type": "code",
   "execution_count": 146,
   "id": "retired-thailand",
   "metadata": {},
   "outputs": [],
   "source": [
    "R = np.array(list(doc_freq.values())).reshape(-1,1)"
   ]
  },
  {
   "cell_type": "markdown",
   "id": "disturbed-equity",
   "metadata": {},
   "source": [
    "Let's choose a fanfic we are interested in. This fanfic is a sexual/dark piece with rarity=4.2 (so pretty close to being an outlier). Thus, recommending normal style fanfic, even if it's hardcore sex, won't fit the writing style of this story"
   ]
  },
  {
   "cell_type": "code",
   "execution_count": 147,
   "id": "valued-evanescence",
   "metadata": {},
   "outputs": [
    {
     "name": "stdout",
     "output_type": "stream",
     "text": [
      "\n",
      "[5]('30843302', 'On an Oaken Tablet') Explicit\n",
      "['The Terror (TV 2018)']\n",
      "https://archiveofourown.org/works/30843302\n",
      "['Dead Dove: Do Not Eat', 'Mutineer Era (The Terror)', 'Gang Rape', 'Sexual Violence', 'Oral Sex', 'Anal Sex', 'Forced Orgasm', 'Post-Orgasm Torture', 'Public Humiliation', 'Forced Feminization', 'verbal feminization', 'Unreliable Narrator', 'Twisted and Fluffy Feelings', 'Period Typical Attitudes', 'Implied/Referenced Sex Work', 'implied/referenced corporal punishment', 'Plot What Plot/Porn Without Plot', 'Hurt No Comfort', 'Angst']\n",
      "\n",
      "The doctor's flesh, uncooked pink, writhes naked on the sweat-polished oaken planks laid down as table, altar, plinth. The surface is near mirror-like after the passage across itself of so many suppers, by so many hungry hands, spread. First he yowls and claws at the place against which he's pinned belly-down, incensed into the spluttering of exhortations, hands wide on every scrap of his warm limbs on offer by powers here be and not by him himself. Goodsir's eyes are still wide and pleading until they roll back with his first crisis. It's des Voeux who takes it from him, nailing him hard, vicious in aim, the boards of the table rattling on those of the crate as he forces Goodsir through it. Even Goodsir can't but sob and quiver uncontrollably as the waves of intimate agony roil, spiked upward a last time  again,  within himself, before des Voeux also climaxes with a bitten-back curse. He pulls out, pearls of semen splattering onto the brightly reddened skin of Goodsir's beaten buttock\n",
      "\n",
      "Rarest words: ['inelegantly', 'slicking', 'roil', 'mayhap', 'oaken', 'possessiveness', 'coif', 'lovelorn', 'jostle', 'glimmering']\n",
      "\n",
      "Document rarity: 4.195695931476619\n"
     ]
    }
   ],
   "source": [
    "poi1 = 5\n",
    "print_fanfic(poi1, True, 1000)\n",
    "print('\\nRarest words:', rank_by_idf(poi1)[:10])\n",
    "print('\\nDocument rarity:', doc_freq[poi1])"
   ]
  },
  {
   "cell_type": "markdown",
   "id": "decimal-enemy",
   "metadata": {},
   "source": [
    "This is the ranking without using \"rarity\" as a metric"
   ]
  },
  {
   "cell_type": "code",
   "execution_count": 151,
   "id": "norwegian-prison",
   "metadata": {},
   "outputs": [
    {
     "name": "stdout",
     "output_type": "stream",
     "text": [
      "\n",
      "[12450]('28311915', 'heaven and back') Explicit\n",
      "['富豪刑事 Balance:UNLIMITED | Fugou Keiji: Balance:Unlimited (Anime)']\n",
      "https://archiveofourown.org/works/28311915\n",
      "['Pre-Slash', 'Pre-Relationship', 'Post-Canon', 'by that i mean the direct scene after e11', 'Resolved Sexual Tension', 'Teasing', 'Frottage', 'light though', 'Lots of kissing', 'Nipple Play', 'Nipple Licking', 'Hand Jobs', 'Anal Fingering', 'Anal Sex', 'Top Kambe Daisuke', 'Bottom Katou Haru', 'Soft Kambe Daisuke', 'Soft Katou Haru', 'Kambe Daisuke Has a Big Dick', 'Creampie', 'just me or does anyone else forget what they wrote right after they finish', 'Blow Jobs', 'Partners to Lovers', 'Dirty Talk', 'ish?', 'Porn with Feelings', 'Explicit Sexual Content', 'Smut', 'Porn', 'it’s p fluffy ngl', 'SO', 'Fluff and Smut', 'Fluff', 'Multiple Orgasms', 'My First Work in This Fandom', 'Plot What Plot/Porn Without Plot']\n",
      "\n",
      "Rarity Score: [3.99182394]\n",
      "Rarest words: ['unsinking', 'fugitively', 'contrastively', 'intolerability', 'tauten', 'titillatingly', 'welcomingly', 'horrification', 'noncommittally', 'owlishly']\n",
      "\n",
      "[5657]('30832025', 'Team Building Exercise') Explicit\n",
      "['Fate/Grand Order']\n",
      "https://archiveofourown.org/works/30832025\n",
      "['Gangbang', 'Size Difference', 'Spit As Lube', 'Double Anal Penetration', 'Creampie', 'Come Swallowing', 'No Aftercare', 'Plot What Plot/Porn Without Plot']\n",
      "\n",
      "Rarity Score: [4.46002155]\n",
      "Rarest words: ['cockhead', 'unsheathe', 'matchbook', 'agonizingly', 'scuse', 'insistently', 'obediently', 'gawk', 'musky', 'hypersensitive']\n",
      "\n",
      "[27217]('30616133', 'the devouring') Explicit\n",
      "['呪術廻戦 | Jujutsu Kaisen (Manga)']\n",
      "https://archiveofourown.org/works/30616133\n",
      "['Voyeurism', 'Extremely Dubious Consent', 'First Time', 'First Time Blow Jobs', 'Anal Sex', 'Anal Gaping', 'Rough Sex', 'Cousin Incest', 'Dead Dove: Do Not Eat', 'Invisible Curse Gangbang']\n",
      "\n",
      "Rarity Score: [4.18567917]\n",
      "Rarest words: ['cockhead', 'cherubic', 'undefiled', 'latticework', 'unchartered', 'victoriously', 'sinewy', 'petulance', 'heedless', 'impish']\n",
      "\n",
      "[21343]('29989233', 'Playing in the Dark') Explicit\n",
      "['Haikyuu!!']\n",
      "https://archiveofourown.org/works/29989233\n",
      "['Explicit Sexual Content', 'Knifeplay', 'Plot What Plot/Porn Without Plot', 'the plot is knives are sexy', 'Multiple Orgasms', 'Organized Crime', 'Casino AU', 'Mafia AU', 'Las Vegas', 'Oikawa gets railed on a mahagony desk', 'The Author Regrets Nothing']\n",
      "\n",
      "Rarity Score: [4.3982906]\n",
      "Rarest words: ['mewl', 'enticingly', 'uncompromised', 'scissoring', 'unbothered', 'elusiveness', 'curdle', 'twiddling', 'breathy', 'sprig']\n",
      "\n",
      "[1657]('30814679', 'Tempting is the Vixen (You Least Expect)') Explicit\n",
      "['阴阳师 | Yīn Yáng Shī | The Yin-yang Master (Movies - Guo Jingming)', 'The Yin-Yang Master: Dream of Eternity']\n",
      "https://archiveofourown.org/works/30814679\n",
      "['Half Fox Demon!Qingming', 'Established Relationship', 'Post Movie', 'Fox Demons are Typically Female', 'And Also Shapeshifters', 'Ala The Obigatory Genderfuckery Fic Everyone on the Discord Asked For', 'Female Form Qingming', \"Ergo: That Time Boya Visits Qingming's Place and Discovers Surprise Boobs\", 'Male Pronouns Qingming', 'Qingming is a Little Shit', 'Soft Dom Qingming', \"Boya is Subby and doesn't even realise it\", 'top!qingming', 'bottom!boya', 'Gratuitous Smut', 'Frottage', 'Cunillingus', 'Vaginal Fingering', 'Vaginal Sex', 'Misuse of the Yin-Yang Shi/Shishen Bond', 'For the sake of next level Edging', 'Orgasm Denial', 'Edging', 'Poor Boya', 'Anal Fingering', 'Anal Sex', 'Overstimulation', 'Unexpected Form Switch', 'Oh heck Boya is not Prepare', \"Look he thinks he's going to Die but he's just being Dramatic\", 'probably', 'Dirty Talk', 'Knotting', 'Sweet Relief', 'fucked out', '#RipBoya', 'Aftercare', 'Bathing together because they’re GAY KAREN', 'Schmoop', 'Implied Possibility of Pregnancy', 'Discussions of MPreg?', 'Mentions of Pregnancy', 'discord made me do it', 'That’s a lie you did this to yourself Momo(Obae)', 'coming on command', 'Coming Untouched', 'Qingming Discovering the Wonders of the Female Orgasm', 'Multiple Orgasms', 'Because Of Course Qingming Gets Greedy', 'this is how you tag right', \"Beta'd\"]\n",
      "\n",
      "Rarity Score: [4.04486377]\n",
      "Rarest words: ['overwound', 'unrestrainedly', 'besottedly', 'undergarb', 'susurration', 'jounce', 'amusedly', 'mewl', 'gracelessly', 'dazedly']\n"
     ]
    }
   ],
   "source": [
    "from sklearn.metrics.pairwise import cosine_similarity\n",
    "\n",
    "cs = cosine_similarity(X[poi1].reshape(1,-1), X).flatten()\n",
    "for doc_id in np.argsort(-cs)[1:6]:\n",
    "    print_fanfic(doc_id)\n",
    "    print('Rarity Score:', R[doc_id])\n",
    "    print('Rarest words:', rank_by_idf(doc_id)[:10])"
   ]
  },
  {
   "cell_type": "markdown",
   "id": "bronze-globe",
   "metadata": {},
   "source": [
    "This is the result after adding \"rarity\" as an additional score besides word embedding similarity."
   ]
  },
  {
   "cell_type": "code",
   "execution_count": 152,
   "id": "aquatic-diagnosis",
   "metadata": {},
   "outputs": [
    {
     "name": "stdout",
     "output_type": "stream",
     "text": [
      "\n",
      "[27217]('30616133', 'the devouring') Explicit\n",
      "['呪術廻戦 | Jujutsu Kaisen (Manga)']\n",
      "https://archiveofourown.org/works/30616133\n",
      "['Voyeurism', 'Extremely Dubious Consent', 'First Time', 'First Time Blow Jobs', 'Anal Sex', 'Anal Gaping', 'Rough Sex', 'Cousin Incest', 'Dead Dove: Do Not Eat', 'Invisible Curse Gangbang']\n",
      "\n",
      "Rarity Score: [4.18567917]\n",
      "Rarest words: ['cockhead', 'cherubic', 'undefiled', 'latticework', 'unchartered', 'victoriously', 'sinewy', 'petulance', 'heedless', 'impish']\n",
      "word emb score 0.972, rarity score 0.990\n",
      "\n",
      "[1870]('30781790', 'In Wake of Battle') Explicit\n",
      "['Spartacus Series (TV)']\n",
      "https://archiveofourown.org/works/30781790\n",
      "['Porn', 'straight up porn', 'Anal Sex', 'Anal Fingering', 'Oral Fixation', 'Fluff', 'Fluff and Smut', 'Riding', 'Post-Battle Sex', 'two thoroughly enamored warriors']\n",
      "\n",
      "Rarity Score: [4.20647145]\n",
      "Rarest words: ['slicking', 'downstroke', 'scrabbled', 'forwardness', 'furl', 'shivery', 'scissoring', 'prickle', 'gladius', 'unbidden']\n",
      "word emb score 0.961, rarity score 0.989\n",
      "\n",
      "[5366]('30854090', 'Number 1 in the bucket list') Explicit\n",
      "['Spider-Gwen (Comics)', 'Daredevil (TV)']\n",
      "https://archiveofourown.org/works/30854090\n",
      "['Unhealthy Relationships', 'Desperation', 'Non-Consensual', 'Dark', 'Hand Jobs', 'Blow Jobs', 'Mild Painplay', 'blood mention', 'Emotional/Psychological Abuse', 'Mention of addiction', 'Incontinence', 'urine mention', 'porn purple prose', 'Emotional Whump', 'memory repression', 'minor breathplay', 'Stockholm Syndrome', 'First Kiss', 'Matt Murdock and Foggy Nelson at Columbia']\n",
      "\n",
      "Rarity Score: [4.20316791]\n",
      "Rarest words: ['spasmed', 'sidewise', 'shivery', 'fluttery', 'prickle', 'absently', 'bedpost', 'blessedly', 'mottling', 'wedging']\n",
      "word emb score 0.959, rarity score 0.993\n",
      "\n",
      "[694]('30332217', 'take me to the pilot') Explicit\n",
      "['Star Wars - All Media Types', 'Star Wars Original Trilogy']\n",
      "https://archiveofourown.org/works/30332217\n",
      "['Established Relationship', 'Sex in an X-Wing (Star Wars)', 'On an X-wing?', 'There’s an X-Wing involved', 'Blow Jobs', 'Anal Fingering', 'Hair-pulling', 'Fluff', 'Han is infatuated']\n",
      "\n",
      "Rarity Score: [4.18089888]\n",
      "Rarest words: ['reacquaintance', 'scritch', 'earsplitting', 'untuck', 'hipbone', 'slicking', 'prickling', 'onrushing', 'sidelong', 'bobber']\n",
      "word emb score 0.962, rarity score 0.985\n",
      "\n",
      "[21908]('29863713', 'Rapture') Explicit\n",
      "['Final Fantasy XIV']\n",
      "https://archiveofourown.org/works/29863713\n",
      "['Porn With Plot', 'Priest Kink', 'Knotting', 'Choking', 'Church Sex', 'Public Sex', 'Anal Gaping', 'Anal Fingering', 'Multiple Orgasms', 'Face-Fucking', 'Nipple Play', 'Biting', 'Scratching', 'Dirty Talk', 'Corruption', 'Dubious Consent', 'Belly Bulging', 'Cum Inflation', 'Ear play']\n",
      "\n",
      "Rarity Score: [4.17316225]\n",
      "Rarest words: ['underlayer', 'overfull', 'beastman', 'slenderness', 'archimandrite', 'prickling', 'messily', 'overstimulation', 'sabertooth', 'offertory']\n",
      "word emb score 0.965, rarity score 0.977\n"
     ]
    }
   ],
   "source": [
    "rs = (1 - abs(R - R[poi1])).flatten()\n",
    "\n",
    "for doc_id in np.argsort(-(cs+rs*0.5))[1:6]:\n",
    "    print_fanfic(doc_id)\n",
    "    print('Rarity Score:', R[doc_id])\n",
    "    print('Rarest words:', rank_by_idf(doc_id)[:10])\n",
    "    print(f'word emb score {cs[doc_id]:.3f}, rarity score {rs[doc_id]:.3f}')"
   ]
  },
  {
   "cell_type": "markdown",
   "id": "enormous-simulation",
   "metadata": {},
   "source": [
    "I think the results are getting a bit better (the first one does match the target fanfic pretty well). Let's try another fanfic. This is a \"normal\" fanfic with average (or low) amount of rare words used. Also, notice how in fanfic like this, the rare words tend to be nouns, whereas for a \"proper\" sophisticated work, the rare words are oftentimes adjectives or adverbs."
   ]
  },
  {
   "cell_type": "code",
   "execution_count": 153,
   "id": "clinical-roads",
   "metadata": {},
   "outputs": [
    {
     "name": "stdout",
     "output_type": "stream",
     "text": [
      "\n",
      "[0]('30843428', 'nervous by nature and overthinking everything') Teen And Up Audiences\n",
      "['Minecraft (Video Game)', 'Dream SMP - Fandom', 'Video Blogging RPF']\n",
      "https://archiveofourown.org/works/30843428\n",
      "['Angst', 'Angst with a Happy Ending', 'Kinda', 'Arguing', 'Fighting', 'Traumatized TommyInnit (Video Blogging RPF)', 'Resurrected TommyInnit (Video Blogging RPF)', 'Protective TommyInnit (Video Blogging RPF)', 'Ranboo Has Anxiety Disorder (Video Blogging RPF)', 'Ranboo & TommyInnit Friendship (Video Blogging RPF)', 'Ranboo Has a Tail (Video Blogging RPF)', 'Sad Ranboo (Video Blogging RPF)', 'Nonbinary Ranboo (Video Blogging RPF)', 'Mentioned Toby Smith | Tubbo', 'Platonically Married Ranboo and Toby Smith | Tubbo', 'All Platonic - Freeform', 'you fuckers', 'Unhealthy Coping Mechanisms', 'Canon Compliant']\n",
      "\n",
      "\n",
      "It was calm, that night in the tower. The kind of calm that came after a day of uneventful happenings, a feeling of peace that grew the longer into the evening it went. On the SMP, days were rarely ever peaceful. There was always something going on to focus on; a quest, a plan, an attack. Calm days were a blessing among so many tragedies that took place.\n",
      "\n",
      " \n",
      "\n",
      "Tommy was perched on the top of the lookout tower, looking over the prison. He’d been hanging around the central area of the SMP all day, farming wheat, wandering the prime path. He’d even seen Ghostbur around and chatted with him a bit. Apparently, the wisp of his brother figure’s self shared the interest in music as his alive counterpart. He’d shared some new tunes with Tommy, his hauntingly beautiful and echoey voice ringing out through the paths.\n",
      "\n",
      " \n",
      "\n",
      "It was late, but it wasn’t late enough for it to be absurd for him to be awake. The sky was still tinged with red from the sunset, fading into a deep purple. The stars in the sky \n",
      "\n",
      "Rarest words: ['unhinge', 'bafflement', 'whirled', 'twiddling', 'bandanna', 'hauntingly', 'towered', 'freakishly', 'windpipe', 'hesitantly']\n",
      "\n",
      "Document rarity: 4.520603448275213\n"
     ]
    }
   ],
   "source": [
    "poi2 = 0\n",
    "print_fanfic(poi2, True, 1000)\n",
    "print('\\nRarest words:', rank_by_idf(poi2)[:10])\n",
    "print('\\nDocument rarity:', doc_freq[poi2])"
   ]
  },
  {
   "cell_type": "code",
   "execution_count": 154,
   "id": "australian-librarian",
   "metadata": {},
   "outputs": [
    {
     "name": "stdout",
     "output_type": "stream",
     "text": [
      "\n",
      "[24008]('30438330', 'Gymnastics is more fun when your brothers do it with you') General Audiences\n",
      "['Minecraft (Video Game)', 'Video Blogging RPF']\n",
      "https://archiveofourown.org/works/30438330\n",
      "['TommyInnit-centric (Video Blogging RPF)', 'Clay | Dream-centric (Video Blogging RPF)', 'Jschlatt-centric (Video Blogging RPF)', 'Gymnist TommyInnit', 'Acrobat TommyInnit', 'Digital Artist Jschlatt', 'Traucer Dream', 'Parkourist Dream', 'Older Sibling Jschlatt (Video Blogging RPF)', 'Older Sibling Clay | Dream (Video Blogging RPF)', 'Younger Sibling TommyInnit (Video Blogging RPF)', 'Soft Jschlatt (Video Blogging RPF)', 'Soft Clay | Dream (Video Blogging RPF)', 'Soft TommyInnit (Video Blogging RPF)', 'Protective Jschlatt (Video Blogging RPF)', 'Protective Clay | Dream (Video Blogging RPF)', 'Protective TommyInnit (Video Blogging RPF)', 'kind of', 'Good Older Sibling JSchlatt', 'Good Older sibling Dream', 'Good Jschlatt (Video Blogging RPF)', 'Good dream', 'Past Child Abuse', 'Implied/Referenced Child Abuse', 'IRL Fic', \"it's set irl\", 'This is an AU', 'Vaulters AU']\n",
      "\n",
      "\n",
      "Rarest words: ['ungraceful', 'pleadingly', 'childishly', 'smugly', 'snicker', 'uncharacteristically', 'consoling', 'blankly', 'marigold', 'glassy']\n",
      "Rarity Score: [4.70248571]\n",
      "\n",
      "[26966]('30650582', 'Warmth in the Dark') General Audiences\n",
      "['Origins SMP - Fandom']\n",
      "https://archiveofourown.org/works/30650582\n",
      "['Origins SMP', 'Origins', 'Hybrids', 'Phantom Hybrid Wilbur Soot', 'Avian Tommyinnit (Video Blogging RPF)', 'Wings', 'Hurt/Comfort', 'Discrimination', 'Alternate Universe', 'Found Family', 'Touch-Starved', 'Hugs', 'Minor Violence', 'Cuddles', 'preening', 'Wilbur Soot-centric', 'TommyInnit-centric (Video Blogging RPF)']\n",
      "\n",
      "\n",
      "Rarest words: ['avertedly', 'defeater', 'breezily', 'doubtfully', 'quizzically', 'stoutly', 'sleepily', 'hyperventilate', 'preen', 'unperturbed']\n",
      "Rarity Score: [4.61090349]\n",
      "\n",
      "[26916]('30661199', 'The Cake Just Needs Frosting') General Audiences\n",
      "['Video Blogging RPF']\n",
      "https://archiveofourown.org/works/30661199\n",
      "['Shapeshifting', 'Alternate Universe - Shapeshifters', 'Dream SMP Ensemble-centric', 'Fluff', 'Fluff and Hurt/Comfort', 'Hurt/Comfort', 'Angst with a Happy Ending', 'Good Parent Phil Watson (Video Blogging RPF)', 'Lowercase']\n",
      "\n",
      "\n",
      "Rarest words: ['unwelcomed', 'unnoticeable', 'reassuringly', 'hesitantly', 'sternly', 'wart', 'ender', 'concoction', 'sighing', 'nether']\n",
      "Rarity Score: [4.77662921]\n",
      "\n",
      "[4306]('30650909', 'Unsteady Breathing and Unstable Families') Teen And Up Audiences\n",
      "['Minecraft (Video Game)', 'Video Blogging RPF']\n",
      "https://archiveofourown.org/works/30650909\n",
      "['Family Feels', 'Dysfunctional Family', 'Family Issues', 'sbi as a family', 'Older Sibling Wilbur Soot', 'Older Sibling Technoblade (Video Blogging RPF)', 'Phil Watson is Called Philza (Video Blogging RPF)', 'lamb - Freeform', 'Bad Parenting', 'Bad Parent Phil Watson (Video Blogging RPF)', 'Avian Phil Watson (Video Blogging RPF)', 'Sad Parental Phil Watson (Video Blogging RPF)', 'Wilbur Soot and Technoblade and TommyInnit are Siblings', 'Older Siblings Wilbur Soot and Technoblade', 'Technoblade is Bad at Feelings (Video Blogging RPF)', 'Wilbur Soot is Not Okay', 'Angry Wilbur Soot', 'Protective Wilbur Soot', 'Ghost Wilbur Soot', 'Touch-Starved TommyInnit (Video Blogging RPF)', 'TommyInnit Needs a Break (Video Blogging RPF)', 'TommyInnit Needs a Hug (Video Blogging RPF)', 'Sad and Angry TommyInnit (Video Blogging RPF)', 'Sad TommyInnit (Video Blogging RPF)', 'Angry TommyInnit (Video Blogging RPF)', 'Tommyinnit needs therapy', 'Mental Breakdown', 'Neglectful Parent Phil Watson (Video Blogging RPF)', 'I hate tagging', \"I'm Bad At Tagging\", \"I'm Bad At Summaries\"]\n",
      "\n",
      "\n",
      "Rarest words: ['tenseness', 'creak', 'remorseful', 'fatherly', 'clink', 'crudely', 'ramble', 'evaporate', 'halting', 'strangle']\n",
      "Rarity Score: [4.74170792]\n",
      "\n",
      "[7300]('30849524', 'what you leave behind') Teen And Up Audiences\n",
      "['Minecraft (Video Game)', 'Video Blogging RPF']\n",
      "https://archiveofourown.org/works/30849524\n",
      "['Ranboo-centric (Video Blogging RPF)', 'Royal!Ranboo', 'Prince!Ranboo', 'Enderman Ranboo (Video Blogging RPF)', 'Goat Hybrid Toby Smith | Tubbo', 'He/Him and They/Them Pronouns for Toby Smith | Tubbo', 'Ranboo and Toby Smith | Tubbo Have a Child Named Michael', 'Platonically Married Ranboo and Toby Smith | Tubbo', 'Michael my beloved', 'no beta we die like i think michael is going to', 'knock on wood lol', 'Hurt No Comfort', 'Angst', 'Fluff', 'Fluff and Angst', 'Sad Ranboo (Video Blogging RPF)', 'Enderwalking Ranboo (Video Blogging RPF)', 'Blood and Injury', \"It's nothing bad\", 'Traumatized Toby Smith | Tubbo', 'tommyinnit is dead (for now)', 'Music dad Tubbo']\n",
      "\n",
      "\n",
      "Rarest words: ['sheerly', 'ungraceful', 'skeptically', 'suffragette', 'forgetfulness', 'permeate', 'glint', 'woolen', 'inlaid', 'scribble']\n",
      "Rarity Score: [4.62375681]\n"
     ]
    }
   ],
   "source": [
    "cs = cosine_similarity(X[poi2].reshape(1,-1), X).flatten()\n",
    "for doc_id in np.argsort(-cs)[1:6]:\n",
    "    print_fanfic(doc_id)\n",
    "    print('\\nRarest words:', rank_by_idf(doc_id)[:10])\n",
    "    print('Rarity Score:', R[doc_id])"
   ]
  },
  {
   "cell_type": "code",
   "execution_count": 155,
   "id": "touched-december",
   "metadata": {},
   "outputs": [
    {
     "name": "stdout",
     "output_type": "stream",
     "text": [
      "\n",
      "[9413]('30409830', \"I'm home...\") General Audiences\n",
      "['NCT (Band)']\n",
      "https://archiveofourown.org/works/30409830\n",
      "['End of the World', 'Delusions', 'Romantic Friendship', \"It's all about the YEARNING\", 'AU Millennium Bug is real', \"AKA there's a technology blackout that makes the world topple\", 'Fluff', 'Light Angst']\n",
      "\n",
      "Rarity Score: [4.5137788]\n",
      "\n",
      "Rarest words: ['irremediably', 'uncontainable', 'distractedly', 'messily', 'cutely', 'crackled', 'pursed', 'waddling', 'accusatory', 'slotting']\n",
      "word emb score 0.976, rarity score 0.993\n",
      "\n",
      "[13684]('30125322', 'Himitsu') Teen And Up Audiences\n",
      "['Video Blogging RPF', 'Minecraft (Video Game)']\n",
      "https://archiveofourown.org/works/30125322\n",
      "['Adding tags as the story goes on!', 'Hurt/Comfort', 'Angst', 'Hurt TommyInnit (Video Blogging RPF)', 'TommyInnit-centric (Video Blogging RPF)', 'Amnesia', 'Ghosts', 'Spirits', 'Ghost Wilbur Soot', 'Ghost Jschlatt (Video Blogging RPF)', 'Alexis | Quackity is Not Mexican Dream', 'Ghost Mexican Dream', 'Wilbur Soot and Technoblade and TommyInnit are Siblings', 'Portals', 'Injured TommyInnit (Video Blogging RPF)', 'Traumatized TommyInnit (Video Blogging RPF)', 'Crack', 'Crack Treated Seriously', 'Protective Wilbur Soot', 'Jealous Wilbur Soot']\n",
      "\n",
      "Rarity Score: [4.53551532]\n",
      "\n",
      "Rarest words: ['unscratched', 'tenseness', 'afterworld', 'ponga', 'matara', 'tidily', 'sluggishly', 'limply', 'wordlessly', 'antes']\n",
      "word emb score 0.979, rarity score 0.985\n",
      "\n",
      "[13917]('30146415', 'When in Rome') Teen And Up Audiences\n",
      "['Good Omens (TV)']\n",
      "https://archiveofourown.org/works/30146415\n",
      "['Ineffable Husbands (Good Omens)', 'Ancient Rome', 'Scene: Rome 41 AD (Good Omens)', 'Minor Violence', 'Non-Graphic Violence', 'Summoning', 'Demon Summoning', 'Summoning Circles', 'Mind Control', 'Only Attempted Mind control', 'Mind Control Aftermath & Recovery', 'Pain', 'POV Crowley (Good Omens)', 'Crowley is a Mess (Good Omens)', 'Crowley is Bad at Feelings (Good Omens)', 'Crowley is So Done (Good Omens)', 'Crowley is Bad at Communicating (Good Omens)', 'Crowley has Trauma from the Fall (Good Omens)', 'Crowley Has Feelings (Good Omens)', 'Crowley Has Issues (Good Omens)', 'Crowley Has a Bad Day (Good Omens)', 'Crowley Needs a Hug (Good Omens)', 'Hurt Crowley (Good Omens)', \"Crowley can't admit his feelings about Aziraphale to himself because you know\", 'Crowley in Denial (Good Omens)', 'but thats not the main focus', 'They do love and appreaciate each otehr', 'they just cant admit it', 'Protective Aziraphale (Good Omens)', 'Worried Aziraphale (Good Omens)', 'Caring Aziraphale (Good Omens)', 'Aziraphale is Bad at Feelings (Good Omens)', 'Aziraphale Is Trying (Good Omens)', 'Aziraphale is smart', 'Aziraphale trying to cheer Crowley up and failing spectacularly', 'Aziraphale is persistent', 'Canon typical alcohol consume', 'Oysters', \"Crowley's Sunglasses (Good Omens)\", 'Crowley Has Long Hair (Good Omens)', 'Crowley has short Hair', 'Hair cutting as a way to regain control', 'Hurt/Comfort', 'Emotional Hurt/Comfort', 'Angst and Hurt/Comfort', 'Hair-pulling', 'in the painful way', 'Emotional Fallout', 'they are getting through this i promise', 'Canon Compliant', 'Happy Ending', 'Sad with a Happy Ending', 'emotional exhaustion', 'Communication', 'Some Humor', 'situational humor', 'Angst with a Happy Ending', 'Angst']\n",
      "\n",
      "Rarity Score: [4.52142668]\n",
      "\n",
      "Rarest words: ['measuredly', 'sidling', 'thousandfold', 'prickling', 'unsporting', 'uproariously', 'unthinkingly', 'briny', 'viscerally', 'warded']\n",
      "word emb score 0.972, rarity score 0.999\n",
      "\n",
      "[19006]('30027831', 'Dice and (Baseball) Diamonds') Teen And Up Audiences\n",
      "['ダイヤのA | Daiya no A | Ace of Diamond']\n",
      "https://archiveofourown.org/works/30027831\n",
      "['Alternate Universe - Dungeons & Dragons', 'Alternate Universe - Fantasy', 'Fantasy', 'Dungeons & Dragons 5th Edition', 'Dragons', 'Monsters', 'Violence', 'Injury', 'Blood and Injury']\n",
      "\n",
      "Rarity Score: [4.52193357]\n",
      "\n",
      "Rarest words: ['accusingly', 'unbothered', 'slunk', 'mannerism', 'leafed', 'immobilize', 'squelch', 'ragtag', 'sheepish', 'sheepishly']\n",
      "word emb score 0.970, rarity score 0.999\n",
      "\n",
      "[22502]('30617030', 'The Beauty of Falling') Teen And Up Audiences\n",
      "['Dream SMP (Fandom)']\n",
      "https://archiveofourown.org/works/30617030\n",
      "['Cogchamps', 'Enemies to Friends to Lovers', 'Kinda', 'I tried I promise', \"I've been writing this for two days and I don't know how\", \"I'm faux philosophical\", 'no beta we die like 5up in among us', 'semi-modern au', 'Alternate Universe - Fantasy', 'DreamNotFound is background', 'after Fundy and Dream marriage', 'hafu and 5up are siblings', 'Fluff and Angst']\n",
      "\n",
      "Rarity Score: [4.5075942]\n",
      "\n",
      "Rarest words: ['inexistence', 'lovesickness', 'underdressed', 'snuffing', 'hyperventilate', 'handprint', 'unmoving', 'pigtail', 'pursed', 'paled']\n",
      "word emb score 0.976, rarity score 0.987\n"
     ]
    }
   ],
   "source": [
    "rs = (1 - abs(R - R[poi2])).flatten()\n",
    "for doc_id in np.argsort(-(cs+rs*0.5))[1:6]:\n",
    "    print_fanfic(doc_id)\n",
    "    print('Rarity Score:', R[doc_id])\n",
    "    print('\\nRarest words:', rank_by_idf(doc_id)[:10])\n",
    "    print(f'word emb score {cs[doc_id]:.3f}, rarity score {rs[doc_id]:.3f}')"
   ]
  },
  {
   "cell_type": "markdown",
   "id": "featured-block",
   "metadata": {},
   "source": [
    "However, this post a new problem -- looking at all these rare words, we notice that they are always adverbs. For example, frostily is not a \"hard\" word because it's obviously derived from frost. There has to be a better way to address the \"richness\" of the vocabulary than just using their frequency in common English."
   ]
  },
  {
   "cell_type": "code",
   "execution_count": 156,
   "id": "everyday-acoustic",
   "metadata": {},
   "outputs": [],
   "source": [
    "def rare_words_in_file(fn):\n",
    "    text = open(fn, 'r+', encoding='utf-8').read()\n",
    "    u = vectorizer.transform([text])\n",
    "    u_terms = vectorizer.inverse_transform(u)[0]\n",
    "    \n",
    "    return [\n",
    "        term for term in \\\n",
    "            sorted(u_terms, key=lambda x:zipf_frequency(x, 'en')) \\\n",
    "                if term in en_vocab\n",
    "    ]"
   ]
  },
  {
   "cell_type": "markdown",
   "id": "worthy-maker",
   "metadata": {},
   "source": [
    "Look at these two documents which have similar \"rarity score\" based on our calculation, but their actual \"richness\" is vastly different. How do you address this?"
   ]
  },
  {
   "cell_type": "code",
   "execution_count": 157,
   "id": "dressed-public",
   "metadata": {},
   "outputs": [
    {
     "name": "stdout",
     "output_type": "stream",
     "text": [
      "3.947067729083665\n"
     ]
    },
    {
     "data": {
      "text/plain": [
       "['uneager',\n",
       " 'gracelessness',\n",
       " 'damascened',\n",
       " 'candescent',\n",
       " 'imperturbability',\n",
       " 'scutter',\n",
       " 'unfallen',\n",
       " 'thirstily',\n",
       " 'shrive',\n",
       " 'fussily']"
      ]
     },
     "execution_count": 157,
     "metadata": {},
     "output_type": "execute_result"
    }
   ],
   "source": [
    "print(custom_corpus_freq('text/ulysses.txt'))\n",
    "rare_words_in_file('text/ulysses.txt')[:10]"
   ]
  },
  {
   "cell_type": "code",
   "execution_count": 159,
   "id": "prescribed-stranger",
   "metadata": {},
   "outputs": [
    {
     "data": {
      "text/plain": [
       "'Stately, plump Buck Mulligan came from the stairhead, bearing a bowl of lather on which a mirror and a razor lay crossed. A yellow dressinggown, ungirdled, was sustained gently behind him on the mild morning air. He held the bowl aloft and intoned:\\n\\nâ€”Introibo ad altare Dei.\\n\\nHalted, he peered down the dark winding stairs and called out coarsely:\\n\\nâ€”Come up, Kinch! Come up, you fearful jesuit!\\n\\nSolemnly he came forward and mounted the round gunrest. He faced about and blessed gravely thrice th'"
      ]
     },
     "execution_count": 159,
     "metadata": {},
     "output_type": "execute_result"
    }
   ],
   "source": [
    "open('text/ulysses.txt', 'r+').read()[:500]"
   ]
  },
  {
   "cell_type": "code",
   "execution_count": 158,
   "id": "junior-neutral",
   "metadata": {},
   "outputs": [
    {
     "name": "stdout",
     "output_type": "stream",
     "text": [
      "3.991823939201765\n"
     ]
    },
    {
     "data": {
      "text/plain": [
       "['unsinking',\n",
       " 'fugitively',\n",
       " 'contrastively',\n",
       " 'intolerability',\n",
       " 'tauten',\n",
       " 'titillatingly',\n",
       " 'welcomingly',\n",
       " 'horrification',\n",
       " 'noncommittally',\n",
       " 'owlishly']"
      ]
     },
     "execution_count": 158,
     "metadata": {},
     "output_type": "execute_result"
    }
   ],
   "source": [
    "print(doc_freq[12450])\n",
    "rank_by_idf(12450)[:10]"
   ]
  },
  {
   "cell_type": "code",
   "execution_count": 161,
   "id": "automatic-husband",
   "metadata": {},
   "outputs": [
    {
     "data": {
      "text/plain": [
       "\"“Fucking asshole.” Katou grumbles, arms pushing himself up as he fights with the gravity of wet clothing, the added ASV suit that was clinging like a second skin not helping one bit. At least it mostly felt like nothing, he thinks, even if it's turning uncomfortable, with the way it sticks.\\xa0“Inspector.”\\xa0The suspect of his current predicament speaks, smirk practically audible, dripping like the droplets cooling on his body and Katou feels himself scowling, admonishments leaving in a parade, thoug\""
      ]
     },
     "execution_count": 161,
     "metadata": {},
     "output_type": "execute_result"
    }
   ],
   "source": [
    "corpus[12450][:500]"
   ]
  },
  {
   "cell_type": "markdown",
   "id": "sufficient-catering",
   "metadata": {},
   "source": [
    "This could be the limit of BOW. So should we model ngram into this (counting the frequency of ngrams using idf?) Or rather, there's something we have not captured, for example, grammar, POS, sentence?"
   ]
  },
  {
   "cell_type": "code",
   "execution_count": 183,
   "id": "scientific-tuner",
   "metadata": {},
   "outputs": [
    {
     "data": {
      "text/plain": [
       "(array([4.20789901]), array([4.19569593]))"
      ]
     },
     "execution_count": 183,
     "metadata": {},
     "output_type": "execute_result"
    }
   ],
   "source": [
    "R[7860], R[5]"
   ]
  },
  {
   "cell_type": "code",
   "execution_count": 184,
   "id": "received-person",
   "metadata": {},
   "outputs": [
    {
     "data": {
      "text/plain": [
       "\"He makes himself watch the thin line across the other’s throat expand and break open, the rush of blood released on dirtied robes. It does not stain, just soaks into the fabric and becomes one with the mud-streaked red. The Wen disciple keels over, eyes rolling back to expose the glistening white. In his last moments, he cried. Before he touches the ground, Bichen has already found its next target, slicing through air, skin, and flesh as another man attacks from the left, arms raised high, mouth in a shocked circle as he is cut across the chest. His now exposed ribcage is sunken, every bone visible after weeks of rationed portions on the front. If he does not die from the blood loss, he will die from hunger or infection. No one will come in time to save him.It stinks. This war may be necessary and righteous, but it’s ugly, and it smells. The stench alone makes them wretch, ashes stinging in their lungs, open wounds, excrement and mud spilling, no boot left unsullied. Many have given up on washing their robes after a fight, many have been left with just one set of layers. Their cores have been weakened and their bodies strained. They hunger. Dozens have fallen not by their enemies' blades but by the resentment in the air, a thick taste on the tongue, clinging to them, beckoning them. It gathers at the center of the battle.Lan Wangji watches Wei Wuxian shape it to his will.Corpses bend and crack and realign, those with legs rise and run to throw themselves at the powerless Wen, those without limbs bite and snarl at anything that is close; he sees a body, not taller than his chest, throw itself at a man with its dented head first, choking him with its shattered pieces. A group of women, all bone and hair, smile brightly as they lift men thrice their weight and break their bones with dainty hands. When he goes to block an attack from two men to his left, Bichen hits nothing as they are pulled into the ground by rotting arms.There is no sense in begrudging them. There is no scarcity of enemies, and within the next seconds, Bichen flashes. Skeletal arms part for him before he rips a solider clothed in red from a kneeling Jiang cultivator, turning her so that she may face her final opponent. Her eyes flicker to his ribbon, then to the crown of his head as she spits. After he steps over her silenced body, he helps the Jiang cultivator to their feet, bearing most of their weight as they balance on their broken leg. Their cheeks are wet with tears. Swiftly, he escorts them to the tents behind the front and passes them to an awaiting nurse, surveys \\xa0the groaning disciples in different robes and degrees of pain. Some of them might never fully heal, despite the healers’ efforts.His own muscles ache. They have been pushing back this particular division of Wens for twelve days, barely making time for rest and nourishment. A light dizziness accompanies him now, and it’s fueled whenever Wei Wuxian appears in the edges of his vision. As he has made it his task to watch over his beloved, the strain to clear his mind has taken its toll. It is harder to stop his emotions from guiding his aim. \\xa0Anger boils in his blood, and it spits and splurges whenever Wei Wuxian is forced to put Chenqing to his lips, when the Wen storm at him with fear. Lan Wangji fantasizes about killing them all with his bare hands, feeling their pulse quicken and then stop beneath his fingers before they can come close to Wei Wuxian’s deathly song. Every drop Bichen spills is a drop on his tongue. He envies every fierce corpse \\xa0for its closeness to their enemies, wonders what its gnawing teeth feel when it tears apart joints or grinds bone to dust. It is why every swipe of his sword carries an apology.There is something appaling inside him. Something inelegant and ugly. Something that should have been shut behind a door and is breaking out now that the lock has been lovingly torn apart.A Wen disciple begs for his life, and he spares him, but in his relieved inhale, the man is torn apart by a corpse Wei Wuxian’s gaze meets his, over the battlefield, over the chaos, and a pretty little smile dances across his lips. His robes are clean, his hair shimmering in the setting sun. The red light dims his glowing eyes. Lan Wangji will not call him beautiful.He doesn’t look again for a while. Night falls, and they are winning, Bichen’s light giving the pained expressions of the disciples a divine edge. In the distance, Zidian’s crackle deafens the sound of blades clashing. It doesn’t mute the screams and the cries but it gives comfort in its unashamed hatred. Jiang Wanyin will be remembered victoriously.When the moon is high, the fighting has stopped and those who have yielded are escorted by the Jin. \\xa0Most of the cultivators are recovering, some in the mud right where they killed last, some by the tents, some in the arms of their companions. Others are tending to the wounded or lifting the dead. Sometimes a battle seems loudest after it has been won. The sobbing has a sharper tone, the rush of blood thunderous in their veins, boots squelching in the ground. The sound of the dizi has stopped, and the corpses are still, but Wei Wuxian never goes to rest right away. He stands silently as the hems of his robes brush the mess to his feet. Hands behind his back, Chenqing either in his fist or tucked away, he tilts his head and takes in his destruction.Lan Wangji crosses bodies to get to him, Bichen now sheathed.“Come,” he says.Wei Wuxian doesn’t let him lead the way toward the settlements. Within a moment, he is cheerful, twirls among the dead and kicks a bloodied rock, compliments the other cultivators and smiles at their distrust. “They put up a fight this time, huh, Lan Zhan? It means we’re getting close to defeating them. They won’t exploit our people much longer. What will you do once this is over, hm? Maybe you will finally come visit me at Lotus Pier, now that there’s no more scum defiling the view. You want me back in the Cloud Recesses, but I belong home with Jiejie and Jiang Cheng, they have been doing so much work without me!”He is interrupted in his next sentence when a Wen disciple breaks loose from a group of Jin, grabs a sword from one of them, and swings it down towards Wei Wuxian’s shoulder. Bichen reacts without his will, but he keeps it back impulsively, muscles moving on their own as time slows down for him. He sees Wei Wuxian’s hand stop the sword at the hilt. He sees the disciple’s clenched jaw. He feels it. The sharp edge of it digs into the tops of his thumb and forefinger where he curls them around the man’s throat. It takes no effort to lift him and squeeze. His own heartbeat aligns itself with the racing pulse of his victim.Lan Wangji knows what power means. It can take many shapes. In its purest form, it is this: the decision over someone else’s life. It is never an easy one, but often it is fast, he he kills quick and painless, dignified. This is not that, though. Air rushes under his palm, the man – adolescent, really, as most capable men have been sent first in the war and died many months ago – struggles, his eyes bulge, skin running purple, lips splitting.“You mustn’t, Hanguang-Jun,” Wei Wuxian voice rings through to him. “It wouldn’t become you.”Wei Wuxian’s shoulder is unscathed. Not a single cut can be seen on his robes, not even a bruise on the exposed skin of his wrists or neck. Only the space under his eyes is heavy and tinted and his lips dry from worry. His eyes, that are a pristine black in the darkness, his lips that are a deep red.Lan Wangji drops the soldier and takes a deep breath.Much more than the taste of the Wens, his mouth aches for the taste of Wei Wuxian.“You say I’ve changed, but look at you! Look at your hands! What will the cultivation world think, come here, give me those, Lan er-gege.” Wei Wuxian cradles his hands and uses his sleeve to wipe the dried blood and dirt from Lan Wangji’s palms before he can pull them away.“Stop it.” The Wen is crumpled to the floor, coughing violently. Suddenly, a little shape crawls from behind Wei Wuxian’s robe. A pale and delicate head, thin bones, quick movements of hunger. It’s the pale ghost child, red eyes glowing greedily as it descends onto the man.“Ah, forgive me, I forgot that you don’t like to be touched, but no that you have received your title, you especially can’t be seen this filthy!”He watches the child sink its sharp teeth into the swollen throat. Blood seeps into the ground. “I will wash up.”Wei Wuxian winks at him and continues walking, joy in his step, not a single glance back. “Oh, what a thought! Don’t let maidens hear of this! The strong Lan Wangji, tired after a fight and resting in his tent, all alone. They will tear each other apart for your used cloth, I know it!”He wonders how often Wei Wuxian allows himself the comfort of hot water lately. He is always clean, clothes neatly aligned even during the fight, but Lan Wangji has noticed the scarcity of his meals, the absence of visits to the nurses, the cautious line of his shoulders. If they were back in Gusu, if they were at an inn, anywhere but here, he would let servants draw up a bath and ensure Wei Wuxian could take it in solitude and safety. He would guard whatever room would need to be guarded, he would let no one near until Wei Wuxian had cleared his body and his mind. If he was wanted, if he was asked for, he would wash him, worship him, brush the hair from his nape to rinse the sweet expanse of his back. \\xa0He hums and breathes through the throbbing in his lower dantian.“Really, you should come to Yunmeng, it’s the best place in the world, Lan Zhan, I promise! There won’t be all this -,” he stops himself with a dry laugh. “But what am I saying. Now that you have earned your title, Hanguang-Jun, and I have my new methods, you won’t want to come visit me anymore.”Lan Wangji’s stomach twists, still hot but acidic now. “I will come.”He must. He couldn’t bear not knowing how Wei Wuxian was faring. The dizzying change from the cold smile at the work of his demonic arts to the bright spark in his eyes afterwards is as expected as it is alarming. He was always one to joke after a focused fight, but now something lingers in his gaze, something wicked and deceitful. There’s no smoke or accumulation of killing intent around him anymore, but amidst the bodies and the bones, Chenqing still draws all attention, its red tassel like a stream of blood. During the battle, the cultivators fighting alongside them had looked toward Wei Wuxian with conceited satisfaction, afraid of his ghosts but eager at their destruction of the Wen. Now their weary eyes follow him with close attention, and they hurry to get away, never turning their backs.Lan Wangji knows the Jiang disciples have only set up their tents near Wei Wuxian’s because they don’t want to insult their young sect leader. Jiang Wanyin is already waiting impatiently by their settlements, the purple lotus fluttering above his head. Fires crackle all around them, flames shadowed by groups of tired cultivators seeking reprieve after what they have done.Abruptly, Wei Wuxian turns to him, and for a brief moment, he looks at Lan Wangji’s hands. “I really can control it.”“Wei Ying…”“Do not take my matters into your hands, Hanguang-Jun. Why should you?” he asks lowly. “Now let us say goodnight. I need a drink! Do not be mad, Lan Zhan, let’s not fight.”As much as he would like to force Wei Wuxian into his tent, into his bed, his home, he must settle for giving Wei Wuxian into Jiang Wanyin’s insufficient care. His chest tightens as he watches Wei Wuxian sling an arm over his brother’s shoulders, poking a finger between his drawn brows, laughing at an insult. They wander off, disappear behind purple robes, and Lan Wangji is left in the chaos of the crowd. He ignores the hushed gossip and the gurgling of bottles draining to collect himself before he rushes to his tent.Nimbly set up earlier at sunrise, his it is small and sparse\\xa0. It shelters only the necessities, offering a semblance of solitude. He heats water as he takes care of Bichen and Wangji, strips down quickly and wipes his body with a cloth. The warmth relaxes his muscles and rids him of the invisible remains of the battle. He takes care of his body, nourishes it as much as the circumstances allow, and lets himself become aware of its strains. Afterward, he plays, eyes half-closed, not watching his fingers as they pluck at strings. Outside, the drunken laughter becomes quieter, and he knows that people are listening, hopes his music can give them relief and strengthen their cores.Unwillingly, he thinks about hot skin under his palms. Slick from blood and mud, the Wen disciple’s neck was slippery and yet decidedly solid in his grip. He could feel the ridges of his throat, the giving flesh under his jaws, the long fingers curling around his as Wei Wuxian cleaned his hands.He exhales and focuses on his core, on what makes him who he is, on what allows him to follow the righteous path. Despite the battle, it fills him, a steady flow between his dantian.Recently, sleep has been restless. Lights flicker behind his lids, his ears transforming natural sounds from outside the tent into distorted creaks in his dreams. His senses are alert, which is why he hears Wei Wuxian long before he slips inside, recognizes him by step and breathing pattern alone. Fabric rises and sinks, the moon’s light filters through his lashes for a heartbeat before it is kept out again. When he opens his eyes, he is met by Wei Wuxian’s stare. His face is shadowed, and there’s something too passive about it, something deep in thought. It might be his stillness, the unnatural rigidity to him as he stands in the corner and watches. It’s not right to see him holding back.Lan Wangji sits up on his bedroll and straightens his unbound hair. His two layers for sleeping are too thin for company, and he worries his chest is shaking with the beat of his heart. In spite of the darkness, he feels too seen, wishes it was a clouded night. But the stars are plentiful and the moon’s strong light penetrates the infinitesimal gaps in the fabric of the tent.“Lan Zhan…,” Wei Wuxian begins and tilts his head from left to right a few times before he continues. “Lan Zhan, you really are someone.”There is a small table in the middle of the space, and he gestures for Wei Wuxian to sit by it, accepting with both satisfaction and disappointment that he readily goes to his knees but on the far side, then inclines his head as Lan Wangji begins to prepare tea. He lifts the pot to boil water anew, but Wei Wuxian snaps his fingers, and a talisman burns, briefly flashing through the dark. Its flame licks between his fingers without hurting him. Neither of them speak until both their cups are filled.“Still bitter,” Wei Wuxian says, scowling. Then he laughs. “We might have changed, but a Lan’s taste never will. I wonder if your kitchens will ever enjoy the fragrance of spice.” Then his eyes widen, something real and raw. “Forgive me, Lan Zhan. Cloud Recesses must still be recovering.”In the months that Wei Wuxian was gone, Lan Wangji had wondered whether a home was still a home if its ruins had no people to come back to. He hums.“When we have defeated the Wen, we will both return to where we belong,” Wei Wuxian muses, swirls the tea in his cup. His lips part, the corner of his mouth twitches, but he does not speak what is on his mind. His teeth glint, edges sharp.“Wei Ying, the Cloud Recesses will welcome you–”Wei Wuxian smiles. “I beg you, don’t disturb this pleasant moment we’re having, Lan Zhan.”Lan Wangji lowers his gaze and carefully lifts his cup, gently placing it between his lips before treasuring the warmth of the tea. He wants to grab Wei Wuxian by the throat, feel him struggle for air, make him gasp. His skin would have to heat up, it would pulse beneath his palms, it would be marked afterward, no doubt of its maker. Everyone would know. Everyone would understand if he took him away and hid him, kept him close. They would be relieved by it. Anger spills inside of him.Outside, there is still commotion. It is never quiet on the battlefield, even if the swords have been sheathed. The toasts of victory are still excelled by the howls of pain, by the begging for forgiveness. They went to war and expected a comfortable bloodshed.“Would you have killed that man, Hanguang-Jun?” His head snaps up at the question. The curious glint is back in Wei Wuxian’s eyes, and he’s leaning forward, one elbow on the low table, hair spilling from his high ribbon. “You would have strangled him with your bare hands, so brutish, Lan Zhan. You say I have changed, but isn’t this method of killing entirely too appalling for the Lan? Aren’t you ashamed!”The tendons in his hands twinge. “Quiet.”“Oh, but how you shocked me, Lan Zhan! Did you fear I would kill him? What did you think would have been worse, hmm, Lan Zhan? How you would have loathed to see me use my tricks so up close.” He seems excited by it, a challenge in his searching gaze, his smile too sharp and too broad. His finger dances across Chenqing. “Would you have been afraid of me?”He rises with too much haste. The cups rattle on the table. “Wei Ying!”Wei Wuxian rises, too, and his hand glides through the air, toward his belt, and Lan Wangji, again, acts without thinking. His insides are burning, his ears are hot, his limbs trembling. His fingers find Wei Wuxian’s wrist just as Wei Wuxian clutches Chenqing. The air is too warm. “You hate it, don’t you? Is your hatred for a masterful tool like this truly just?”Lan Wangji does not react.“Don’t think I don’t see it. Others may not know how to read the composed Hanguang-Jun, but we have fought alongside each other in matters of life and death long ago, don’t deny it! You might not consider me your friend, but I have always cherished your company.” With a shocking realization, he sees wetness rise in Wei Wuxian’s eyes. “Will you lie to me, Lan er-gege, and say you don’t hate me?”“Shut up,” he gasps, shaking, leaning forward. His shin knocks against the table, and he steps around it, shoves Wei Wuxian further away from the bed without letting him go. He stops his other hand at Wei Wuxian’s collar, revealing the smooth skin below his collarbones, freshly washed and smelling like smoke.In the space between them, something builds. As it sizzles and warps, Wei Wuxian loosens the grip Lan Wangji has on his wrist, one finger after the other, then brings Lan Wangji’s palm up and faces it upward. “I’d rather see that hatred than fear.”He can’t help but make a sound, spread raw by his quivering lips. “Wei Ying…”“I am no monstrosity,” Wei Wuxian whispers, but it’s swallowed by a ragged inhale.Lan Wangji raises their joint hands to touch his cheek, tracing a fallen tear down to the curve of his chin, then upward again. Wei Wuxian’s lips are cold but devastatingly supple as he purses them, takes control of their movements, places kisses along Lan Wangji’s knuckles, to his fingertips, dragging his tongue over where he is trembling, letting it curl around his thumb, prod under his nail, sucks it into his hot mouth. Lan Wangji can’t stop staring at the shiny inner part of his bottom lip, presses down on it, feels his blood thrum with something akin to fury. He pushes his thumb further in, forces Wei Wuxian’s jaw to drop. “You do not scare me, Wei Ying.”Doubt glimmers in Wei Wuxian’s eyes, and before he can get lost in it, Lan Wangji kisses him. He doesn’t give him time to react, thumb hooked in his mouth until his tongue replaces it, keeping him close by his collar and the side of his head. His fingers rake between locks of hair, unbinding his ribbon, fisting into the strands. He is lost in doing, in moving, in taking. When Wei Wuxian twitches, he bites his bottom lip and tugs, shivers at the resounding cry. He tastes like tea, like a hint of wine. Like heat. Metallic like blood, and Lan Wangji’s own mouth fills with saliva. He pushes it into the hollow under Wei Wuxian’s tongue and down his throat, then licks at the curve of his upper lip, along his jaw, behind his ear where beads of sweat dissolve under his greed.Wei Wuxian pants, he’s already unravelling. “Lan Zhan, Hanguang-Jun, I didn’t think you were – you are – are you not disgusted –”“I cannot hold back, I apologize,” he stutters bites at the hammering pulse visible on Wei Wuxian’s pale neck. The skin bruises earily.“You, you shouldn’t, you –”He rests his cheek against Wei Wuxian’s, skims his hand down to his belt and begins to undo it, feels Chenqing slip. Slowly, he uses the leather to bind it and slip it into a pocket in Wei Wuxian’s zhaoshan, parting this, too. “Will you stop me?” He roams over the cloth underneath, feels flesh give in and ribs expand under his palm. He can feel Wei Wuxian take a deep breath, then swallow, then shake his head ever so slightly. “I am helpless, Hanguang-Jun.”Lan Wangji squeezes his eyes shut, wills them to dry, and then he opens Wei Wuxian’s remaining upper garments in one single tearing motion. He ignores Wei Wuxian’s squeak and looks, devours what he can: the blush blooming on his chest; the Wen brand, raised and ragged; other scars less patterned but frighteningly methodical; brown nipples constricting; the thin hairs around them, more hair thickening over his abdomen and surrounding his bellybutton; stomach concerningly sunken; sharp hipbones above the low waistband. His skin reddens as Lan Wangji scrapes his nail from his collarbones to his pectorals, down his solar plexus, along his sides.Wei Wuxian squirms, stutters. “I – I.. you can’t look at me like this, Lan Zhan, spare me, please, let’s just kiss!”“I will not,” he mutters, pushing the robes down onto the ground, cupping Wei Wuxian’s arms, muscles pronounced by hunger. His elbows are dry, but his underarms soft and malleable. There are scars here, too.“Will you stop squeezing me! It’s like you are testing if I am ready to be cooked, Lan Zhan – Lan Zhan, I’m not raw meat!”There is something reassuring about his protests, the promise of honesty behind his exaggerations that are almost as playful as when they were students. Lan Wangji is planning on making him beg for mercy in earnest. “Down,” he says firmly and steps back.This minimal distance between them is near painful, an ache that throbs in his teeth and fingertips, but he wants to see as Wei Wuxian glides to his knees and crawls onto the sleeping mat. His hips sway, buttocks well-defined behind cotton cloth. “Is this what Hanguang-Jun has been thinking about all this time? Making this demonic cultivator submit through the method of dual cultivation? Will you rub between my thighs, will you subdue me with your yang?”Lan Wangji’s blood surges in his groin. “I will take you.”Wei Wuxian’s laugh dies down as Lan Wangji kneels, wrangles him onto his back, and spreads his legs, he gasps softly as he lifts his rear to help get rid of his pants. “W-what, will you pretend I’m a maiden? Maybe you could use my hands, if I place them like this, would you like that?” He’s spreading his hands over his cock, fingers curving around it. Lan Wangji bites his tongue and tries to gain access, uncurling those fingers with force, aligns Wei Wuxian’s wrists and keeps them on his stomach. He is flushed, balls full and heavy, the tip of him glistening.“I, Lan Zhan, I don’t know if I can do this, oh no no no, don’t! Ah!” His torso roars up, twists when Lan Wangji caresses the hardening line of his cock, palm moving down a pulsating vein. Wei Wuxan’s face is pink, and his loosened hair whisps around his forehead; he has his eyes closed shut, brows deepened. “This is, this is too much, maybe we should stop, maybe we aren’t – like – that, let’s go back to fighting, you are too much –”“I have barely touched you, Wei Ying,” Lan Wangji points out, both regretful and amused. He is beginning to get dizzy with this power, overwhelmed by the possibilities, by the privilege of Wei Wuxian beneath him. Curious, he thumbs over Wei Wuxian’s slit, even more intrigued as a droplet wells under his touch. It tastes salty, ripe.“Did you just – that is not right, Lan Zhan, Hanguang-Jun – what are you doing!”He has bent to nose at Wei Wuxian’s cock, breathing in its heady scent, delighted by the fidgeting. The floundering hands under his grasp try to deny him his sight again, but it’s easy to press them down, as easy as it is to shoulder between Wei Wuxian’s legs and hold him open with an elbow to his inner thigh. “Be still.” His first lick just gets him a sharp inhale, so he tenses his tongue and dips it under the delicate skin crowning Wei Wuxian’s cock. He hears another shaky breath, then a soft whine as his lips evoke another noise, and slackening them, he drags them down to Wei Wuxian’s base, mouthing along the side. He wonders…“Do not move your hands,” he commands. After Wei Wuxian nods jerkily, he bends him in half, knees to his chest, thighs flexing.“This is too far, you can’t – you can’t look at me there!!”“Wei Ying is cute.”Wei Wuxian sputters. “Cute?? Hanguang-Jun, are you even human, you can’t be serious!!”“You told me you wouldn’t stop me,” he says, one last warning, and then he thumbs over Wei Wuxian’s hole. The gargled cry doesn’t ebb before he puts his mouth to the roundness of his cheek, sucking immediately. This is where sweat invites him to move, to follow the taste and the grain of the short hairs. His mind is focused, sharpening with Wei Wuxian’s whines and the trembling of his muscles. His teeth bury themselves into every surface he can get to, and soon he feels the dents they leave under his tongue.“Are you sure you can do this, Lan Zhan, your mouth –”He sounds close to tears again. Lan Wangji looks up to take in his pained expression, his glassy eyes. “How does it feel?” he asks, swirling his tongue around Wei Ying’s hole. This is what he had been yearning for, the taste of him, bitter and clean, as pure as a well of water.“It, it’s, I don’t know, I am not sure if I have ever heard of something like this!”“How else will you be wet enough for me?” To emphasize this\\xa0, he gathers saliva, releases it onto the silky underside of Wei Wuxian’s balls, and watches it slide onto his hole. He looks so tight, too tight.He almost misses Wei Wuxian’s weak gasp, too distracted by the give under his finger as he traces the spit. It sinks in as soon as he applies the slightest of pressure, like he is made to be taken, so pliant. It scares him, to an extent. How is he ever meant to stop? To let go and allow each other to part? What if he fucks him and will have to carry the knowledge of his warm inside in a future that denies him another touch? His vision blurs.At Wei Wuxian’s silence, however, he blinks back into awareness. His grey eyes are widened, swimming with confusion. His voice is shaky. “Y-y-you... wet enough for you… Hanguang-Jun, you can’t mean – you don’t mean to suggest...?”“I will fuck you.”Wei Wuxian seems shocked at the prospect, and the twisted thing inside Lan Wangji revels in it, smug at the crumbling of the aloofness from the last months, aroused by the writhing of the strong body pinned under him. He tries to slide in another digit but has to push Wei Wuxian’s legs higher to gain better access, then spits again. His tongue helps, and he gets more than its tip inside, using it to pry the soft muscles further apart, burying two fingers in wet heat.“L-lan Zhan.”“Mn.”“Lan Zhan, look at me, look at this feeble one, will you spare me? You have to be merciful, Lan Zhan!!” Wei Wuxian breaks off into a beautiful whimper, but then he giggles in amazement. “How do you know about all of this, hm? Did you read forbidden books, Lan er-gege?”“Quiet,” he warns and ensures it by straightening himself and leaning over to kiss Wei Wuxian with vigor, tugging with his teeth, stealing his moans, distracting him so that he can stretch him wide. He makes sure he can only move minimally, pulling away whenever Wei Wuxian sucks on his lips and taking in his desperate reactions: huffing and whining, torso twisting, legs reeling him in. His want is addictingly palpable.“Made for this,” Lan Zhan mutters, nonsensically. He imagines it, Wei Wuxian washing up and yearning for his touch as much as he longs for his. Sneaking across the camp and inside, just to get fucked and taken apart. “Wei Ying is beautiful.”“Don’t, please, don’t...”“You do not have a say in this,” he growls, underlining it with a harsh bite to Wei Wuxian’s chest. He sucks at the brandmark, at a broad scar at his side. Its texture is softer, tender, still healing. It’s almost the shape of a claw; something dug deep here and clung. Many of the scars are still pink, and Lan Wangji is overcome with anger, he will be the only one hurting Wei Wuxian from now on, he is his to hurt and his to care for. He adds a third finger, circles his fourth one, hole now loose enough for it to make sounds, muted puffs as air follows Lan Wangji’s thrusts. But something else, too, something that shouldn’t be as loud as it is, something that eases his movements. He stills, ignores Wei Wuxian’s confused whine. Looks down and freezes.It’s not merely his own saliva, it’s thick and tacky, spilling between his knuckles. It smells of Wei Wuxian. “You are wet.”Wei Wuxian lets out a single, breathless laugh, almost manic in its tone. “Do you like my gift to you, Hanguang-Jun?”Lan Wangji’s looks at him. Wei Wuxian’s expression is filled with mirth, he thinks he has the upper hand in this moment, and as much as Lan Wangji’s heart jumps at his joy, he wants to remind him that, if not outside, here he has power over him. Thus, he withdraws his fingers and begins to undress, folding and placing each article of clothing next to the bed. He watches Wei Wuxian’s face shift, brighten as he reveals more skin, greedy as he unties the knot at his pants. Then it pales. “L-lan Zhan…”He has kept his forehead ribbon for last, doesn’t dare yet to unbind it. Already, his blood becomes hotter, the trembling is back, the shapes of the tent blur, his lower dantian a force of heat, spiritual energy tingling at the edges of his body.Wei Wuxian reaches out with a slow hand and pouts when Lan Wangji catches it. “You… you won’t even let me touch that – that thing, before you will force it inside me? How will my body adjust, Lan Zhan, how will I be able to take this!!? You must be lying to me, is this really how cut-sleeves do it? How can you break one of your sacred rules just to ridicule me!!”In answer to that, he leans forward, raises his ass with one hand, and guides the tip of his cock to Wei Wuxian’s fluttering hole with the other. That first contact sets his skin on fire, and he weakens, grips Wei Wuxian’s inner thighs, and drives in, gasping at the tightness.There’s a quiet scream: “Hhhhaaah! Lan Zhan, Lan Zhan, it hurts, it hurts –”“Shut up,” he groans and finds it even harder to push forward, thickening with Wei Wuxian’s cries. “Wei Ying, quiet, or I will – I will –”Wei Wuxian is not quiet. His arms have come up to lock behind Lan Wangji’s neck, pulling him onto his damp chest. “So big, oh fuck, you are so big, Hanguang-Jun, this will tear me apart, I won’t be able to move –,” he mutters, falling silent for a moment to paw at Lan Wangji’s shoulders. Finally, Wei Wuxian whispers, “Is this your intent?”He tilts his head up, breaking his stare from the sight of their joined flesh to look at Wei Wuxian’s cock, the blush on his chest, then finally his dark eyes. His own hair curtains them, barely any light filtering through. He is halfway in now, balls drawn tight in anticipation, but he hums for Wei Wuxian to continue before he resumes pushing. The wetness sucks him in, and he can feel the pained throbbing around his length. It turns the thing inside him into a raging beast. Shame cages him.“Is this why you are doing this, Hanguang-Jun? To use me until I won’t be able to take part in the battle – oh, oh, please, mercy, I am a virgin, no one has ever touched me there, no one has ever touched me at all!”That shame dissipates in an instance. “Wei Ying.”“You –”“Take off my forehead ribbon.”They stare at each other. He might burst if he doesn’t move, if Wei Wuxian takes any longer licking his shiny lips and fingering the tie at the back of his head. “Are you… are you sure?”“Wei Ying.”It tightens, before it loosens. Then it glides down his forehead and over his chin, falls between them, on the scars littering Wei Wuxian’s body. He sees it like a slash of moonlight on supple skin. Then he fucks in harshly.Wei Wuxian wails.It spurs him on, mindlessly chasing the next cry, the next moan, drawing back quickly and pounding back in just as fast, making Wei Wuxian’s hole open up. More and more slick squelches around him, and it reminds him of the dewy give of Wei Wuxian’s mouth, so he sinks himself onto his lips, too, kisses him in between his whines. He bites and nips at the wound, licks at the blood, then nudges his tongue inside so that Wei Wuxian may taste himself. His left hand keeps squeezing flesh, thumb close to where his cock is shoving in, and his right hand cradles Wei Wuxian’s jaw, elbow on the ground to hold himself up and close. His stomach is getting moist with the leaking from Wei Wuxian’s cock and their sweat, and he wonders if he will smell like them for days to come, if everyone else will smell it on them, if they can hear him now, taking this feared boy’s virginity.He adjusts his posture, hoists Wei Wuxian’s knees over his shoulders, and shuffles impossibly closer, giddy at the difference in their position. “This suits Wei Ying,” he mutters. “Made to take me.”“I-I,” Wei Wuxian’s tries to say, but he is gasping so much that his words become unintelligible. “Do you – haahhhh, do you mean it, ah, what –, Lan Zhan!”He seems small, so tightly folded in half, completely subject to Lan Wangji’s strength and will, and yet he could escape with his mouth alone, his creatures just a sharp whistle away. They would come immediately, they have been wary of Lan Wangji from the beginning, their animosity heightened by their arguments. He wants to reach deep inside of Wei Wuxian and remind him of his core, of the rightful path, the bliss of it. His lower dantian burns, energy raging, and he lets it go, welcomes its force. He muffles his groan by biting at Wei Wuxian’s neck. “Going to fill you up, Wei Ying.”“W-wait, Lan Zhan, you need to stop, stop!” His hands flit over Lan Wangji’s back, to his sides, pushing him away. “You can’t, you can’t, you need to pull out, please, please. Lan Zhan, I beg you!”He lets him struggle and claw at him, embraces the promise of marks on himself, something to touch when he will be alone again. His spine tingles, all of him resonates with the racing of his heart and the hum of his qi, his cock twitching inside this warm sheath. It keeps swelling, rubbing up against Wei Wuxian’s wet walls, and suddenly he is no longer bound by the borders of his self. It’s exceedingly more intense than the equilibrium of meditation or sharing his spiritual energy to heal, it’s like his sense of reality is shifted, opened. Wei Wuxian must feel it, too, his whimpers have become constant, he’s crying, fat tears rolling down his jaw and neck and onto Lan Wangji’s tongue.It is the most beautiful thing Lan Wangji has ever experienced, and it is consumed, dissolved with a shock that turns his lungs solid, that makes him run cold, that makes it impossible to move. “Wei Ying,” he breathes, and he hears his voice break as if through a curtain of glass.Wei Wuxian is sobbing silently. His limbs are slack, palms motionless on the back of Lan Wangji’s neck. He is hiccupping softly, lashes clumped and reflecting the light of the moon, his face so, so wet. “You weren’t meant to find out, no one was meant to know, Lan Zhan…”He puts his hand on Wei Wuxian’s abdomen, below his fallen forehead ribbon, can feel his own cock through flesh, can feel the heat of his skin, but there’s nothing else, only a gaping void that wants. It is huge and mean, and it is beckoning Lan Wangji as much as it is rejecting him. It must hurt, it is hurting him even like this, and he can’t bear it, he cries. “Wei Ying…”“It’s alright, it’s all alright, Lan Zhan, you can pull out, you can let me go,” voice toneless, weak. His eyes are open now, bloodshot and dull, avoiding Lan Wangji’s. The space beneath them is grey in comparison to his white face, all his flush gone. Only his mouth is a red frenzy. Then there is a small, horrifying grin. “Monstrosity is not always visible, is it?”He has known for a while now that Wei Wuxian would be his only love. With every act, he considers the outcome not for himself but for Wei Wuxian, too. He loves him so deeply that the thing inside him, the impatient thing that had been shut away more than a decade ago, has awakened, and he is relieved by it. He wants to bring this man, this boy back to Gusu, he wants it so much, to shut him away inside the Cloud Recesses for him to keep, and it had scared him, enraged him, disgusted him by his own weak will. But here, now, hidden on a battlefield, the greed inside him has found its equal.“Shut up,” he spits. “You are mine.”He leans back onto his haunches and pulls Wei Wuxian with him, arms tight around his lifeless torso, bringing him up into his lap and further down onto his cock. He is still hard, still overflowing, and he exercises all his strength to fuck into Wei Wuxian. Nuzzling his cheek, he smears tears between them. “You are mine, Wei Ying. I will not let you leave.”There is something Wei Wuxian is trying to say, so he kisses him quiet, palms him where he has grown soft, his own knuckles bumping against the bulge of his length inside Wei Wuxian’s stomach. “I am going to take you every day, Wei Ying.”Wei Wuxian is shaking his head, but he is reluctantly starting to move up and down himself, sinking every time Lan Wangji grinds upward, bottom lip trembling as much as his thighs. “Don’t, don’t say such foolish things, Lan Zhan.”Lan Wangji rubs his thumb over Wei Wuxian’s cockhead, and it is thickening up again, gives a violent twitch when he digs the fingers of his other hand into Wei Wuxian’s waist and brings him down. He observes his forehead ribbon, tangled between them, the cloud pattern barely visible. In a trance, he wraps it around Wei Wuxian’s length, just tight enough to pull the supple skin.“Hahh, what are you doing, oh…” His cock jerks, weeping with his pleas. Their sounds pick up again, the slapping of their skin loud enough to fill the tent, and there is another surge of wetness, spilling over his legs. He lowers his mouth to Wei Wuxian’s collarbones, follows the sharp line of them, then licks over the scars on his chest. “You are not monstrous,” he says through the pain in his throat. “Wei Ying. Wei Ying.”There’s a whimper, then another one after he lets his teeth graze skin. “You are good, Wei Ying. You are so good.”“Stop, stop,” Wei Wuxian repeats, rutting against him, into his palm and back onto his cock. He’s warm again, pink spots appear on his front. The hair on his groin is brushed flat with sweat, his hot lips skidding over Lan Wangji’s face and finding his. Into their kiss, he mumbles, “I’m not, Lan Zhan, Lan Zhan, be kind.”The force of his spiritual energy is building up again, has never subsided, simmering in its wait. This time he is prepared for the greed, and he feeds it, fucking into Wei Wuxian without having to pull out, the angle perfect like this. His muscles, sore from days of fighting, are delighting in the strain and the effort of his thrusts. He is close, getting closer with the warm tears and spit on his tongue, with Wei Wuxian’s pained noises, with the mold of his pulsing hole. It is seizing up during every other heartbeat, squeezing him tight, like it's hungry for his release, too.“I have never hated you, Wei Ying.” It rips from somewhere deep in his chest, fragile on their lips, until he kisses it into Wei Wuxian’s mouth. He brings his palms up to his cheeks, tips him backward, onto the bedroll again. The pace of his hips turns frantic. “I could never hate Wei Ying.”Wei Wuxian writhes and twists, sobbing and begging for mercy. His cock is resting on the back of Lan Wangji’s hand, the white cloth a bright contrast to his flush. He feels it up, gropes the swell of his stomach, he can’t get enough of the shape of himself inside. He applies pressure, lunges forward, burying down, then he stops supporting himself on the dampened bedroll. His fingers act on their own, they land around Wei Wuxian’s warm neck. It is thrown back: the vulnerable underside of his jaw exposed, ridged throat pressed into Lan Wangji’s palm, quivering. He can hear his own heart in his ears and feels another echoing under his hands, around his cock, beckoning his qi. He is overbrimming with the sense of power.He squeezes. Wei Wuxian’s eyes flutter and roll back. Their breathing is loud, one deep and the other flaring, then sizzling out. They climax simultaneously.Lan Wangji keeps moving Wei Wuxian’s slack body, fucking into his slick hole, groping all over him, smearing Wei Wuxian’s own come into his scars, feeding it to him after he has allowed him to breathe again. Forces him to taste the evidence of his pleasure, pushes it into his willing mouth and kisses it right back out, swallows it greedily as he gives and gives. It doesn’t feel like his spiritual energy is leaving him, it feels like it’s flooding him, knows it must fill Wei Wuxian to the brim, hopes it soaks into him and stains.His teeth no longer ache. He has left their mark, is satisfied with dragging them over Wei Wuxian’s neck and shoulders, into the high bones of his cheeks without biting down. Salt. He has tasted so much salt tonight. His lips sting with it. He kisses Wei Wuxian’s wet lashes and the silken arch of his brows, and leaning back to take him in, he finds Wei Wuxian’s face blissed out, eyes half-lidded and shimmering, lips curved. He is somewhere that is not this tent, not the settlement, not the battlefield, it’s something unbound, something untouched. “Lan Zhan, I have never felt like this…you can’t stop, please…”“Wei Ying,” Lan Wangji whispers, and his cock pulses, spurts again. He can feel his come spilling out, tries to push it inside but only ends up angling deeper and making them both moan. His hips can’t stop moving, albeit slow and steadily. It’s too good to stop and too good to continue, it will tear him apart, this boundless pleasure. He’s caught in an in-between, unable to refrain from grinding inside Wei Wuxian’s used hole, unable to pull out and go back to the way before.“Touch me, Lan Zhan, please,” a melodious sigh. “Your touch…”He takes Wei Wuxian’s hands in his and presses them above his lower dantian. “I am here.”“Here…,” Wei Wuxian echoes, blinking heavily. “You are here.”The overwhelming hunger subsides, and he is starting to remember the outside again, the world behind the tent, the aftermath of the fight, their responsibilities. He will wash them both, will have to wash his forehead ribbon, will have to clean the remains of their deed, and at dawn, they will have to carry on, they will have to bring down the sun. He is looking at Wei Wuxian, his scarred and used body, his softened face hiding his drifting mind, and he knows. This war cannot go on the way it has. Lan Wangji will not allow it.\\xa0\\xa0\\xa0\""
      ]
     },
     "execution_count": 184,
     "metadata": {},
     "output_type": "execute_result"
    }
   ],
   "source": [
    "corpus[7860]"
   ]
  },
  {
   "cell_type": "code",
   "execution_count": null,
   "id": "fifteen-cookbook",
   "metadata": {},
   "outputs": [],
   "source": []
  }
 ],
 "metadata": {
  "kernelspec": {
   "display_name": "Python 3",
   "language": "python",
   "name": "python3"
  },
  "language_info": {
   "codemirror_mode": {
    "name": "ipython",
    "version": 3
   },
   "file_extension": ".py",
   "mimetype": "text/x-python",
   "name": "python",
   "nbconvert_exporter": "python",
   "pygments_lexer": "ipython3",
   "version": "3.8.5"
  },
  "metadata": {
   "interpreter": {
    "hash": "bd4a725fc3d1727b4c35283f6ff1c9e83de9e2bfe34f8722b0a224f030df692c"
   }
  }
 },
 "nbformat": 4,
 "nbformat_minor": 5
}
