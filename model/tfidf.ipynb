{
 "cells": [
  {
   "cell_type": "code",
   "execution_count": 1,
   "id": "lesbian-healing",
   "metadata": {},
   "outputs": [],
   "source": [
    "from sklearn.feature_extraction.text import TfidfVectorizer\n",
    "import numpy as np\n",
    "from sys import getsizeof\n",
    "import torch\n",
    "from tqdm.notebook import tqdm, trange"
   ]
  },
  {
   "cell_type": "code",
   "execution_count": 13,
   "id": "billion-twenty",
   "metadata": {},
   "outputs": [],
   "source": [
    "del df"
   ]
  },
  {
   "cell_type": "code",
   "execution_count": 5,
   "id": "unavailable-mississippi",
   "metadata": {},
   "outputs": [],
   "source": [
    "meta = df.drop(columns=['text'])"
   ]
  },
  {
   "cell_type": "code",
   "execution_count": 11,
   "id": "random-rocket",
   "metadata": {},
   "outputs": [
    {
     "data": {
      "text/plain": [
       "152.444775"
      ]
     },
     "execution_count": 11,
     "metadata": {},
     "output_type": "execute_result"
    }
   ],
   "source": [
    "getsizeof(meta) * 1e-6"
   ]
  },
  {
   "cell_type": "code",
   "execution_count": 15,
   "id": "brown-frank",
   "metadata": {},
   "outputs": [],
   "source": [
    "pickle.dump(meta, open('data/meta.df', 'wb'))"
   ]
  },
  {
   "cell_type": "code",
   "execution_count": 2,
   "id": "above-donna",
   "metadata": {},
   "outputs": [
    {
     "name": "stdout",
     "output_type": "stream",
     "text": [
      "Data from \"data/ao3_ver1_full.p\" loaded. Document Size: 84866. System Memory: 4040.70mb\n"
     ]
    }
   ],
   "source": [
    "from dataloader import *"
   ]
  },
  {
   "cell_type": "code",
   "execution_count": 30,
   "id": "functioning-application",
   "metadata": {
    "collapsed": true,
    "jupyter": {
     "outputs_hidden": true
    }
   },
   "outputs": [
    {
     "ename": "MemoryError",
     "evalue": "",
     "output_type": "error",
     "traceback": [
      "\u001b[1;31m---------------------------------------------------------------------------\u001b[0m",
      "\u001b[1;31mMemoryError\u001b[0m                               Traceback (most recent call last)",
      "\u001b[1;32m<ipython-input-30-56d7b9e10e33>\u001b[0m in \u001b[0;36m<module>\u001b[1;34m\u001b[0m\n\u001b[0;32m      4\u001b[0m     \u001b[0mmax_df\u001b[0m\u001b[1;33m=\u001b[0m\u001b[1;36m0.75\u001b[0m\u001b[1;33m\u001b[0m\u001b[1;33m\u001b[0m\u001b[0m\n\u001b[0;32m      5\u001b[0m )\n\u001b[1;32m----> 6\u001b[1;33m \u001b[0mX\u001b[0m \u001b[1;33m=\u001b[0m \u001b[0mvectorizer\u001b[0m\u001b[1;33m.\u001b[0m\u001b[0mfit_transform\u001b[0m\u001b[1;33m(\u001b[0m\u001b[0mcorpus\u001b[0m\u001b[1;33m)\u001b[0m\u001b[1;33m\u001b[0m\u001b[1;33m\u001b[0m\u001b[0m\n\u001b[0m",
      "\u001b[1;32m~\\anaconda3\\lib\\site-packages\\sklearn\\feature_extraction\\text.py\u001b[0m in \u001b[0;36mfit_transform\u001b[1;34m(self, raw_documents, y)\u001b[0m\n\u001b[0;32m   1848\u001b[0m         \"\"\"\n\u001b[0;32m   1849\u001b[0m         \u001b[0mself\u001b[0m\u001b[1;33m.\u001b[0m\u001b[0m_check_params\u001b[0m\u001b[1;33m(\u001b[0m\u001b[1;33m)\u001b[0m\u001b[1;33m\u001b[0m\u001b[1;33m\u001b[0m\u001b[0m\n\u001b[1;32m-> 1850\u001b[1;33m         \u001b[0mX\u001b[0m \u001b[1;33m=\u001b[0m \u001b[0msuper\u001b[0m\u001b[1;33m(\u001b[0m\u001b[1;33m)\u001b[0m\u001b[1;33m.\u001b[0m\u001b[0mfit_transform\u001b[0m\u001b[1;33m(\u001b[0m\u001b[0mraw_documents\u001b[0m\u001b[1;33m)\u001b[0m\u001b[1;33m\u001b[0m\u001b[1;33m\u001b[0m\u001b[0m\n\u001b[0m\u001b[0;32m   1851\u001b[0m         \u001b[0mself\u001b[0m\u001b[1;33m.\u001b[0m\u001b[0m_tfidf\u001b[0m\u001b[1;33m.\u001b[0m\u001b[0mfit\u001b[0m\u001b[1;33m(\u001b[0m\u001b[0mX\u001b[0m\u001b[1;33m)\u001b[0m\u001b[1;33m\u001b[0m\u001b[1;33m\u001b[0m\u001b[0m\n\u001b[0;32m   1852\u001b[0m         \u001b[1;31m# X is already a transformed view of raw_documents so\u001b[0m\u001b[1;33m\u001b[0m\u001b[1;33m\u001b[0m\u001b[1;33m\u001b[0m\u001b[0m\n",
      "\u001b[1;32m~\\anaconda3\\lib\\site-packages\\sklearn\\feature_extraction\\text.py\u001b[0m in \u001b[0;36mfit_transform\u001b[1;34m(self, raw_documents, y)\u001b[0m\n\u001b[0;32m   1201\u001b[0m         \u001b[0mmax_features\u001b[0m \u001b[1;33m=\u001b[0m \u001b[0mself\u001b[0m\u001b[1;33m.\u001b[0m\u001b[0mmax_features\u001b[0m\u001b[1;33m\u001b[0m\u001b[1;33m\u001b[0m\u001b[0m\n\u001b[0;32m   1202\u001b[0m \u001b[1;33m\u001b[0m\u001b[0m\n\u001b[1;32m-> 1203\u001b[1;33m         vocabulary, X = self._count_vocab(raw_documents,\n\u001b[0m\u001b[0;32m   1204\u001b[0m                                           self.fixed_vocabulary_)\n\u001b[0;32m   1205\u001b[0m \u001b[1;33m\u001b[0m\u001b[0m\n",
      "\u001b[1;32m~\\anaconda3\\lib\\site-packages\\sklearn\\feature_extraction\\text.py\u001b[0m in \u001b[0;36m_count_vocab\u001b[1;34m(self, raw_documents, fixed_vocab)\u001b[0m\n\u001b[0;32m   1124\u001b[0m                     \u001b[1;32mcontinue\u001b[0m\u001b[1;33m\u001b[0m\u001b[1;33m\u001b[0m\u001b[0m\n\u001b[0;32m   1125\u001b[0m \u001b[1;33m\u001b[0m\u001b[0m\n\u001b[1;32m-> 1126\u001b[1;33m             \u001b[0mj_indices\u001b[0m\u001b[1;33m.\u001b[0m\u001b[0mextend\u001b[0m\u001b[1;33m(\u001b[0m\u001b[0mfeature_counter\u001b[0m\u001b[1;33m.\u001b[0m\u001b[0mkeys\u001b[0m\u001b[1;33m(\u001b[0m\u001b[1;33m)\u001b[0m\u001b[1;33m)\u001b[0m\u001b[1;33m\u001b[0m\u001b[1;33m\u001b[0m\u001b[0m\n\u001b[0m\u001b[0;32m   1127\u001b[0m             \u001b[0mvalues\u001b[0m\u001b[1;33m.\u001b[0m\u001b[0mextend\u001b[0m\u001b[1;33m(\u001b[0m\u001b[0mfeature_counter\u001b[0m\u001b[1;33m.\u001b[0m\u001b[0mvalues\u001b[0m\u001b[1;33m(\u001b[0m\u001b[1;33m)\u001b[0m\u001b[1;33m)\u001b[0m\u001b[1;33m\u001b[0m\u001b[1;33m\u001b[0m\u001b[0m\n\u001b[0;32m   1128\u001b[0m             \u001b[0mindptr\u001b[0m\u001b[1;33m.\u001b[0m\u001b[0mappend\u001b[0m\u001b[1;33m(\u001b[0m\u001b[0mlen\u001b[0m\u001b[1;33m(\u001b[0m\u001b[0mj_indices\u001b[0m\u001b[1;33m)\u001b[0m\u001b[1;33m)\u001b[0m\u001b[1;33m\u001b[0m\u001b[1;33m\u001b[0m\u001b[0m\n",
      "\u001b[1;31mMemoryError\u001b[0m: "
     ]
    }
   ],
   "source": [
    "vectorizer = TfidfVectorizer(\n",
    "    stop_words='english',\n",
    "    max_features=12000,\n",
    "    max_df=0.75\n",
    ")\n",
    "X = vectorizer.fit_transform(corpus)"
   ]
  },
  {
   "cell_type": "code",
   "execution_count": 10,
   "id": "after-stuart",
   "metadata": {},
   "outputs": [],
   "source": [
    "q = vectorizer.transform(['In a world where george adopts a dog and it\\'s dream'])"
   ]
  },
  {
   "cell_type": "code",
   "execution_count": 18,
   "id": "critical-recommendation",
   "metadata": {
    "collapsed": true,
    "jupyter": {
     "outputs_hidden": true
    }
   },
   "outputs": [
    {
     "name": "stdout",
     "output_type": "stream",
     "text": [
      "\n",
      "[0]('27296221', 'teeth to tear flesh, and paws to guide you') Teen And Up Audiences\n",
      "['Minecraft (Video Game)', 'Video Blogging RPF']\n",
      "https://archiveofourown.org/works/27296221\n",
      "['Fluff', 'dog dream au', 'Angst', 'why do their tags have their real names grr', 'a bunch of mentioned characters - Freeform', 'not a set in stone finished fic despite the chapter limit', \"i just don't like not having a known amount of chapters\", 'and this is the closest thing ive got to a oneshot book lol']\n",
      "\n",
      "0.8298171812136366\n",
      "\n",
      "[41899]('30497454', 'Puppy Love') Explicit\n",
      "['Minecraft (Video Game)', 'Video Blogging RPF']\n",
      "https://archiveofourown.org/works/30497454\n",
      "['Puppy Play', 'Collars', 'Leashes', 'Blow Jobs', 'Biting', 'Rough Sex', 'Not Beta Read']\n",
      "\n",
      "0.8246685003824132\n",
      "\n",
      "[66706]('30766259', 'kisses on top of the world') Mature\n",
      "['Video Blogging RPF']\n",
      "https://archiveofourown.org/works/30766259\n",
      "['kiss me like you mean it', 'Writing Prompt', 'dreamnotfound', 'Gay', 'Boys In Love', 'No Angst', 'Smut', 'NSFW', 'First Kiss', 'fair date', 'Ferris Wheels', 'thigh riding', 'Face-Fucking', 'Boys Kissing', 'Neck Kissing', 'Rough Kissing', 'Thighs', 'Bottom GeorgeNotFound (Video Blogging RPF)', 'Top Clay | Dream (Video Blogging RPF)', 'Blowjobs', 'Orgasm Denial', 'DNF']\n",
      "\n",
      "0.8073576087305605\n",
      "\n",
      "[31855]('31122092', 'Uneasy Alliance') Explicit\n",
      "['Video Blogging RPF', 'Minecraft (Video Game)']\n",
      "https://archiveofourown.org/works/31122092\n",
      "['Dubious Consent', 'Unhealthy Relationships', 'Minecraft but IRL', 'dream smp verse', 'Loosely based on canon events', 'Prisoner Clay | Dream (Video Blogging RPF)', 'but he escapes', 'Clay | Dream Has a God Complex (Video Blogging RPF)', 'of course he does', 'Possessive Sex', 'Possessive Clay | Dream (Video Blogging RPF)', 'Counter Sex', 'Size Difference', 'Stomach Bulge', 'Pet Names', 'Crying', 'Humiliation', 'Coming Untouched', 'Nostalgia', 'Top Clay | Dream (Video Blogging RPF)', 'Bottom GeorgeNotFound (Video Blogging RPF)', 'Plot What Plot/Porn Without Plot', 'Light Angst', 'Choking']\n",
      "\n",
      "0.8027611772001544\n",
      "\n",
      "[57295]('30436875', 'Earthbound') Explicit\n",
      "['Video Blogging RPF']\n",
      "https://archiveofourown.org/works/30436875\n",
      "['Alternate Universe - Angels & Demons', 'for lack of a better tag', 'Alternate Universe - Heroes', 'Demon Clay | Dream (Video Blogging RPF)', 'Prophesied Hero GeorgeNotFound (Video Blogging RPF)', 'Getting Together', 'Making Out', \"tfw you fall in love with the guy you're supposed to kill\", 'Grinding', 'Praise Kink', 'Porn With Plot', 'too much plot tbh', 'humor AND porn', 'i put the come in comedy', 'Anal Sex', 'chapter 1 and 3 are sfw. chapter 2 is not']\n",
      "\n",
      "0.8027069350103726\n",
      "\n",
      "[4054]('30729191', 'blue, blue, blue') Explicit\n",
      "['Minecraft (Video Game)', 'Video Blogging RPF']\n",
      "https://archiveofourown.org/works/30729191\n",
      "['Friends to Lovers', 'Porn With Plot', 'Praise Kink', 'Morning Sex', 'Blow Jobs', 'Anal Fingering', 'Love Confessions', 'Massage', 'Fluff and Smut', 'Explicit Language', 'Anal Sex', 'Kissing', 'Feelings', 'Boys In Love', 'Morning Cuddles']\n",
      "\n",
      "0.8024236500135864\n",
      "\n",
      "[45622]('30282582', 'Like a Secret In Your Throat') Explicit\n",
      "['Minecraft (Video Game)', 'Video Blogging RPF']\n",
      "https://archiveofourown.org/works/30282582\n",
      "['Alternate Universe - Vampire', 'Alternate Universe - Werewolf', 'Alternate Universe', 'yeah its a vampire/werewolf au', 'Vampire GeorgeNotFound', 'werewolf dream', 'Vampire Sex', 'Werewolf Sex', 'trying to make this as clear as possible this is a vampire werewolf au', 'Established Relationship', 'Biting', 'Power Bottom', 'Power Bottom GeorgeNotFound (Video Blogging RPF)', 'Topping from the Bottom', 'Dom/sub', 'Dirty Talk', 'Pet Names', 'Blood', 'Knotting', 'Possessive Behavior', 'Muzzles', 'dream wears a muzzle', 'george also calls him a mutt and a puppy']\n",
      "\n",
      "0.801566844735545\n",
      "\n",
      "[78837]('30754553', 'Stuck On You') Explicit\n",
      "['Video Blogging RPF']\n",
      "https://archiveofourown.org/works/30754553\n",
      "['imagine the great gatsby but cool', 'and with sex', 'Formalwear', 'formal party', 'Party', 'party au', 'formal party au', 'Suits', 'Suit Sex', '??????', 'Alternate Universe - 1920s', 'Pining', 'Flirting', 'Service Top', 'Praise Kink', 'Neck Kissing', 'Kissing', 'Licking', 'Blow Jobs', 'Semi-Public Sex', 'Public Blow Jobs', 'Oral Sex', 'Hand Jobs', 'Public Hand Jobs', 'Soft Top', 'Top Clay | Dream (Video Blogging RPF)', 'Bottom GeorgeNotFound (Video Blogging RPF)', 'Gentle Sex', 'Anal Sex', 'Porn With Plot', 'Creampie', 'Multiple Orgasms']\n",
      "\n",
      "0.801541761809166\n",
      "\n",
      "[28898]('31219007', 'Bloody Dopamine') Explicit\n",
      "['Video Blogging RPF', 'Minecraft (Video Game)']\n",
      "https://archiveofourown.org/works/31219007\n",
      "['whew boy', 'First Time Blow Jobs', 'Making Out', 'Spit Kink', 'Hickeys', 'A lot - Freeform', 'Like A Lot A Lot', 'Bruises', 'Car Sex', 'Multiple Orgasms', 'Coming Untouched', 'Oral Sex', 'ok so.', 'hear me out', 'they fuck', 'Explicit Sexual Content', 'mentioned karlnap wedding cos why not', 'Friends With Benefits']\n",
      "\n",
      "0.8014897744638306\n",
      "\n",
      "[21623]('29768760', 'telepatía') Not Rated\n",
      "['Video Blogging RPF', 'Minecraft (Video Game)']\n",
      "https://archiveofourown.org/works/29768760\n",
      "['Light Angst', 'Fluff', 'Angst and Fluff and Smut', 'Happy Ending', 'Explicit Sexual Content', 'Phone Sex', 'name truthing', 'coronavirus arc lol', 'Song fic', 'Hand Jobs', 'Blow Jobs', 'Yearning', 'Simp Clay | Dream (Video Blogging RPF)', 'Cuddling & Snuggling', 'Sharing a Bed', 'Soft GeorgeNotFound (Video Blogging RPF)', 'Hair-pulling']\n",
      "\n",
      "0.8011990155739634\n"
     ]
    }
   ],
   "source": [
    "from sklearn.metrics.pairwise import cosine_similarity\n",
    "\n",
    "cs = cosine_similarity(X, q.reshape(1,-1)).flatten()\n",
    "for doc_id in np.argsort(-cs)[:10]:\n",
    "    print_fanfic(doc_id)\n",
    "    print(cs[doc_id])"
   ]
  },
  {
   "cell_type": "code",
   "execution_count": 34,
   "id": "bibliographic-island",
   "metadata": {},
   "outputs": [
    {
     "name": "stdout",
     "output_type": "stream",
     "text": [
      "Wall time: 5.98 ms\n"
     ]
    }
   ],
   "source": [
    "import wordfreq\n",
    "\n",
    "%time tokens = wordfreq.tokenize(corpus[0], 'en')"
   ]
  },
  {
   "cell_type": "code",
   "execution_count": 46,
   "id": "shaped-heather",
   "metadata": {},
   "outputs": [
    {
     "name": "stdout",
     "output_type": "stream",
     "text": [
      "Wall time: 26 ms\n"
     ]
    }
   ],
   "source": [
    "from nltk import word_tokenize, sent_tokenize\n",
    "\n",
    "%time tokens = word_tokenize(corpus[0])"
   ]
  },
  {
   "cell_type": "code",
   "execution_count": 43,
   "id": "accredited-nature",
   "metadata": {},
   "outputs": [
    {
     "name": "stdout",
     "output_type": "stream",
     "text": [
      "Wall time: 0 ns\n"
     ]
    }
   ],
   "source": [
    "import re\n",
    "\n",
    "%time sents = re.split(r'(?<!\\w\\.\\w.)(?<![A-Z][a-z]\\.)(?<=\\.|\\?)\\s', corpus[1].replace('\\n', ' '))"
   ]
  },
  {
   "cell_type": "code",
   "execution_count": 47,
   "id": "unlikely-raise",
   "metadata": {},
   "outputs": [
    {
     "name": "stdout",
     "output_type": "stream",
     "text": [
      "Wall time: 1.02 ms\n"
     ]
    }
   ],
   "source": [
    "%time sents = sent_tokenize(corpus[1].replace('\\n', ' '))"
   ]
  },
  {
   "cell_type": "code",
   "execution_count": 48,
   "id": "selective-dining",
   "metadata": {},
   "outputs": [],
   "source": [
    "import pickle"
   ]
  },
  {
   "cell_type": "code",
   "execution_count": 52,
   "id": "excess-disaster",
   "metadata": {},
   "outputs": [
    {
     "data": {
      "text/html": [
       "<div>\n",
       "<style scoped>\n",
       "    .dataframe tbody tr th:only-of-type {\n",
       "        vertical-align: middle;\n",
       "    }\n",
       "\n",
       "    .dataframe tbody tr th {\n",
       "        vertical-align: top;\n",
       "    }\n",
       "\n",
       "    .dataframe thead th {\n",
       "        text-align: right;\n",
       "    }\n",
       "</style>\n",
       "<table border=\"1\" class=\"dataframe\">\n",
       "  <thead>\n",
       "    <tr style=\"text-align: right;\">\n",
       "      <th></th>\n",
       "      <th>id</th>\n",
       "      <th>title</th>\n",
       "      <th>rating</th>\n",
       "      <th>fandoms</th>\n",
       "      <th>tags</th>\n",
       "      <th>warning</th>\n",
       "      <th>pairing</th>\n",
       "      <th>text</th>\n",
       "    </tr>\n",
       "  </thead>\n",
       "  <tbody>\n",
       "    <tr>\n",
       "      <th>0</th>\n",
       "      <td>27296221</td>\n",
       "      <td>teeth to tear flesh, and paws to guide you</td>\n",
       "      <td>Teen And Up Audiences</td>\n",
       "      <td>[Minecraft (Video Game), Video Blogging RPF]</td>\n",
       "      <td>[Fluff, dog dream au, Angst, why do their tags...</td>\n",
       "      <td>Choose Not To Use Archive Warnings</td>\n",
       "      <td>Gen</td>\n",
       "      <td>\\nChapter Text\\ngeorge wasn't sure where the d...</td>\n",
       "    </tr>\n",
       "    <tr>\n",
       "      <th>1</th>\n",
       "      <td>30992510</td>\n",
       "      <td>string of fate</td>\n",
       "      <td>Not Rated</td>\n",
       "      <td>[Minecraft (Video Game)]</td>\n",
       "      <td>[Red String of Fate, Angst, Hurt No Comfort, P...</td>\n",
       "      <td>No Archive Warnings Apply</td>\n",
       "      <td>M/M</td>\n",
       "      <td>The urge to do it just grew and grew. ‘Just gr...</td>\n",
       "    </tr>\n",
       "    <tr>\n",
       "      <th>2</th>\n",
       "      <td>30992516</td>\n",
       "      <td>He Who's Bathed In Sorrow</td>\n",
       "      <td>Teen And Up Audiences</td>\n",
       "      <td>[Haikyuu!!]</td>\n",
       "      <td>[Hospitals, Hospitalization, Blood, Blood and ...</td>\n",
       "      <td>Major Character Death</td>\n",
       "      <td>M/M</td>\n",
       "      <td>\\nAll is calm in the Kuroo household. A lazy b...</td>\n",
       "    </tr>\n",
       "    <tr>\n",
       "      <th>3</th>\n",
       "      <td>30265179</td>\n",
       "      <td>Atonement</td>\n",
       "      <td>Mature</td>\n",
       "      <td>[Haikyuu!!]</td>\n",
       "      <td>[Minor Hanamaki Takahiro/Matsukawa Issei, Term...</td>\n",
       "      <td>Major Character Death</td>\n",
       "      <td>M/M</td>\n",
       "      <td>\\nChapter Text\\n2:27 am Pacific Time Los Angel...</td>\n",
       "    </tr>\n",
       "    <tr>\n",
       "      <th>4</th>\n",
       "      <td>30992420</td>\n",
       "      <td>The Winner Takes ____?</td>\n",
       "      <td>General Audiences</td>\n",
       "      <td>[Harry Potter - J. K. Rowling]</td>\n",
       "      <td>[Break Up, Heavy Angst, Angst, Hurt No Comfort...</td>\n",
       "      <td>Choose Not To Use Archive Warnings</td>\n",
       "      <td>M/M</td>\n",
       "      <td>\\n\\n\\n\\n“You said there’s something we have to...</td>\n",
       "    </tr>\n",
       "  </tbody>\n",
       "</table>\n",
       "</div>"
      ],
      "text/plain": [
       "         id                                       title  \\\n",
       "0  27296221  teeth to tear flesh, and paws to guide you   \n",
       "1  30992510                              string of fate   \n",
       "2  30992516                   He Who's Bathed In Sorrow   \n",
       "3  30265179                                   Atonement   \n",
       "4  30992420                      The Winner Takes ____?   \n",
       "\n",
       "                  rating                                       fandoms  \\\n",
       "0  Teen And Up Audiences  [Minecraft (Video Game), Video Blogging RPF]   \n",
       "1              Not Rated                      [Minecraft (Video Game)]   \n",
       "2  Teen And Up Audiences                                   [Haikyuu!!]   \n",
       "3                 Mature                                   [Haikyuu!!]   \n",
       "4      General Audiences                [Harry Potter - J. K. Rowling]   \n",
       "\n",
       "                                                tags  \\\n",
       "0  [Fluff, dog dream au, Angst, why do their tags...   \n",
       "1  [Red String of Fate, Angst, Hurt No Comfort, P...   \n",
       "2  [Hospitals, Hospitalization, Blood, Blood and ...   \n",
       "3  [Minor Hanamaki Takahiro/Matsukawa Issei, Term...   \n",
       "4  [Break Up, Heavy Angst, Angst, Hurt No Comfort...   \n",
       "\n",
       "                              warning pairing  \\\n",
       "0  Choose Not To Use Archive Warnings     Gen   \n",
       "1           No Archive Warnings Apply     M/M   \n",
       "2               Major Character Death     M/M   \n",
       "3               Major Character Death     M/M   \n",
       "4  Choose Not To Use Archive Warnings     M/M   \n",
       "\n",
       "                                                text  \n",
       "0  \\nChapter Text\\ngeorge wasn't sure where the d...  \n",
       "1  The urge to do it just grew and grew. ‘Just gr...  \n",
       "2  \\nAll is calm in the Kuroo household. A lazy b...  \n",
       "3  \\nChapter Text\\n2:27 am Pacific Time Los Angel...  \n",
       "4  \\n\\n\\n\\n“You said there’s something we have to...  "
      ]
     },
     "execution_count": 52,
     "metadata": {},
     "output_type": "execute_result"
    }
   ],
   "source": [
    "meta_df = df.drop(columns=['text'])"
   ]
  },
  {
   "cell_type": "code",
   "execution_count": null,
   "id": "missing-physiology",
   "metadata": {},
   "outputs": [],
   "source": []
  }
 ],
 "metadata": {
  "kernelspec": {
   "display_name": "Python 3",
   "language": "python",
   "name": "python3"
  },
  "language_info": {
   "codemirror_mode": {
    "name": "ipython",
    "version": 3
   },
   "file_extension": ".py",
   "mimetype": "text/x-python",
   "name": "python",
   "nbconvert_exporter": "python",
   "pygments_lexer": "ipython3",
   "version": "3.8.5"
  }
 },
 "nbformat": 4,
 "nbformat_minor": 5
}
